{
 "cells": [
  {
   "cell_type": "code",
   "execution_count": 2,
   "metadata": {},
   "outputs": [],
   "source": [
    "import pandas as pd\n",
    "import numpy as np\n",
    "\n"
   ]
  },
  {
   "cell_type": "markdown",
   "metadata": {},
   "source": [
    "**Cargar bases de datos limpias**"
   ]
  },
  {
   "cell_type": "markdown",
   "metadata": {},
   "source": [
    "*Cargamos las bases de datos que la api consumirá para cada una de nuestras funciones. Estas bases de datos se trabajaron externamente para que fueran consumidas por la api de forma correcta.* \n"
   ]
  },
  {
   "cell_type": "code",
   "execution_count": 86,
   "metadata": {},
   "outputs": [],
   "source": [
    "df_1= pd.read_parquet(r'C:\\Users\\Lenovo\\Desktop\\Proyecto Individual\\BD Funciones\\endpoint_1.parquet')"
   ]
  },
  {
   "cell_type": "code",
   "execution_count": 82,
   "metadata": {},
   "outputs": [],
   "source": [
    "df_2= pd.read_parquet(r'C:\\Users\\Lenovo\\Desktop\\Proyecto Individual\\BD Funciones\\endpoint_2.parquet')"
   ]
  },
  {
   "cell_type": "code",
   "execution_count": 83,
   "metadata": {},
   "outputs": [],
   "source": [
    "df_3= pd.read_parquet(r\"C:\\Users\\Lenovo\\Desktop\\Proyecto Individual\\BD Funciones\\endpoint_3.parquet\")"
   ]
  },
  {
   "cell_type": "code",
   "execution_count": 93,
   "metadata": {},
   "outputs": [],
   "source": [
    "df_4= pd.read_parquet(r\"C:\\Users\\Lenovo\\Desktop\\Proyecto Individual\\BD Funciones\\endpoint_4_5.parquet\")"
   ]
  },
  {
   "cell_type": "code",
   "execution_count": 84,
   "metadata": {},
   "outputs": [],
   "source": [
    "df_5= pd.read_parquet(r\"C:\\Users\\Lenovo\\Desktop\\Proyecto Individual\\BD Funciones\\endpoint_4_5.parquet\")"
   ]
  },
  {
   "cell_type": "markdown",
   "metadata": {},
   "source": [
    "*La base de datos endpoint_4_5.parquet, la utilizaremos para las funciones best_developer_year y developer_reviews_analysis*"
   ]
  },
  {
   "cell_type": "code",
   "execution_count": 89,
   "metadata": {},
   "outputs": [
    {
     "data": {
      "text/html": [
       "<div>\n",
       "<style scoped>\n",
       "    .dataframe tbody tr th:only-of-type {\n",
       "        vertical-align: middle;\n",
       "    }\n",
       "\n",
       "    .dataframe tbody tr th {\n",
       "        vertical-align: top;\n",
       "    }\n",
       "\n",
       "    .dataframe thead th {\n",
       "        text-align: right;\n",
       "    }\n",
       "</style>\n",
       "<table border=\"1\" class=\"dataframe\">\n",
       "  <thead>\n",
       "    <tr style=\"text-align: right;\">\n",
       "      <th></th>\n",
       "      <th>user_id</th>\n",
       "      <th>item_id</th>\n",
       "      <th>recommend</th>\n",
       "      <th>item_name</th>\n",
       "      <th>price</th>\n",
       "    </tr>\n",
       "  </thead>\n",
       "  <tbody>\n",
       "    <tr>\n",
       "      <th>0</th>\n",
       "      <td>76561197970982479</td>\n",
       "      <td>1250</td>\n",
       "      <td>True</td>\n",
       "      <td>Killing Floor</td>\n",
       "      <td>19.99</td>\n",
       "    </tr>\n",
       "    <tr>\n",
       "      <th>1</th>\n",
       "      <td>76561197970982479</td>\n",
       "      <td>22200</td>\n",
       "      <td>True</td>\n",
       "      <td>Zeno Clash</td>\n",
       "      <td>9.99</td>\n",
       "    </tr>\n",
       "    <tr>\n",
       "      <th>2</th>\n",
       "      <td>js41637</td>\n",
       "      <td>227300</td>\n",
       "      <td>True</td>\n",
       "      <td>Euro Truck Simulator</td>\n",
       "      <td>19.99</td>\n",
       "    </tr>\n",
       "    <tr>\n",
       "      <th>3</th>\n",
       "      <td>js41637</td>\n",
       "      <td>239030</td>\n",
       "      <td>True</td>\n",
       "      <td>Papers Please</td>\n",
       "      <td>9.99</td>\n",
       "    </tr>\n",
       "    <tr>\n",
       "      <th>4</th>\n",
       "      <td>evcentric</td>\n",
       "      <td>370360</td>\n",
       "      <td>True</td>\n",
       "      <td>TIS</td>\n",
       "      <td>6.99</td>\n",
       "    </tr>\n",
       "    <tr>\n",
       "      <th>...</th>\n",
       "      <td>...</td>\n",
       "      <td>...</td>\n",
       "      <td>...</td>\n",
       "      <td>...</td>\n",
       "      <td>...</td>\n",
       "    </tr>\n",
       "    <tr>\n",
       "      <th>37252</th>\n",
       "      <td>76561198239215706</td>\n",
       "      <td>730</td>\n",
       "      <td>True</td>\n",
       "      <td>CounterStrike Global Offensive</td>\n",
       "      <td>14.99</td>\n",
       "    </tr>\n",
       "    <tr>\n",
       "      <th>37253</th>\n",
       "      <td>wayfeng</td>\n",
       "      <td>730</td>\n",
       "      <td>True</td>\n",
       "      <td>CounterStrike Global Offensive</td>\n",
       "      <td>14.99</td>\n",
       "    </tr>\n",
       "    <tr>\n",
       "      <th>37254</th>\n",
       "      <td>76561198251004808</td>\n",
       "      <td>253980</td>\n",
       "      <td>True</td>\n",
       "      <td>Enclave</td>\n",
       "      <td>4.99</td>\n",
       "    </tr>\n",
       "    <tr>\n",
       "      <th>37255</th>\n",
       "      <td>72947282842</td>\n",
       "      <td>730</td>\n",
       "      <td>True</td>\n",
       "      <td>CounterStrike Global Offensive</td>\n",
       "      <td>14.99</td>\n",
       "    </tr>\n",
       "    <tr>\n",
       "      <th>37256</th>\n",
       "      <td>ApxLGhost</td>\n",
       "      <td>730</td>\n",
       "      <td>True</td>\n",
       "      <td>CounterStrike Global Offensive</td>\n",
       "      <td>14.99</td>\n",
       "    </tr>\n",
       "  </tbody>\n",
       "</table>\n",
       "<p>37257 rows × 5 columns</p>\n",
       "</div>"
      ],
      "text/plain": [
       "                 user_id  item_id  recommend                       item_name  \\\n",
       "0      76561197970982479     1250       True                   Killing Floor   \n",
       "1      76561197970982479    22200       True                      Zeno Clash   \n",
       "2                js41637   227300       True           Euro Truck Simulator    \n",
       "3                js41637   239030       True                   Papers Please   \n",
       "4              evcentric   370360       True                             TIS   \n",
       "...                  ...      ...        ...                             ...   \n",
       "37252  76561198239215706      730       True  CounterStrike Global Offensive   \n",
       "37253            wayfeng      730       True  CounterStrike Global Offensive   \n",
       "37254  76561198251004808   253980       True                         Enclave   \n",
       "37255        72947282842      730       True  CounterStrike Global Offensive   \n",
       "37256          ApxLGhost      730       True  CounterStrike Global Offensive   \n",
       "\n",
       "       price  \n",
       "0      19.99  \n",
       "1       9.99  \n",
       "2      19.99  \n",
       "3       9.99  \n",
       "4       6.99  \n",
       "...      ...  \n",
       "37252  14.99  \n",
       "37253  14.99  \n",
       "37254   4.99  \n",
       "37255  14.99  \n",
       "37256  14.99  \n",
       "\n",
       "[37257 rows x 5 columns]"
      ]
     },
     "execution_count": 89,
     "metadata": {},
     "output_type": "execute_result"
    }
   ],
   "source": [
    "df_2"
   ]
  },
  {
   "cell_type": "markdown",
   "metadata": {},
   "source": [
    "# EndPoint 1"
   ]
  },
  {
   "cell_type": "markdown",
   "metadata": {},
   "source": [
    "*Necesitamos crear nuestro primer endpoint, que corresponde a una función developer(desarrollador: str) que devuelve la cantidad de items y porcentaje de contenido FREE por año según empresa desarrolladora.* "
   ]
  },
  {
   "cell_type": "code",
   "execution_count": 94,
   "metadata": {},
   "outputs": [
    {
     "ename": "ValueError",
     "evalue": "Operands are not aligned. Do `left, right = left.align(right, axis=1, copy=False)` before operating.",
     "output_type": "error",
     "traceback": [
      "\u001b[1;31m---------------------------------------------------------------------------\u001b[0m",
      "\u001b[1;31mValueError\u001b[0m                                Traceback (most recent call last)",
      "\u001b[1;32m~\\AppData\\Local\\Temp\\ipykernel_4336\\3292488787.py\u001b[0m in \u001b[0;36m?\u001b[1;34m()\u001b[0m\n\u001b[0;32m     24\u001b[0m     \u001b[1;32mreturn\u001b[0m \u001b[0mresultado\u001b[0m\u001b[1;33m\u001b[0m\u001b[1;33m\u001b[0m\u001b[0m\n\u001b[0;32m     25\u001b[0m \u001b[1;33m\u001b[0m\u001b[0m\n\u001b[0;32m     26\u001b[0m \u001b[1;31m# Ejemplo de uso\u001b[0m\u001b[1;33m\u001b[0m\u001b[1;33m\u001b[0m\u001b[0m\n\u001b[0;32m     27\u001b[0m \u001b[0mdev\u001b[0m \u001b[1;33m=\u001b[0m \u001b[1;34m'Dovetail Games'\u001b[0m  \u001b[1;31m# Cambia por el nombre del developer que quieras consultar\u001b[0m\u001b[1;33m\u001b[0m\u001b[1;33m\u001b[0m\u001b[0m\n\u001b[1;32m---> 28\u001b[1;33m \u001b[0mdeveloper\u001b[0m\u001b[1;33m(\u001b[0m\u001b[0mdf_1\u001b[0m\u001b[1;33m,\u001b[0m \u001b[0mdev\u001b[0m\u001b[1;33m)\u001b[0m\u001b[1;33m\u001b[0m\u001b[1;33m\u001b[0m\u001b[0m\n\u001b[0m\u001b[0;32m     29\u001b[0m \u001b[1;33m\u001b[0m\u001b[0m\n",
      "\u001b[1;32m~\\AppData\\Local\\Temp\\ipykernel_4336\\3292488787.py\u001b[0m in \u001b[0;36m?\u001b[1;34m(developer, df)\u001b[0m\n\u001b[0;32m      2\u001b[0m     ''' devuelve la cantidad de items y porcentaje de contenido\n\u001b[0;32m      3\u001b[0m       \u001b[0mFREE\u001b[0m \u001b[0mpor\u001b[0m \u001b[0maño\u001b[0m \u001b[0msegún\u001b[0m \u001b[0mempresa\u001b[0m \u001b[0mdesarrolladora\u001b[0m\u001b[1;33m.\u001b[0m\u001b[1;33m\u001b[0m\u001b[1;33m\u001b[0m\u001b[0m\n\u001b[0;32m      4\u001b[0m       \u001b[0mParámetros\u001b[0m\u001b[1;33m:\u001b[0m\u001b[1;33m\u001b[0m\u001b[1;33m\u001b[0m\u001b[0m\n\u001b[0;32m      5\u001b[0m       developer: nombre de desarrollador'''\n\u001b[1;32m----> 6\u001b[1;33m     \u001b[0mdf_filtrado\u001b[0m \u001b[1;33m=\u001b[0m \u001b[0mdf_1\u001b[0m\u001b[1;33m[\u001b[0m\u001b[0mdf_1\u001b[0m\u001b[1;33m[\u001b[0m\u001b[1;34m'developer'\u001b[0m\u001b[1;33m]\u001b[0m \u001b[1;33m==\u001b[0m \u001b[0mdeveloper\u001b[0m\u001b[1;33m]\u001b[0m\u001b[1;33m\u001b[0m\u001b[1;33m\u001b[0m\u001b[0m\n\u001b[0m\u001b[0;32m      7\u001b[0m \u001b[1;33m\u001b[0m\u001b[0m\n\u001b[0;32m      8\u001b[0m     \u001b[1;32mif\u001b[0m \u001b[0mdf_filtrado\u001b[0m\u001b[1;33m.\u001b[0m\u001b[0mempty\u001b[0m\u001b[1;33m:\u001b[0m\u001b[1;33m\u001b[0m\u001b[1;33m\u001b[0m\u001b[0m\n\u001b[0;32m      9\u001b[0m         \u001b[1;32mreturn\u001b[0m \u001b[1;33mf\"\u001b[0m\u001b[1;33mNo se encontraron datos para el developer: \u001b[0m\u001b[1;33m{\u001b[0m\u001b[0mdeveloper\u001b[0m\u001b[1;33m}\u001b[0m\u001b[1;33m\"\u001b[0m\u001b[1;33m\u001b[0m\u001b[1;33m\u001b[0m\u001b[0m\n",
      "\u001b[1;32mc:\\Users\\Lenovo\\AppData\\Local\\Programs\\Python\\Python312\\Lib\\site-packages\\pandas\\core\\ops\\common.py\u001b[0m in \u001b[0;36m?\u001b[1;34m(self, other)\u001b[0m\n\u001b[0;32m     72\u001b[0m                     \u001b[1;32mreturn\u001b[0m \u001b[0mNotImplemented\u001b[0m\u001b[1;33m\u001b[0m\u001b[1;33m\u001b[0m\u001b[0m\n\u001b[0;32m     73\u001b[0m \u001b[1;33m\u001b[0m\u001b[0m\n\u001b[0;32m     74\u001b[0m         \u001b[0mother\u001b[0m \u001b[1;33m=\u001b[0m \u001b[0mitem_from_zerodim\u001b[0m\u001b[1;33m(\u001b[0m\u001b[0mother\u001b[0m\u001b[1;33m)\u001b[0m\u001b[1;33m\u001b[0m\u001b[1;33m\u001b[0m\u001b[0m\n\u001b[0;32m     75\u001b[0m \u001b[1;33m\u001b[0m\u001b[0m\n\u001b[1;32m---> 76\u001b[1;33m         \u001b[1;32mreturn\u001b[0m \u001b[0mmethod\u001b[0m\u001b[1;33m(\u001b[0m\u001b[0mself\u001b[0m\u001b[1;33m,\u001b[0m \u001b[0mother\u001b[0m\u001b[1;33m)\u001b[0m\u001b[1;33m\u001b[0m\u001b[1;33m\u001b[0m\u001b[0m\n\u001b[0m",
      "\u001b[1;32mc:\\Users\\Lenovo\\AppData\\Local\\Programs\\Python\\Python312\\Lib\\site-packages\\pandas\\core\\arraylike.py\u001b[0m in \u001b[0;36m?\u001b[1;34m(self, other)\u001b[0m\n\u001b[0;32m     38\u001b[0m     \u001b[1;33m@\u001b[0m\u001b[0munpack_zerodim_and_defer\u001b[0m\u001b[1;33m(\u001b[0m\u001b[1;34m\"__eq__\"\u001b[0m\u001b[1;33m)\u001b[0m\u001b[1;33m\u001b[0m\u001b[1;33m\u001b[0m\u001b[0m\n\u001b[0;32m     39\u001b[0m     \u001b[1;32mdef\u001b[0m \u001b[0m__eq__\u001b[0m\u001b[1;33m(\u001b[0m\u001b[0mself\u001b[0m\u001b[1;33m,\u001b[0m \u001b[0mother\u001b[0m\u001b[1;33m)\u001b[0m\u001b[1;33m:\u001b[0m\u001b[1;33m\u001b[0m\u001b[1;33m\u001b[0m\u001b[0m\n\u001b[1;32m---> 40\u001b[1;33m         \u001b[1;32mreturn\u001b[0m \u001b[0mself\u001b[0m\u001b[1;33m.\u001b[0m\u001b[0m_cmp_method\u001b[0m\u001b[1;33m(\u001b[0m\u001b[0mother\u001b[0m\u001b[1;33m,\u001b[0m \u001b[0moperator\u001b[0m\u001b[1;33m.\u001b[0m\u001b[0meq\u001b[0m\u001b[1;33m)\u001b[0m\u001b[1;33m\u001b[0m\u001b[1;33m\u001b[0m\u001b[0m\n\u001b[0m",
      "\u001b[1;32mc:\\Users\\Lenovo\\AppData\\Local\\Programs\\Python\\Python312\\Lib\\site-packages\\pandas\\core\\frame.py\u001b[0m in \u001b[0;36m?\u001b[1;34m(self, other, op)\u001b[0m\n\u001b[0;32m   7894\u001b[0m     \u001b[1;32mdef\u001b[0m \u001b[0m_cmp_method\u001b[0m\u001b[1;33m(\u001b[0m\u001b[0mself\u001b[0m\u001b[1;33m,\u001b[0m \u001b[0mother\u001b[0m\u001b[1;33m,\u001b[0m \u001b[0mop\u001b[0m\u001b[1;33m)\u001b[0m\u001b[1;33m:\u001b[0m\u001b[1;33m\u001b[0m\u001b[1;33m\u001b[0m\u001b[0m\n\u001b[0;32m   7895\u001b[0m         \u001b[0maxis\u001b[0m\u001b[1;33m:\u001b[0m \u001b[0mLiteral\u001b[0m\u001b[1;33m[\u001b[0m\u001b[1;36m1\u001b[0m\u001b[1;33m]\u001b[0m \u001b[1;33m=\u001b[0m \u001b[1;36m1\u001b[0m  \u001b[1;31m# only relevant for Series other case\u001b[0m\u001b[1;33m\u001b[0m\u001b[1;33m\u001b[0m\u001b[0m\n\u001b[0;32m   7896\u001b[0m \u001b[1;33m\u001b[0m\u001b[0m\n\u001b[1;32m-> 7897\u001b[1;33m         \u001b[0mself\u001b[0m\u001b[1;33m,\u001b[0m \u001b[0mother\u001b[0m \u001b[1;33m=\u001b[0m \u001b[0mself\u001b[0m\u001b[1;33m.\u001b[0m\u001b[0m_align_for_op\u001b[0m\u001b[1;33m(\u001b[0m\u001b[0mother\u001b[0m\u001b[1;33m,\u001b[0m \u001b[0maxis\u001b[0m\u001b[1;33m,\u001b[0m \u001b[0mflex\u001b[0m\u001b[1;33m=\u001b[0m\u001b[1;32mFalse\u001b[0m\u001b[1;33m,\u001b[0m \u001b[0mlevel\u001b[0m\u001b[1;33m=\u001b[0m\u001b[1;32mNone\u001b[0m\u001b[1;33m)\u001b[0m\u001b[1;33m\u001b[0m\u001b[1;33m\u001b[0m\u001b[0m\n\u001b[0m\u001b[0;32m   7898\u001b[0m \u001b[1;33m\u001b[0m\u001b[0m\n\u001b[0;32m   7899\u001b[0m         \u001b[1;31m# See GH#4537 for discussion of scalar op behavior\u001b[0m\u001b[1;33m\u001b[0m\u001b[1;33m\u001b[0m\u001b[0m\n\u001b[0;32m   7900\u001b[0m         \u001b[0mnew_data\u001b[0m \u001b[1;33m=\u001b[0m \u001b[0mself\u001b[0m\u001b[1;33m.\u001b[0m\u001b[0m_dispatch_frame_op\u001b[0m\u001b[1;33m(\u001b[0m\u001b[0mother\u001b[0m\u001b[1;33m,\u001b[0m \u001b[0mop\u001b[0m\u001b[1;33m,\u001b[0m \u001b[0maxis\u001b[0m\u001b[1;33m=\u001b[0m\u001b[0maxis\u001b[0m\u001b[1;33m)\u001b[0m\u001b[1;33m\u001b[0m\u001b[1;33m\u001b[0m\u001b[0m\n",
      "\u001b[1;32mc:\\Users\\Lenovo\\AppData\\Local\\Programs\\Python\\Python312\\Lib\\site-packages\\pandas\\core\\frame.py\u001b[0m in \u001b[0;36m?\u001b[1;34m(self, other, axis, flex, level)\u001b[0m\n\u001b[0;32m   8201\u001b[0m             \u001b[1;31m# axis=1 is default for DataFrame-with-Series op\u001b[0m\u001b[1;33m\u001b[0m\u001b[1;33m\u001b[0m\u001b[0m\n\u001b[0;32m   8202\u001b[0m             \u001b[0maxis\u001b[0m \u001b[1;33m=\u001b[0m \u001b[0maxis\u001b[0m \u001b[1;32mif\u001b[0m \u001b[0maxis\u001b[0m \u001b[1;32mis\u001b[0m \u001b[1;32mnot\u001b[0m \u001b[1;32mNone\u001b[0m \u001b[1;32melse\u001b[0m \u001b[1;36m1\u001b[0m\u001b[1;33m\u001b[0m\u001b[1;33m\u001b[0m\u001b[0m\n\u001b[0;32m   8203\u001b[0m             \u001b[1;32mif\u001b[0m \u001b[1;32mnot\u001b[0m \u001b[0mflex\u001b[0m\u001b[1;33m:\u001b[0m\u001b[1;33m\u001b[0m\u001b[1;33m\u001b[0m\u001b[0m\n\u001b[0;32m   8204\u001b[0m                 \u001b[1;32mif\u001b[0m \u001b[1;32mnot\u001b[0m \u001b[0mleft\u001b[0m\u001b[1;33m.\u001b[0m\u001b[0maxes\u001b[0m\u001b[1;33m[\u001b[0m\u001b[0maxis\u001b[0m\u001b[1;33m]\u001b[0m\u001b[1;33m.\u001b[0m\u001b[0mequals\u001b[0m\u001b[1;33m(\u001b[0m\u001b[0mright\u001b[0m\u001b[1;33m.\u001b[0m\u001b[0mindex\u001b[0m\u001b[1;33m)\u001b[0m\u001b[1;33m:\u001b[0m\u001b[1;33m\u001b[0m\u001b[1;33m\u001b[0m\u001b[0m\n\u001b[1;32m-> 8205\u001b[1;33m                     raise ValueError(\n\u001b[0m\u001b[0;32m   8206\u001b[0m                         \u001b[1;34m\"Operands are not aligned. Do \"\u001b[0m\u001b[1;33m\u001b[0m\u001b[1;33m\u001b[0m\u001b[0m\n\u001b[0;32m   8207\u001b[0m                         \u001b[1;34m\"`left, right = left.align(right, axis=1, copy=False)` \"\u001b[0m\u001b[1;33m\u001b[0m\u001b[1;33m\u001b[0m\u001b[0m\n\u001b[0;32m   8208\u001b[0m                         \u001b[1;34m\"before operating.\"\u001b[0m\u001b[1;33m\u001b[0m\u001b[1;33m\u001b[0m\u001b[0m\n",
      "\u001b[1;31mValueError\u001b[0m: Operands are not aligned. Do `left, right = left.align(right, axis=1, copy=False)` before operating."
     ]
    }
   ],
   "source": [
    "def developer(developer: str, df: pd.DataFrame):\n",
    "    ''' devuelve la cantidad de items y porcentaje de contenido\n",
    "      FREE por año según empresa desarrolladora.\n",
    "      Parámetros:\n",
    "      developer: nombre de desarrollador'''\n",
    "    df_filtrado = df_1[df_1['developer'] == developer]\n",
    "    \n",
    "    if df_filtrado.empty:\n",
    "        return f\"No se encontraron datos para el developer: {developer}\"\n",
    "    \n",
    "    # Agrupa por año y cuenta la cantidad de juegos por año\n",
    "    conteo_apps = df_filtrado.groupby('year')['app_name'].count().reset_index()\n",
    "    conteo_apps = conteo_apps.rename(columns={'app_name': 'Cantidad de Ítems'})\n",
    "\n",
    "    # Calcula el porcentaje de aplicaciones gratuitas (price = 0)\n",
    "    gratuitas = df_filtrado[df_filtrado['price'] == 0].groupby('year')['app_name'].count()\n",
    "    total_por_año = df_filtrado.groupby('year')['app_name'].count()\n",
    "    porcentaje_gratis = (gratuitas / total_por_año * 100).reset_index(name='Contenido Free')\n",
    "\n",
    "    # Combina los resultados en un solo DataFrame\n",
    "    resultado = pd.merge(conteo_apps, porcentaje_gratis, on='year', how='left').fillna(0)\n",
    "    resultado['Contenido Free'] = resultado['Contenido Free'].astype(int).astype(str) + '%'\n",
    "\n",
    "    return resultado\n",
    "\n",
    "# Chequear \n",
    "dev = 'Dovetail Games'  \n",
    "developer(df_1, dev)\n",
    "\n"
   ]
  },
  {
   "cell_type": "markdown",
   "metadata": {},
   "source": [
    "# Endpoint_2"
   ]
  },
  {
   "cell_type": "markdown",
   "metadata": {},
   "source": [
    "*Función userdata (User_id : str) Debe devolver cantidad de dinero gastado por el usuario, el porcentaje de recomendación en base a reviews recommend y la cantidad de items*"
   ]
  },
  {
   "cell_type": "code",
   "execution_count": 38,
   "metadata": {},
   "outputs": [
    {
     "name": "stdout",
     "output_type": "stream",
     "text": [
      "{'User_id': '76561197970982479', 'Total_gastado': 29.98, '%_recomendacion': 100.0, 'Cantidad_items': 2}\n"
     ]
    }
   ],
   "source": [
    "def userdata(df, user_id):\n",
    "    # Se filtran los datos para el usuario dado\n",
    "    user_data = df[df['user_id'] ==user_id]\n",
    "\n",
    "    if user_data.empty:\n",
    "        return {\"Error\": f\"No se encontraron datos para el usuario: {user_id}\"}\n",
    "\n",
    "    # Calcula la cantidad de dinero gastado\n",
    "    total_spent = user_data['price'].sum()\n",
    "\n",
    "    # Calcula el porcentaje de recomendaciones (True vs. total de reviews)\n",
    "    recommend_percentage = (user_data['recommend'].mean()) * 100\n",
    "\n",
    "    # Calcula la cantidad de ítems comprados o revisados\n",
    "    total_items = user_data['item_id'].nunique()\n",
    "\n",
    "    # Retorna los resultados en un diccionario\n",
    "    return {\n",
    "        \"User_id\": user_id,\n",
    "        \"Total_gastado\": round(total_spent, 2),\n",
    "        \"%_recomendacion\": round(recommend_percentage, 2),\n",
    "        \"Cantidad_items\": total_items\n",
    "    }\n",
    "\n",
    "# Ejemplo de uso\n",
    "result = userdata(df_merged,'76561197970982479')\n",
    "print(result)"
   ]
  },
  {
   "cell_type": "markdown",
   "metadata": {},
   "source": [
    "# EndPoint 3"
   ]
  },
  {
   "cell_type": "markdown",
   "metadata": {},
   "source": [
    "*Función uUserForGenre (genero: str) Debe devolver el usuario que acumula más horas jugadas para el género dado y una lista de la acumulación de horas jugadas por año de lanzamiento."
   ]
  },
  {
   "cell_type": "code",
   "execution_count": 167,
   "metadata": {},
   "outputs": [],
   "source": [
    "def UserForGenre(df, genero):\n",
    "    # Se filtra el DataFrame por el género seleccionado\n",
    "    genre_data = df[df['genres'] == genero]\n",
    "\n",
    "    # Se calcula las horas de juego por usuario (user_id)\n",
    "    horas_por_usuario = genre_data.groupby('user_id')['playtime_forever_hours'].sum()\n",
    "\n",
    "    # Se encuentra el 'user_id' con más horas jugadas en este género\n",
    "    max_jugador = horas_por_usuario.idxmax()\n",
    "\n",
    "    # Se filtran los datos solo para el jugador con más horas\n",
    "    datos_jugador = genre_data[genre_data['user_id'] == max_jugador]\n",
    "\n",
    "    # Agrupar por año y sumar las horas jugadas por año\n",
    "    horas_por_año = datos_jugador.groupby('year')['playtime_forever_hours'].sum().reset_index()\n",
    "\n",
    "    # Convertir el resultado a una lista de diccionarios\n",
    "    max_usuario_año_playtime_list = [\n",
    "        {\"Año\": int(year), \"Horas\": float(hours)} for year, hours in zip(horas_por_año['year'], horas_por_año['playtime_forever_hours'].round(1))\n",
    "    ]\n",
    "\n",
    "    # Retornar los resultados como un diccionario\n",
    "    return {\n",
    "        \"Género\": genero,\n",
    "        \"Usuario\": max_jugador,\n",
    "        \"Horas_jugadas_por_año\": max_usuario_año_playtime_list\n",
    "    }\n",
    "\n",
    " "
   ]
  },
  {
   "cell_type": "code",
   "execution_count": 168,
   "metadata": {},
   "outputs": [
    {
     "data": {
      "text/plain": [
       "{'Género': 'Action',\n",
       " 'Usuario': 'laerte261',\n",
       " 'Horas_jugadas_por_año': [{'Año': 2012, 'Horas': 0.5},\n",
       "  {'Año': 2013, 'Horas': 4836.3}]}"
      ]
     },
     "execution_count": 168,
     "metadata": {},
     "output_type": "execute_result"
    }
   ],
   "source": [
    "genero='Action'\n",
    "UserForGenre(df_endpoint3, genero)"
   ]
  },
  {
   "cell_type": "markdown",
   "metadata": {},
   "source": [
    "# Endpoint 4"
   ]
  },
  {
   "cell_type": "code",
   "execution_count": 80,
   "metadata": {},
   "outputs": [
    {
     "data": {
      "text/plain": [
       "[{'Puesto 1': 'Valve'},\n",
       " {'Puesto 2': 'Team Digital Ltd'},\n",
       " {'Puesto 3': 'Double Fine Productions'}]"
      ]
     },
     "execution_count": 80,
     "metadata": {},
     "output_type": "execute_result"
    }
   ],
   "source": [
    "def top3_developers_by_year(year: int, df: pd.DataFrame):\n",
    "    \"\"\"\n",
    "    Esta función devuelve una lista de diccionarios con los 3 desarrolladores \n",
    "    con más juegos recomendados por los usuarios para un año específico.\n",
    "\n",
    "    Parámetros:\n",
    "    - year: Año para el cual se desea obtener el top 3 de desarrolladores.\n",
    "    - df: DataFrame con los datos de juegos.\n",
    "\n",
    "    Retorno:\n",
    "    - Lista de diccionarios en el formato [{'Puesto 1': X}, {'Puesto 2': Y}, {'Puesto 3': Z}].\n",
    "    \"\"\"\n",
    "    # Filtrar el DataFrame por el año proporcionado\n",
    "    df_year = df[df['year'] == year]\n",
    "\n",
    "    # Filtrar los juegos que fueron recomendados (true_recommend == True)\n",
    "    df_recommended = df_year[df_year['true_recommend'] == True]\n",
    "\n",
    "    # Contar la cantidad de juegos recomendados por cada desarrollador\n",
    "    top_developers = (\n",
    "        df_recommended.groupby('developer')['item_name']\n",
    "        .nunique()  # Contar juegos únicos recomendados por cada developer\n",
    "        .sort_values(ascending=False)  # Ordenar de mayor a menor\n",
    "        .head(3)  # Obtener los 3 primeros\n",
    "    )\n",
    "\n",
    "    # Crear la lista de diccionarios con los puestos\n",
    "    resultado = [\n",
    "        {f\"Puesto {i + 1}\": developer}\n",
    "        for i, developer in enumerate(top_developers.index)\n",
    "    ]\n",
    "\n",
    "    return resultado\n",
    "top3_developers_by_year(2014,df_merged_5)"
   ]
  },
  {
   "cell_type": "markdown",
   "metadata": {},
   "source": [
    "# EndPoint 5"
   ]
  },
  {
   "cell_type": "code",
   "execution_count": 71,
   "metadata": {},
   "outputs": [],
   "source": [
    "def developer_reviews_analysis(desarrollador: str, df: pd.DataFrame):\n",
    "    \"\"\"\n",
    "    Devuelve un diccionario con el nombre del desarrollador como llave y \n",
    "    una lista con el total de reseñas categorizadas como negativas y positivas.\n",
    "    \n",
    "    Parámetros:\n",
    "    - desarrollador: Nombre del desarrollador a analizar.\n",
    "    - df: DataFrame con los datos de reseñas y análisis de sentimiento.\n",
    "\n",
    "    Retorno:\n",
    "    - Diccionario en el formato {'Developer': [Negative = X, Positive = Y]}.\n",
    "    \"\"\"\n",
    "\n",
    "    # Filtrar los datos por el desarrollador proporcionado\n",
    "    developer_df = df[df['developer'] == desarrollador]\n",
    "\n",
    "    if developer_df.empty:\n",
    "        return {desarrollador: 'No hay registros para este desarrollador'}\n",
    "\n",
    "    # Contar las reseñas negativas (asumimos que 'sentiment_analysis' == 0 es negativo)\n",
    "    negative_count = developer_df[developer_df['sentiment_analysis'] == 0].shape[0]\n",
    "\n",
    "    # Contar las reseñas positivas (asumimos que 'sentiment_analysis' == 1 es positivo)\n",
    "    positive_count = developer_df[developer_df['sentiment_analysis'] == 1].shape[0]\n",
    "\n",
    "    # Crear el diccionario con los resultados\n",
    "    resultado = {\n",
    "        desarrollador: [f\"Negative = {negative_count}\", f\"Positive = {positive_count}\"]\n",
    "    }\n",
    "\n",
    "    return resultado"
   ]
  },
  {
   "cell_type": "code",
   "execution_count": 77,
   "metadata": {},
   "outputs": [
    {
     "data": {
      "text/plain": [
       "{'Valve': ['Negative = 438', 'Positive = 165']}"
      ]
     },
     "execution_count": 77,
     "metadata": {},
     "output_type": "execute_result"
    }
   ],
   "source": [
    "developer_reviews_analysis('Valve', df_merged_5)"
   ]
  }
 ],
 "metadata": {
  "kernelspec": {
   "display_name": "Python 3",
   "language": "python",
   "name": "python3"
  },
  "language_info": {
   "codemirror_mode": {
    "name": "ipython",
    "version": 3
   },
   "file_extension": ".py",
   "mimetype": "text/x-python",
   "name": "python",
   "nbconvert_exporter": "python",
   "pygments_lexer": "ipython3",
   "version": "3.12.3"
  }
 },
 "nbformat": 4,
 "nbformat_minor": 2
}
