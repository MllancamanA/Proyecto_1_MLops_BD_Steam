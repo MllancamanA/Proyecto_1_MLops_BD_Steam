{
 "cells": [
  {
   "cell_type": "code",
   "execution_count": 6,
   "metadata": {},
   "outputs": [],
   "source": [
    "# Import libraries\n",
    "import pandas as pd\n",
    "import numpy as np\n",
    "import re\n",
    "import matplotlib.pyplot as plt\n",
    "import seaborn as sns\n",
    "%matplotlib inline\n"
   ]
  },
  {
   "cell_type": "markdown",
   "metadata": {},
   "source": [
    "## 1. EDA Dataset Reviews ##"
   ]
  },
  {
   "cell_type": "code",
   "execution_count": 7,
   "metadata": {},
   "outputs": [],
   "source": [
    "# Carga de base de datos de reviews\n",
    "df_reviews= pd.read_parquet(r'C:\\Users\\Lenovo\\Desktop\\Proyecto Individual\\Datasets\\Analisis_Sentimient\\Reviews_sent_analysis.parquet')\n"
   ]
  },
  {
   "cell_type": "code",
   "execution_count": 8,
   "metadata": {},
   "outputs": [],
   "source": [
    "#Revisamos nuestra base de datos para saber si hay algo más que ajustar en nuestra columna review"
   ]
  },
  {
   "cell_type": "code",
   "execution_count": 9,
   "metadata": {},
   "outputs": [
    {
     "data": {
      "text/html": [
       "<div>\n",
       "<style scoped>\n",
       "    .dataframe tbody tr th:only-of-type {\n",
       "        vertical-align: middle;\n",
       "    }\n",
       "\n",
       "    .dataframe tbody tr th {\n",
       "        vertical-align: top;\n",
       "    }\n",
       "\n",
       "    .dataframe thead th {\n",
       "        text-align: right;\n",
       "    }\n",
       "</style>\n",
       "<table border=\"1\" class=\"dataframe\">\n",
       "  <thead>\n",
       "    <tr style=\"text-align: right;\">\n",
       "      <th></th>\n",
       "      <th>user_id</th>\n",
       "      <th>posted</th>\n",
       "      <th>item_id</th>\n",
       "      <th>recommend</th>\n",
       "      <th>review</th>\n",
       "      <th>sentiment_analysis</th>\n",
       "    </tr>\n",
       "  </thead>\n",
       "  <tbody>\n",
       "    <tr>\n",
       "      <th>9304</th>\n",
       "      <td>bow47</td>\n",
       "      <td>Posted March 27.</td>\n",
       "      <td>730</td>\n",
       "      <td>True</td>\n",
       "      <td>lol</td>\n",
       "      <td>2</td>\n",
       "    </tr>\n",
       "    <tr>\n",
       "      <th>43660</th>\n",
       "      <td>ErrorT3rm1n4l</td>\n",
       "      <td>Posted April 5, 2014.</td>\n",
       "      <td>223630</td>\n",
       "      <td>True</td>\n",
       "      <td>airbuccan gioco fantastico ammetto che ci ho g...</td>\n",
       "      <td>2</td>\n",
       "    </tr>\n",
       "    <tr>\n",
       "      <th>44614</th>\n",
       "      <td>76561198007161112</td>\n",
       "      <td>Posted August 30, 2014.</td>\n",
       "      <td>730</td>\n",
       "      <td>True</td>\n",
       "      <td>either die noob live long enough call hacker p...</td>\n",
       "      <td>2</td>\n",
       "    </tr>\n",
       "    <tr>\n",
       "      <th>25292</th>\n",
       "      <td>76561198030021498</td>\n",
       "      <td>Posted August 6, 2014.</td>\n",
       "      <td>293740</td>\n",
       "      <td>True</td>\n",
       "      <td>made demon rabbit eat everyth poop gold</td>\n",
       "      <td>2</td>\n",
       "    </tr>\n",
       "    <tr>\n",
       "      <th>29152</th>\n",
       "      <td>76561198074920496</td>\n",
       "      <td>Posted June 24, 2015.</td>\n",
       "      <td>233250</td>\n",
       "      <td>True</td>\n",
       "      <td>rekt normal aimad friend get itplz halp meit e...</td>\n",
       "      <td>2</td>\n",
       "    </tr>\n",
       "    <tr>\n",
       "      <th>46326</th>\n",
       "      <td>76561198041083847</td>\n",
       "      <td>Posted August 15, 2015.</td>\n",
       "      <td>387860</td>\n",
       "      <td>True</td>\n",
       "      <td>shrimplici im sorri littl friend</td>\n",
       "      <td>2</td>\n",
       "    </tr>\n",
       "    <tr>\n",
       "      <th>1612</th>\n",
       "      <td>cripla66</td>\n",
       "      <td>Posted June 20, 2014.</td>\n",
       "      <td>9930</td>\n",
       "      <td>True</td>\n",
       "      <td>bloodi awesom game drift race crashin n bashin</td>\n",
       "      <td>2</td>\n",
       "    </tr>\n",
       "    <tr>\n",
       "      <th>49456</th>\n",
       "      <td>stopbeingfat</td>\n",
       "      <td>Posted November 27, 2014.</td>\n",
       "      <td>730</td>\n",
       "      <td>True</td>\n",
       "      <td>fun game</td>\n",
       "      <td>2</td>\n",
       "    </tr>\n",
       "    <tr>\n",
       "      <th>29975</th>\n",
       "      <td>bangs8</td>\n",
       "      <td>Posted July 20, 2013.</td>\n",
       "      <td>219890</td>\n",
       "      <td>True</td>\n",
       "      <td>think man game</td>\n",
       "      <td>2</td>\n",
       "    </tr>\n",
       "    <tr>\n",
       "      <th>26710</th>\n",
       "      <td>76561198063161083</td>\n",
       "      <td>Posted January 29, 2015.</td>\n",
       "      <td>211820</td>\n",
       "      <td>True</td>\n",
       "      <td>look one amaz game must say honestli way cheap...</td>\n",
       "      <td>2</td>\n",
       "    </tr>\n",
       "  </tbody>\n",
       "</table>\n",
       "</div>"
      ],
      "text/plain": [
       "                 user_id                     posted  item_id  recommend  \\\n",
       "9304               bow47           Posted March 27.      730       True   \n",
       "43660      ErrorT3rm1n4l      Posted April 5, 2014.   223630       True   \n",
       "44614  76561198007161112    Posted August 30, 2014.      730       True   \n",
       "25292  76561198030021498     Posted August 6, 2014.   293740       True   \n",
       "29152  76561198074920496      Posted June 24, 2015.   233250       True   \n",
       "46326  76561198041083847    Posted August 15, 2015.   387860       True   \n",
       "1612            cripla66      Posted June 20, 2014.     9930       True   \n",
       "49456       stopbeingfat  Posted November 27, 2014.      730       True   \n",
       "29975             bangs8      Posted July 20, 2013.   219890       True   \n",
       "26710  76561198063161083   Posted January 29, 2015.   211820       True   \n",
       "\n",
       "                                                  review  sentiment_analysis  \n",
       "9304                                                 lol                   2  \n",
       "43660  airbuccan gioco fantastico ammetto che ci ho g...                   2  \n",
       "44614  either die noob live long enough call hacker p...                   2  \n",
       "25292            made demon rabbit eat everyth poop gold                   2  \n",
       "29152  rekt normal aimad friend get itplz halp meit e...                   2  \n",
       "46326                   shrimplici im sorri littl friend                   2  \n",
       "1612      bloodi awesom game drift race crashin n bashin                   2  \n",
       "49456                                           fun game                   2  \n",
       "29975                                     think man game                   2  \n",
       "26710  look one amaz game must say honestli way cheap...                   2  "
      ]
     },
     "execution_count": 9,
     "metadata": {},
     "output_type": "execute_result"
    }
   ],
   "source": [
    "df_reviews.head()"
   ]
  },
  {
   "cell_type": "code",
   "execution_count": 10,
   "metadata": {},
   "outputs": [],
   "source": [
    "# se realiza una copia antes de iniciar \n",
    "df_reviews_copy= df_reviews.copy()\n"
   ]
  },
  {
   "cell_type": "code",
   "execution_count": 11,
   "metadata": {},
   "outputs": [
    {
     "data": {
      "text/html": [
       "<div>\n",
       "<style scoped>\n",
       "    .dataframe tbody tr th:only-of-type {\n",
       "        vertical-align: middle;\n",
       "    }\n",
       "\n",
       "    .dataframe tbody tr th {\n",
       "        vertical-align: top;\n",
       "    }\n",
       "\n",
       "    .dataframe thead th {\n",
       "        text-align: right;\n",
       "    }\n",
       "</style>\n",
       "<table border=\"1\" class=\"dataframe\">\n",
       "  <thead>\n",
       "    <tr style=\"text-align: right;\">\n",
       "      <th></th>\n",
       "      <th>user_id</th>\n",
       "      <th>posted</th>\n",
       "      <th>item_id</th>\n",
       "      <th>recommend</th>\n",
       "      <th>review</th>\n",
       "      <th>sentiment_analysis</th>\n",
       "    </tr>\n",
       "  </thead>\n",
       "  <tbody>\n",
       "    <tr>\n",
       "      <th>30635</th>\n",
       "      <td>76561198071324590</td>\n",
       "      <td>Posted May 19, 2015.</td>\n",
       "      <td>252490</td>\n",
       "      <td>False</td>\n",
       "      <td>amaz game wont work unless super comput</td>\n",
       "      <td>0</td>\n",
       "    </tr>\n",
       "    <tr>\n",
       "      <th>57534</th>\n",
       "      <td>TheJewsDidNineEleven</td>\n",
       "      <td>Posted February 27, 2015.</td>\n",
       "      <td>346120</td>\n",
       "      <td>True</td>\n",
       "      <td>tcp error simul</td>\n",
       "      <td>2</td>\n",
       "    </tr>\n",
       "    <tr>\n",
       "      <th>25735</th>\n",
       "      <td>737911</td>\n",
       "      <td>Posted March 28, 2015.</td>\n",
       "      <td>440</td>\n",
       "      <td>True</td>\n",
       "      <td>great cartoonish element funni game mani colle...</td>\n",
       "      <td>2</td>\n",
       "    </tr>\n",
       "    <tr>\n",
       "      <th>7510</th>\n",
       "      <td>micropie</td>\n",
       "      <td>Posted April 3, 2014.</td>\n",
       "      <td>550</td>\n",
       "      <td>True</td>\n",
       "      <td>bos game play</td>\n",
       "      <td>2</td>\n",
       "    </tr>\n",
       "    <tr>\n",
       "      <th>530</th>\n",
       "      <td>76561198007584361</td>\n",
       "      <td>Posted September 10, 2015.</td>\n",
       "      <td>401650</td>\n",
       "      <td>True</td>\n",
       "      <td>love draw bow second enemi empti clip reload e...</td>\n",
       "      <td>2</td>\n",
       "    </tr>\n",
       "    <tr>\n",
       "      <th>15269</th>\n",
       "      <td>anonymoosebrony</td>\n",
       "      <td>Posted May 29, 2015.</td>\n",
       "      <td>253980</td>\n",
       "      <td>False</td>\n",
       "      <td>bucket doesnt work arent run origin intend har...</td>\n",
       "      <td>0</td>\n",
       "    </tr>\n",
       "    <tr>\n",
       "      <th>44487</th>\n",
       "      <td>jasonmus</td>\n",
       "      <td>Posted April 30.</td>\n",
       "      <td>348460</td>\n",
       "      <td>False</td>\n",
       "      <td>there australian server understand suppos firs...</td>\n",
       "      <td>2</td>\n",
       "    </tr>\n",
       "    <tr>\n",
       "      <th>18471</th>\n",
       "      <td>76561198043562907</td>\n",
       "      <td>Posted June 25, 2014.</td>\n",
       "      <td>218230</td>\n",
       "      <td>True</td>\n",
       "      <td>great get work</td>\n",
       "      <td>2</td>\n",
       "    </tr>\n",
       "    <tr>\n",
       "      <th>41896</th>\n",
       "      <td>Sn3akYb3akY</td>\n",
       "      <td>Posted January 22.</td>\n",
       "      <td>65790</td>\n",
       "      <td>True</td>\n",
       "      <td>great game would play agian thth mission soo h...</td>\n",
       "      <td>2</td>\n",
       "    </tr>\n",
       "    <tr>\n",
       "      <th>1106</th>\n",
       "      <td>bobseagull</td>\n",
       "      <td>Posted May 2, 2014.</td>\n",
       "      <td>242720</td>\n",
       "      <td>False</td>\n",
       "      <td>name jfiamudeh taken best name maker simul ive...</td>\n",
       "      <td>2</td>\n",
       "    </tr>\n",
       "    <tr>\n",
       "      <th>53906</th>\n",
       "      <td>76561198082767148</td>\n",
       "      <td>Posted January 3.</td>\n",
       "      <td>730</td>\n",
       "      <td>False</td>\n",
       "      <td>got vace</td>\n",
       "      <td>0</td>\n",
       "    </tr>\n",
       "    <tr>\n",
       "      <th>13595</th>\n",
       "      <td>76561198059641230</td>\n",
       "      <td>Posted October 27, 2014.</td>\n",
       "      <td>4000</td>\n",
       "      <td>True</td>\n",
       "      <td>best mod ever</td>\n",
       "      <td>2</td>\n",
       "    </tr>\n",
       "    <tr>\n",
       "      <th>42594</th>\n",
       "      <td>mainul</td>\n",
       "      <td>Posted July 10, 2014.</td>\n",
       "      <td>570</td>\n",
       "      <td>True</td>\n",
       "      <td>spent time ok</td>\n",
       "      <td>2</td>\n",
       "    </tr>\n",
       "    <tr>\n",
       "      <th>12157</th>\n",
       "      <td>pancakes37</td>\n",
       "      <td>Posted October 27, 2015.</td>\n",
       "      <td>359320</td>\n",
       "      <td>True</td>\n",
       "      <td>run smoothli medium graphic dinosuar comput se...</td>\n",
       "      <td>2</td>\n",
       "    </tr>\n",
       "    <tr>\n",
       "      <th>29007</th>\n",
       "      <td>n0thingirl</td>\n",
       "      <td>Posted July 24, 2013.</td>\n",
       "      <td>730</td>\n",
       "      <td>True</td>\n",
       "      <td>pravideln padani akchkovek itemov ktor sa daj ...</td>\n",
       "      <td>2</td>\n",
       "    </tr>\n",
       "    <tr>\n",
       "      <th>6145</th>\n",
       "      <td>Torca2001</td>\n",
       "      <td>Posted July 7, 2015.</td>\n",
       "      <td>367570</td>\n",
       "      <td>True</td>\n",
       "      <td>one hardest game ever play simpl love</td>\n",
       "      <td>2</td>\n",
       "    </tr>\n",
       "    <tr>\n",
       "      <th>19767</th>\n",
       "      <td>pieman98</td>\n",
       "      <td>Posted March 7.</td>\n",
       "      <td>214490</td>\n",
       "      <td>True</td>\n",
       "      <td>axel die im sad</td>\n",
       "      <td>0</td>\n",
       "    </tr>\n",
       "    <tr>\n",
       "      <th>52617</th>\n",
       "      <td>76561198076108428</td>\n",
       "      <td>Posted May 16.</td>\n",
       "      <td>730</td>\n",
       "      <td>True</td>\n",
       "      <td>nice gamm russian offens good yeeee</td>\n",
       "      <td>2</td>\n",
       "    </tr>\n",
       "    <tr>\n",
       "      <th>45127</th>\n",
       "      <td>76561198023226082</td>\n",
       "      <td>Posted August 7.</td>\n",
       "      <td>244930</td>\n",
       "      <td>True</td>\n",
       "      <td>fact paid game releas great game graphic stun ...</td>\n",
       "      <td>2</td>\n",
       "    </tr>\n",
       "    <tr>\n",
       "      <th>27898</th>\n",
       "      <td>76561198109306249</td>\n",
       "      <td>Posted December 21, 2015.</td>\n",
       "      <td>238090</td>\n",
       "      <td>True</td>\n",
       "      <td>sniper elit first ventur sniper elit seriesand...</td>\n",
       "      <td>2</td>\n",
       "    </tr>\n",
       "  </tbody>\n",
       "</table>\n",
       "</div>"
      ],
      "text/plain": [
       "                    user_id                      posted  item_id  recommend  \\\n",
       "30635     76561198071324590        Posted May 19, 2015.   252490      False   \n",
       "57534  TheJewsDidNineEleven   Posted February 27, 2015.   346120       True   \n",
       "25735                737911      Posted March 28, 2015.      440       True   \n",
       "7510               micropie       Posted April 3, 2014.      550       True   \n",
       "530       76561198007584361  Posted September 10, 2015.   401650       True   \n",
       "15269       anonymoosebrony        Posted May 29, 2015.   253980      False   \n",
       "44487              jasonmus            Posted April 30.   348460      False   \n",
       "18471     76561198043562907       Posted June 25, 2014.   218230       True   \n",
       "41896           Sn3akYb3akY          Posted January 22.    65790       True   \n",
       "1106             bobseagull         Posted May 2, 2014.   242720      False   \n",
       "53906     76561198082767148           Posted January 3.      730      False   \n",
       "13595     76561198059641230    Posted October 27, 2014.     4000       True   \n",
       "42594                mainul       Posted July 10, 2014.      570       True   \n",
       "12157            pancakes37    Posted October 27, 2015.   359320       True   \n",
       "29007            n0thingirl       Posted July 24, 2013.      730       True   \n",
       "6145              Torca2001        Posted July 7, 2015.   367570       True   \n",
       "19767              pieman98             Posted March 7.   214490       True   \n",
       "52617     76561198076108428              Posted May 16.      730       True   \n",
       "45127     76561198023226082            Posted August 7.   244930       True   \n",
       "27898     76561198109306249   Posted December 21, 2015.   238090       True   \n",
       "\n",
       "                                                  review  sentiment_analysis  \n",
       "30635            amaz game wont work unless super comput                   0  \n",
       "57534                                    tcp error simul                   2  \n",
       "25735  great cartoonish element funni game mani colle...                   2  \n",
       "7510                                       bos game play                   2  \n",
       "530    love draw bow second enemi empti clip reload e...                   2  \n",
       "15269  bucket doesnt work arent run origin intend har...                   0  \n",
       "44487  there australian server understand suppos firs...                   2  \n",
       "18471                                     great get work                   2  \n",
       "41896  great game would play agian thth mission soo h...                   2  \n",
       "1106   name jfiamudeh taken best name maker simul ive...                   2  \n",
       "53906                                           got vace                   0  \n",
       "13595                                      best mod ever                   2  \n",
       "42594                                      spent time ok                   2  \n",
       "12157  run smoothli medium graphic dinosuar comput se...                   2  \n",
       "29007  pravideln padani akchkovek itemov ktor sa daj ...                   2  \n",
       "6145               one hardest game ever play simpl love                   2  \n",
       "19767                                    axel die im sad                   0  \n",
       "52617                nice gamm russian offens good yeeee                   2  \n",
       "45127  fact paid game releas great game graphic stun ...                   2  \n",
       "27898  sniper elit first ventur sniper elit seriesand...                   2  "
      ]
     },
     "execution_count": 11,
     "metadata": {},
     "output_type": "execute_result"
    }
   ],
   "source": [
    "# Revisamos muestras de datos para familiarizarse con los datos y entender su estructura\n",
    "df_reviews_copy.sample(20)"
   ]
  },
  {
   "cell_type": "markdown",
   "metadata": {},
   "source": [
    "*Buscamos posibles duplicados*"
   ]
  },
  {
   "cell_type": "code",
   "execution_count": 12,
   "metadata": {},
   "outputs": [
    {
     "name": "stdout",
     "output_type": "stream",
     "text": [
      "Cantidad de filas duplicadas en df_items_copy: 0\n"
     ]
    }
   ],
   "source": [
    "# Contar el número de filas duplicadas\n",
    "conteo_duplicados = df_reviews_copy.duplicated().sum()\n",
    "\n",
    "# Mostrar el resultado\n",
    "print(f\"Cantidad de filas duplicadas en df_items_copy: {conteo_duplicados}\")"
   ]
  },
  {
   "cell_type": "markdown",
   "metadata": {},
   "source": [
    "**Realizamos un análisis general**"
   ]
  },
  {
   "cell_type": "code",
   "execution_count": 13,
   "metadata": {},
   "outputs": [
    {
     "name": "stdout",
     "output_type": "stream",
     "text": [
      "<class 'pandas.core.frame.DataFrame'>\n",
      "RangeIndex: 58401 entries, 0 to 58400\n",
      "Data columns (total 6 columns):\n",
      " #   Column              Non-Null Count  Dtype \n",
      "---  ------              --------------  ----- \n",
      " 0   user_id             58401 non-null  object\n",
      " 1   posted              58401 non-null  object\n",
      " 2   item_id             58401 non-null  int64 \n",
      " 3   recommend           58401 non-null  bool  \n",
      " 4   review              57511 non-null  object\n",
      " 5   sentiment_analysis  58401 non-null  int64 \n",
      "dtypes: bool(1), int64(2), object(3)\n",
      "memory usage: 2.3+ MB\n"
     ]
    }
   ],
   "source": [
    "df_reviews_copy.info()"
   ]
  },
  {
   "cell_type": "code",
   "execution_count": 14,
   "metadata": {},
   "outputs": [
    {
     "data": {
      "text/html": [
       "<div>\n",
       "<style scoped>\n",
       "    .dataframe tbody tr th:only-of-type {\n",
       "        vertical-align: middle;\n",
       "    }\n",
       "\n",
       "    .dataframe tbody tr th {\n",
       "        vertical-align: top;\n",
       "    }\n",
       "\n",
       "    .dataframe thead th {\n",
       "        text-align: right;\n",
       "    }\n",
       "</style>\n",
       "<table border=\"1\" class=\"dataframe\">\n",
       "  <thead>\n",
       "    <tr style=\"text-align: right;\">\n",
       "      <th></th>\n",
       "      <th>user_id</th>\n",
       "      <th>posted</th>\n",
       "      <th>item_id</th>\n",
       "      <th>recommend</th>\n",
       "      <th>review</th>\n",
       "      <th>sentiment_analysis</th>\n",
       "    </tr>\n",
       "  </thead>\n",
       "  <tbody>\n",
       "    <tr>\n",
       "      <th>count</th>\n",
       "      <td>58401</td>\n",
       "      <td>58401</td>\n",
       "      <td>58401.000000</td>\n",
       "      <td>58401</td>\n",
       "      <td>57511</td>\n",
       "      <td>58401.000000</td>\n",
       "    </tr>\n",
       "    <tr>\n",
       "      <th>unique</th>\n",
       "      <td>25447</td>\n",
       "      <td>1906</td>\n",
       "      <td>NaN</td>\n",
       "      <td>2</td>\n",
       "      <td>50630</td>\n",
       "      <td>NaN</td>\n",
       "    </tr>\n",
       "    <tr>\n",
       "      <th>top</th>\n",
       "      <td>Lickidactyl</td>\n",
       "      <td>Posted June 21, 2014.</td>\n",
       "      <td>NaN</td>\n",
       "      <td>True</td>\n",
       "      <td></td>\n",
       "      <td>NaN</td>\n",
       "    </tr>\n",
       "    <tr>\n",
       "      <th>freq</th>\n",
       "      <td>10</td>\n",
       "      <td>220</td>\n",
       "      <td>NaN</td>\n",
       "      <td>51665</td>\n",
       "      <td>816</td>\n",
       "      <td>NaN</td>\n",
       "    </tr>\n",
       "    <tr>\n",
       "      <th>mean</th>\n",
       "      <td>NaN</td>\n",
       "      <td>NaN</td>\n",
       "      <td>169732.044571</td>\n",
       "      <td>NaN</td>\n",
       "      <td>NaN</td>\n",
       "      <td>1.704132</td>\n",
       "    </tr>\n",
       "    <tr>\n",
       "      <th>std</th>\n",
       "      <td>NaN</td>\n",
       "      <td>NaN</td>\n",
       "      <td>132017.352475</td>\n",
       "      <td>NaN</td>\n",
       "      <td>NaN</td>\n",
       "      <td>0.685924</td>\n",
       "    </tr>\n",
       "    <tr>\n",
       "      <th>min</th>\n",
       "      <td>NaN</td>\n",
       "      <td>NaN</td>\n",
       "      <td>10.000000</td>\n",
       "      <td>NaN</td>\n",
       "      <td>NaN</td>\n",
       "      <td>0.000000</td>\n",
       "    </tr>\n",
       "    <tr>\n",
       "      <th>25%</th>\n",
       "      <td>NaN</td>\n",
       "      <td>NaN</td>\n",
       "      <td>8930.000000</td>\n",
       "      <td>NaN</td>\n",
       "      <td>NaN</td>\n",
       "      <td>2.000000</td>\n",
       "    </tr>\n",
       "    <tr>\n",
       "      <th>50%</th>\n",
       "      <td>NaN</td>\n",
       "      <td>NaN</td>\n",
       "      <td>218230.000000</td>\n",
       "      <td>NaN</td>\n",
       "      <td>NaN</td>\n",
       "      <td>2.000000</td>\n",
       "    </tr>\n",
       "    <tr>\n",
       "      <th>75%</th>\n",
       "      <td>NaN</td>\n",
       "      <td>NaN</td>\n",
       "      <td>261640.000000</td>\n",
       "      <td>NaN</td>\n",
       "      <td>NaN</td>\n",
       "      <td>2.000000</td>\n",
       "    </tr>\n",
       "    <tr>\n",
       "      <th>max</th>\n",
       "      <td>NaN</td>\n",
       "      <td>NaN</td>\n",
       "      <td>527340.000000</td>\n",
       "      <td>NaN</td>\n",
       "      <td>NaN</td>\n",
       "      <td>2.000000</td>\n",
       "    </tr>\n",
       "  </tbody>\n",
       "</table>\n",
       "</div>"
      ],
      "text/plain": [
       "            user_id                 posted        item_id recommend review  \\\n",
       "count         58401                  58401   58401.000000     58401  57511   \n",
       "unique        25447                   1906            NaN         2  50630   \n",
       "top     Lickidactyl  Posted June 21, 2014.            NaN      True          \n",
       "freq             10                    220            NaN     51665    816   \n",
       "mean            NaN                    NaN  169732.044571       NaN    NaN   \n",
       "std             NaN                    NaN  132017.352475       NaN    NaN   \n",
       "min             NaN                    NaN      10.000000       NaN    NaN   \n",
       "25%             NaN                    NaN    8930.000000       NaN    NaN   \n",
       "50%             NaN                    NaN  218230.000000       NaN    NaN   \n",
       "75%             NaN                    NaN  261640.000000       NaN    NaN   \n",
       "max             NaN                    NaN  527340.000000       NaN    NaN   \n",
       "\n",
       "        sentiment_analysis  \n",
       "count         58401.000000  \n",
       "unique                 NaN  \n",
       "top                    NaN  \n",
       "freq                   NaN  \n",
       "mean              1.704132  \n",
       "std               0.685924  \n",
       "min               0.000000  \n",
       "25%               2.000000  \n",
       "50%               2.000000  \n",
       "75%               2.000000  \n",
       "max               2.000000  "
      ]
     },
     "execution_count": 14,
     "metadata": {},
     "output_type": "execute_result"
    }
   ],
   "source": [
    "# Revisamos las estadísticas generales del dataset, para todas las variables incluyendo no numéricas\n",
    "\n",
    "df_reviews_copy.describe(include= 'all')"
   ]
  },
  {
   "cell_type": "markdown",
   "metadata": {},
   "source": [
    "*Identificamos los valores únicos del dataframe*"
   ]
  },
  {
   "cell_type": "code",
   "execution_count": 15,
   "metadata": {},
   "outputs": [
    {
     "data": {
      "text/html": [
       "<div>\n",
       "<style scoped>\n",
       "    .dataframe tbody tr th:only-of-type {\n",
       "        vertical-align: middle;\n",
       "    }\n",
       "\n",
       "    .dataframe tbody tr th {\n",
       "        vertical-align: top;\n",
       "    }\n",
       "\n",
       "    .dataframe thead th {\n",
       "        text-align: right;\n",
       "    }\n",
       "</style>\n",
       "<table border=\"1\" class=\"dataframe\">\n",
       "  <thead>\n",
       "    <tr style=\"text-align: right;\">\n",
       "      <th></th>\n",
       "      <th>user_id</th>\n",
       "      <th>posted</th>\n",
       "      <th>item_id</th>\n",
       "      <th>recommend</th>\n",
       "      <th>review</th>\n",
       "      <th>sentiment_analysis</th>\n",
       "    </tr>\n",
       "  </thead>\n",
       "  <tbody>\n",
       "    <tr>\n",
       "      <th>Total</th>\n",
       "      <td>58401</td>\n",
       "      <td>58401</td>\n",
       "      <td>58401</td>\n",
       "      <td>58401</td>\n",
       "      <td>57511</td>\n",
       "      <td>58401</td>\n",
       "    </tr>\n",
       "    <tr>\n",
       "      <th>Valores únicos</th>\n",
       "      <td>25447</td>\n",
       "      <td>1906</td>\n",
       "      <td>3682</td>\n",
       "      <td>2</td>\n",
       "      <td>50630</td>\n",
       "      <td>3</td>\n",
       "    </tr>\n",
       "  </tbody>\n",
       "</table>\n",
       "</div>"
      ],
      "text/plain": [
       "                user_id  posted  item_id  recommend  review  \\\n",
       "Total             58401   58401    58401      58401   57511   \n",
       "Valores únicos    25447    1906     3682          2   50630   \n",
       "\n",
       "                sentiment_analysis  \n",
       "Total                        58401  \n",
       "Valores únicos                   3  "
      ]
     },
     "execution_count": 15,
     "metadata": {},
     "output_type": "execute_result"
    }
   ],
   "source": [
    "def valores_unicos(data):\n",
    "  total = data.count()\n",
    "  tt = pd.DataFrame(total)\n",
    "  tt.columns = ['Total']\n",
    "  unicos = []\n",
    "  for col in data.columns:\n",
    "    unicos.append(data[col].nunique())\n",
    "  tt['Valores únicos'] = unicos\n",
    "  return np.transpose(tt)\n",
    "valores_unicos(df_reviews_copy)"
   ]
  },
  {
   "cell_type": "markdown",
   "metadata": {},
   "source": [
    "*Verificamos los valores más frecuentes para identificar algunos patrones*"
   ]
  },
  {
   "cell_type": "code",
   "execution_count": 16,
   "metadata": {},
   "outputs": [
    {
     "data": {
      "text/html": [
       "<div>\n",
       "<style scoped>\n",
       "    .dataframe tbody tr th:only-of-type {\n",
       "        vertical-align: middle;\n",
       "    }\n",
       "\n",
       "    .dataframe tbody tr th {\n",
       "        vertical-align: top;\n",
       "    }\n",
       "\n",
       "    .dataframe thead th {\n",
       "        text-align: right;\n",
       "    }\n",
       "</style>\n",
       "<table border=\"1\" class=\"dataframe\">\n",
       "  <thead>\n",
       "    <tr style=\"text-align: right;\">\n",
       "      <th></th>\n",
       "      <th>user_id</th>\n",
       "      <th>posted</th>\n",
       "      <th>item_id</th>\n",
       "      <th>recommend</th>\n",
       "      <th>review</th>\n",
       "      <th>sentiment_analysis</th>\n",
       "    </tr>\n",
       "  </thead>\n",
       "  <tbody>\n",
       "    <tr>\n",
       "      <th>Total</th>\n",
       "      <td>58401</td>\n",
       "      <td>58401</td>\n",
       "      <td>58401</td>\n",
       "      <td>58401</td>\n",
       "      <td>57511</td>\n",
       "      <td>58401</td>\n",
       "    </tr>\n",
       "    <tr>\n",
       "      <th>Valores más frecuentes</th>\n",
       "      <td>Lickidactyl</td>\n",
       "      <td>Posted June 21, 2014.</td>\n",
       "      <td>730</td>\n",
       "      <td>True</td>\n",
       "      <td></td>\n",
       "      <td>2</td>\n",
       "    </tr>\n",
       "    <tr>\n",
       "      <th>Frecuencia</th>\n",
       "      <td>10</td>\n",
       "      <td>220</td>\n",
       "      <td>3704</td>\n",
       "      <td>51665</td>\n",
       "      <td>816</td>\n",
       "      <td>48777</td>\n",
       "    </tr>\n",
       "    <tr>\n",
       "      <th>Porcentaje</th>\n",
       "      <td>0.017</td>\n",
       "      <td>0.377</td>\n",
       "      <td>6.342</td>\n",
       "      <td>88.466</td>\n",
       "      <td>1.419</td>\n",
       "      <td>83.521</td>\n",
       "    </tr>\n",
       "  </tbody>\n",
       "</table>\n",
       "</div>"
      ],
      "text/plain": [
       "                            user_id                 posted item_id recommend  \\\n",
       "Total                         58401                  58401   58401     58401   \n",
       "Valores más frecuentes  Lickidactyl  Posted June 21, 2014.     730      True   \n",
       "Frecuencia                       10                    220    3704     51665   \n",
       "Porcentaje                    0.017                  0.377   6.342    88.466   \n",
       "\n",
       "                       review sentiment_analysis  \n",
       "Total                   57511              58401  \n",
       "Valores más frecuentes                         2  \n",
       "Frecuencia                816              48777  \n",
       "Porcentaje              1.419             83.521  "
      ]
     },
     "execution_count": 16,
     "metadata": {},
     "output_type": "execute_result"
    }
   ],
   "source": [
    "def valores_frecuentes(data):\n",
    "  total = data.count()\n",
    "  tt = pd.DataFrame(total)\n",
    "  tt.columns = ['Total']\n",
    "  items = []\n",
    "  vals = []\n",
    "  for col in data.columns:\n",
    "    item = data[col].value_counts().index[0]\n",
    "    val = data[col].value_counts().values[0]\n",
    "    items.append(item)\n",
    "    vals.append(val)\n",
    "  tt['Valores más frecuentes'] = items\n",
    "  tt['Frecuencia'] = vals\n",
    "  tt['Porcentaje'] = np.round(vals/total*100, 3)\n",
    "  return np.transpose(tt)\n",
    "valores_frecuentes(df_reviews_copy)"
   ]
  },
  {
   "cell_type": "code",
   "execution_count": 17,
   "metadata": {},
   "outputs": [
    {
     "data": {
      "text/plain": [
       "user_id                 0\n",
       "posted                  0\n",
       "item_id                 0\n",
       "recommend               0\n",
       "review                890\n",
       "sentiment_analysis      0\n",
       "dtype: int64"
      ]
     },
     "execution_count": 17,
     "metadata": {},
     "output_type": "execute_result"
    }
   ],
   "source": [
    "df_reviews_copy.isnull().sum()"
   ]
  },
  {
   "cell_type": "markdown",
   "metadata": {},
   "source": [
    "**Resumen de Hallazgos**:  \n",
    "- *Usuarios únicos son 25.447, el total de items únicos es de 3682*  \n",
    "- *51.665 recomendaciones son positivas ('True'), que corresponden a un 89,8% respecto del total de recomendaciones.*\n",
    "- *El análisis de sentimiento muestra que un 83,5% de los reviews son postivos respecto del juego.\n",
    "- *Sólo la columna review posee nulos, con 890 casos, columna que eliminaremos porque ya no es necesaria.*  \n",
    "- *La única columna que necesitamos transformar al formato correcto datetime es la columna 'posted'.*  \n"
   ]
  },
  {
   "cell_type": "markdown",
   "metadata": {},
   "source": [
    "*Eliminamos columna 'review'*"
   ]
  },
  {
   "cell_type": "code",
   "execution_count": 18,
   "metadata": {},
   "outputs": [],
   "source": [
    "df_reviews_copy.drop(columns=['review'], inplace=True)"
   ]
  },
  {
   "cell_type": "code",
   "execution_count": 19,
   "metadata": {},
   "outputs": [
    {
     "data": {
      "text/html": [
       "<div>\n",
       "<style scoped>\n",
       "    .dataframe tbody tr th:only-of-type {\n",
       "        vertical-align: middle;\n",
       "    }\n",
       "\n",
       "    .dataframe tbody tr th {\n",
       "        vertical-align: top;\n",
       "    }\n",
       "\n",
       "    .dataframe thead th {\n",
       "        text-align: right;\n",
       "    }\n",
       "</style>\n",
       "<table border=\"1\" class=\"dataframe\">\n",
       "  <thead>\n",
       "    <tr style=\"text-align: right;\">\n",
       "      <th></th>\n",
       "      <th>user_id</th>\n",
       "      <th>posted</th>\n",
       "      <th>item_id</th>\n",
       "      <th>recommend</th>\n",
       "      <th>sentiment_analysis</th>\n",
       "    </tr>\n",
       "  </thead>\n",
       "  <tbody>\n",
       "    <tr>\n",
       "      <th>0</th>\n",
       "      <td>76561197970982479</td>\n",
       "      <td>Posted November 5, 2011.</td>\n",
       "      <td>1250</td>\n",
       "      <td>True</td>\n",
       "      <td>2</td>\n",
       "    </tr>\n",
       "    <tr>\n",
       "      <th>1</th>\n",
       "      <td>76561197970982479</td>\n",
       "      <td>Posted July 15, 2011.</td>\n",
       "      <td>22200</td>\n",
       "      <td>True</td>\n",
       "      <td>2</td>\n",
       "    </tr>\n",
       "    <tr>\n",
       "      <th>2</th>\n",
       "      <td>76561197970982479</td>\n",
       "      <td>Posted April 21, 2011.</td>\n",
       "      <td>43110</td>\n",
       "      <td>True</td>\n",
       "      <td>2</td>\n",
       "    </tr>\n",
       "    <tr>\n",
       "      <th>3</th>\n",
       "      <td>js41637</td>\n",
       "      <td>Posted June 24, 2014.</td>\n",
       "      <td>251610</td>\n",
       "      <td>True</td>\n",
       "      <td>2</td>\n",
       "    </tr>\n",
       "    <tr>\n",
       "      <th>4</th>\n",
       "      <td>js41637</td>\n",
       "      <td>Posted September 8, 2013.</td>\n",
       "      <td>227300</td>\n",
       "      <td>True</td>\n",
       "      <td>2</td>\n",
       "    </tr>\n",
       "    <tr>\n",
       "      <th>...</th>\n",
       "      <td>...</td>\n",
       "      <td>...</td>\n",
       "      <td>...</td>\n",
       "      <td>...</td>\n",
       "      <td>...</td>\n",
       "    </tr>\n",
       "    <tr>\n",
       "      <th>58396</th>\n",
       "      <td>76561198312638244</td>\n",
       "      <td>Posted July 10.</td>\n",
       "      <td>70</td>\n",
       "      <td>True</td>\n",
       "      <td>2</td>\n",
       "    </tr>\n",
       "    <tr>\n",
       "      <th>58397</th>\n",
       "      <td>76561198312638244</td>\n",
       "      <td>Posted July 8.</td>\n",
       "      <td>362890</td>\n",
       "      <td>True</td>\n",
       "      <td>2</td>\n",
       "    </tr>\n",
       "    <tr>\n",
       "      <th>58398</th>\n",
       "      <td>LydiaMorley</td>\n",
       "      <td>Posted July 3.</td>\n",
       "      <td>273110</td>\n",
       "      <td>True</td>\n",
       "      <td>2</td>\n",
       "    </tr>\n",
       "    <tr>\n",
       "      <th>58399</th>\n",
       "      <td>LydiaMorley</td>\n",
       "      <td>Posted July 20.</td>\n",
       "      <td>730</td>\n",
       "      <td>True</td>\n",
       "      <td>2</td>\n",
       "    </tr>\n",
       "    <tr>\n",
       "      <th>58400</th>\n",
       "      <td>LydiaMorley</td>\n",
       "      <td>Posted July 2.</td>\n",
       "      <td>440</td>\n",
       "      <td>True</td>\n",
       "      <td>2</td>\n",
       "    </tr>\n",
       "  </tbody>\n",
       "</table>\n",
       "<p>58401 rows × 5 columns</p>\n",
       "</div>"
      ],
      "text/plain": [
       "                 user_id                     posted  item_id  recommend  \\\n",
       "0      76561197970982479   Posted November 5, 2011.     1250       True   \n",
       "1      76561197970982479      Posted July 15, 2011.    22200       True   \n",
       "2      76561197970982479     Posted April 21, 2011.    43110       True   \n",
       "3                js41637      Posted June 24, 2014.   251610       True   \n",
       "4                js41637  Posted September 8, 2013.   227300       True   \n",
       "...                  ...                        ...      ...        ...   \n",
       "58396  76561198312638244            Posted July 10.       70       True   \n",
       "58397  76561198312638244             Posted July 8.   362890       True   \n",
       "58398        LydiaMorley             Posted July 3.   273110       True   \n",
       "58399        LydiaMorley            Posted July 20.      730       True   \n",
       "58400        LydiaMorley             Posted July 2.      440       True   \n",
       "\n",
       "       sentiment_analysis  \n",
       "0                       2  \n",
       "1                       2  \n",
       "2                       2  \n",
       "3                       2  \n",
       "4                       2  \n",
       "...                   ...  \n",
       "58396                   2  \n",
       "58397                   2  \n",
       "58398                   2  \n",
       "58399                   2  \n",
       "58400                   2  \n",
       "\n",
       "[58401 rows x 5 columns]"
      ]
     },
     "execution_count": 19,
     "metadata": {},
     "output_type": "execute_result"
    }
   ],
   "source": [
    "#Revisamos y chequeamos la correcta eliminación\n",
    "df_reviews_copy"
   ]
  },
  {
   "cell_type": "markdown",
   "metadata": {},
   "source": [
    "*Ajuste del tipo de dato de la columna 'Posted'*"
   ]
  },
  {
   "cell_type": "markdown",
   "metadata": {},
   "source": [
    "*'Posted' no está en formato correcto de fecha, hacemos un tratamiento para extraer fecha válida.*"
   ]
  },
  {
   "cell_type": "code",
   "execution_count": 20,
   "metadata": {},
   "outputs": [
    {
     "data": {
      "text/html": [
       "<div>\n",
       "<style scoped>\n",
       "    .dataframe tbody tr th:only-of-type {\n",
       "        vertical-align: middle;\n",
       "    }\n",
       "\n",
       "    .dataframe tbody tr th {\n",
       "        vertical-align: top;\n",
       "    }\n",
       "\n",
       "    .dataframe thead th {\n",
       "        text-align: right;\n",
       "    }\n",
       "</style>\n",
       "<table border=\"1\" class=\"dataframe\">\n",
       "  <thead>\n",
       "    <tr style=\"text-align: right;\">\n",
       "      <th></th>\n",
       "      <th>user_id</th>\n",
       "      <th>posted</th>\n",
       "      <th>item_id</th>\n",
       "      <th>recommend</th>\n",
       "      <th>sentiment_analysis</th>\n",
       "    </tr>\n",
       "  </thead>\n",
       "  <tbody>\n",
       "    <tr>\n",
       "      <th>0</th>\n",
       "      <td>76561197970982479</td>\n",
       "      <td>2011-11-05</td>\n",
       "      <td>1250</td>\n",
       "      <td>True</td>\n",
       "      <td>2</td>\n",
       "    </tr>\n",
       "    <tr>\n",
       "      <th>1</th>\n",
       "      <td>76561197970982479</td>\n",
       "      <td>2011-07-15</td>\n",
       "      <td>22200</td>\n",
       "      <td>True</td>\n",
       "      <td>2</td>\n",
       "    </tr>\n",
       "    <tr>\n",
       "      <th>2</th>\n",
       "      <td>76561197970982479</td>\n",
       "      <td>2011-04-21</td>\n",
       "      <td>43110</td>\n",
       "      <td>True</td>\n",
       "      <td>2</td>\n",
       "    </tr>\n",
       "    <tr>\n",
       "      <th>3</th>\n",
       "      <td>js41637</td>\n",
       "      <td>2014-06-24</td>\n",
       "      <td>251610</td>\n",
       "      <td>True</td>\n",
       "      <td>2</td>\n",
       "    </tr>\n",
       "    <tr>\n",
       "      <th>4</th>\n",
       "      <td>js41637</td>\n",
       "      <td>2013-09-08</td>\n",
       "      <td>227300</td>\n",
       "      <td>True</td>\n",
       "      <td>2</td>\n",
       "    </tr>\n",
       "    <tr>\n",
       "      <th>...</th>\n",
       "      <td>...</td>\n",
       "      <td>...</td>\n",
       "      <td>...</td>\n",
       "      <td>...</td>\n",
       "      <td>...</td>\n",
       "    </tr>\n",
       "    <tr>\n",
       "      <th>58396</th>\n",
       "      <td>76561198312638244</td>\n",
       "      <td>NaT</td>\n",
       "      <td>70</td>\n",
       "      <td>True</td>\n",
       "      <td>2</td>\n",
       "    </tr>\n",
       "    <tr>\n",
       "      <th>58397</th>\n",
       "      <td>76561198312638244</td>\n",
       "      <td>NaT</td>\n",
       "      <td>362890</td>\n",
       "      <td>True</td>\n",
       "      <td>2</td>\n",
       "    </tr>\n",
       "    <tr>\n",
       "      <th>58398</th>\n",
       "      <td>LydiaMorley</td>\n",
       "      <td>NaT</td>\n",
       "      <td>273110</td>\n",
       "      <td>True</td>\n",
       "      <td>2</td>\n",
       "    </tr>\n",
       "    <tr>\n",
       "      <th>58399</th>\n",
       "      <td>LydiaMorley</td>\n",
       "      <td>NaT</td>\n",
       "      <td>730</td>\n",
       "      <td>True</td>\n",
       "      <td>2</td>\n",
       "    </tr>\n",
       "    <tr>\n",
       "      <th>58400</th>\n",
       "      <td>LydiaMorley</td>\n",
       "      <td>NaT</td>\n",
       "      <td>440</td>\n",
       "      <td>True</td>\n",
       "      <td>2</td>\n",
       "    </tr>\n",
       "  </tbody>\n",
       "</table>\n",
       "<p>58401 rows × 5 columns</p>\n",
       "</div>"
      ],
      "text/plain": [
       "                 user_id     posted  item_id  recommend  sentiment_analysis\n",
       "0      76561197970982479 2011-11-05     1250       True                   2\n",
       "1      76561197970982479 2011-07-15    22200       True                   2\n",
       "2      76561197970982479 2011-04-21    43110       True                   2\n",
       "3                js41637 2014-06-24   251610       True                   2\n",
       "4                js41637 2013-09-08   227300       True                   2\n",
       "...                  ...        ...      ...        ...                 ...\n",
       "58396  76561198312638244        NaT       70       True                   2\n",
       "58397  76561198312638244        NaT   362890       True                   2\n",
       "58398        LydiaMorley        NaT   273110       True                   2\n",
       "58399        LydiaMorley        NaT      730       True                   2\n",
       "58400        LydiaMorley        NaT      440       True                   2\n",
       "\n",
       "[58401 rows x 5 columns]"
      ]
     },
     "execution_count": 20,
     "metadata": {},
     "output_type": "execute_result"
    }
   ],
   "source": [
    "# Se extrae solo la parte de la fecha sin \"Posted\" y los puntos, usando expresiones regulares\n",
    "df_reviews_copy[\"posted\"] = df_reviews_copy[\"posted\"].str.extract(r'Posted (.+?)\\.')\n",
    "\n",
    "# Convertir a formato datetime con formato \"%B %d, %Y\", las que no tengas años quedarán con formato 'Not a Time'\n",
    "df_reviews_copy[\"posted\"] = pd.to_datetime(df_reviews_copy[\"posted\"], errors='coerce', format=\"%B %d, %Y\")\n",
    "\n",
    "df_reviews_copy"
   ]
  },
  {
   "cell_type": "markdown",
   "metadata": {},
   "source": [
    "*Al hacer la transformaciones, las fechas sin año se pierden. Eliminamos estas columnas para graficar algunas relaciones.*"
   ]
  },
  {
   "cell_type": "code",
   "execution_count": 21,
   "metadata": {},
   "outputs": [
    {
     "name": "stdout",
     "output_type": "stream",
     "text": [
      "filas eliminadas del dataframe: 9930\n"
     ]
    }
   ],
   "source": [
    "\n",
    "# Número de filas antes de eliminar los valores nulos\n",
    "filas_antes = len(df_reviews_copy)\n",
    "\n",
    "# Eliminar valores nulos en la columna 'posted'\n",
    "df_reviews_copy.dropna(subset=['posted'], inplace=True)\n",
    "\n",
    "# Número de filas después de eliminar los valores nulos\n",
    "filas_despues = len(df_reviews_copy)\n",
    "\n",
    "# Calcular la cantidad de filas eliminadas\n",
    "filas_eliminadas = filas_antes - filas_despues\n",
    "\n",
    "print('filas eliminadas del dataframe:', filas_eliminadas)\n",
    "\n"
   ]
  },
  {
   "cell_type": "markdown",
   "metadata": {},
   "source": [
    "*Para graficar, extraemos año y mes de 'posted'*"
   ]
  },
  {
   "cell_type": "code",
   "execution_count": 22,
   "metadata": {},
   "outputs": [
    {
     "name": "stdout",
     "output_type": "stream",
     "text": [
      "                 user_id     posted  item_id  recommend  sentiment_analysis  \\\n",
      "0      76561197970982479 2011-11-05     1250       True                   2   \n",
      "1      76561197970982479 2011-07-15    22200       True                   2   \n",
      "2      76561197970982479 2011-04-21    43110       True                   2   \n",
      "3                js41637 2014-06-24   251610       True                   2   \n",
      "4                js41637 2013-09-08   227300       True                   2   \n",
      "...                  ...        ...      ...        ...                 ...   \n",
      "58348            wayfeng 2015-10-14      730       True                   2   \n",
      "58351  76561198251004808 2015-10-10   253980       True                   2   \n",
      "58361        72947282842 2015-10-31      730       True                   1   \n",
      "58363          ApxLGhost 2015-12-14      730       True                   2   \n",
      "58372  76561198267374962 2015-12-29   369200       True                   2   \n",
      "\n",
      "       year  month  \n",
      "0      2011     11  \n",
      "1      2011      7  \n",
      "2      2011      4  \n",
      "3      2014      6  \n",
      "4      2013      9  \n",
      "...     ...    ...  \n",
      "58348  2015     10  \n",
      "58351  2015     10  \n",
      "58361  2015     10  \n",
      "58363  2015     12  \n",
      "58372  2015     12  \n",
      "\n",
      "[48471 rows x 7 columns]\n"
     ]
    }
   ],
   "source": [
    "# Extraemos el año en una nueva columna\n",
    "df_reviews_copy['year']= df_reviews_copy['posted'].dt.year\n",
    "df_reviews_copy['month']= df_reviews_copy['posted'].dt.month\n",
    "print(df_reviews_copy)"
   ]
  },
  {
   "cell_type": "markdown",
   "metadata": {},
   "source": [
    "*Finalmente, graficamos la relación cantidad de reviews por Año y Mes*"
   ]
  },
  {
   "cell_type": "code",
   "execution_count": 23,
   "metadata": {},
   "outputs": [
    {
     "data": {
      "image/png": "[encoded data removed]",
      "text/plain": [
       "<Figure size 1200x600 with 1 Axes>"
      ]
     },
     "metadata": {},
     "output_type": "display_data"
    }
   ],
   "source": [
    "# Calcular la cantidad de reviews por mes y año\n",
    "filtro_reviews = df_reviews_copy.groupby(['year', 'month']).size().reset_index(name='Cantidad de reviews')\n",
    "\n",
    "# Graficar la distribución de reviews por mes y año\n",
    "plt.figure(figsize=(12, 6))\n",
    "sns.lineplot(data=filtro_reviews, x=\"month\", y=\"Cantidad de reviews\", hue=\"year\", marker='o',palette='deep')\n",
    "plt.xlabel('Mes')\n",
    "plt.ylabel('Cantidad de reviews')\n",
    "plt.title('Distribución de reviews por mes y año')\n",
    "plt.legend(title='Año')\n",
    "plt.tight_layout()\n",
    "plt.show()"
   ]
  },
  {
   "cell_type": "markdown",
   "metadata": {},
   "source": [
    "*Hay una gran cantidad de reseñas concentradas en diciembre de 2013, revisamos ese año en particular*"
   ]
  },
  {
   "cell_type": "code",
   "execution_count": 24,
   "metadata": {},
   "outputs": [
    {
     "data": {
      "text/html": [
       "<div>\n",
       "<style scoped>\n",
       "    .dataframe tbody tr th:only-of-type {\n",
       "        vertical-align: middle;\n",
       "    }\n",
       "\n",
       "    .dataframe tbody tr th {\n",
       "        vertical-align: top;\n",
       "    }\n",
       "\n",
       "    .dataframe thead th {\n",
       "        text-align: right;\n",
       "    }\n",
       "</style>\n",
       "<table border=\"1\" class=\"dataframe\">\n",
       "  <thead>\n",
       "    <tr style=\"text-align: right;\">\n",
       "      <th></th>\n",
       "      <th>year</th>\n",
       "      <th>Cantidad de reviews</th>\n",
       "    </tr>\n",
       "  </thead>\n",
       "  <tbody>\n",
       "    <tr>\n",
       "      <th>0</th>\n",
       "      <td>2010</td>\n",
       "      <td>66</td>\n",
       "    </tr>\n",
       "    <tr>\n",
       "      <th>1</th>\n",
       "      <td>2011</td>\n",
       "      <td>530</td>\n",
       "    </tr>\n",
       "    <tr>\n",
       "      <th>2</th>\n",
       "      <td>2012</td>\n",
       "      <td>1201</td>\n",
       "    </tr>\n",
       "    <tr>\n",
       "      <th>3</th>\n",
       "      <td>2013</td>\n",
       "      <td>6707</td>\n",
       "    </tr>\n",
       "    <tr>\n",
       "      <th>4</th>\n",
       "      <td>2014</td>\n",
       "      <td>21821</td>\n",
       "    </tr>\n",
       "    <tr>\n",
       "      <th>5</th>\n",
       "      <td>2015</td>\n",
       "      <td>18146</td>\n",
       "    </tr>\n",
       "  </tbody>\n",
       "</table>\n",
       "</div>"
      ],
      "text/plain": [
       "   year  Cantidad de reviews\n",
       "0  2010                   66\n",
       "1  2011                  530\n",
       "2  2012                 1201\n",
       "3  2013                 6707\n",
       "4  2014                21821\n",
       "5  2015                18146"
      ]
     },
     "execution_count": 24,
     "metadata": {},
     "output_type": "execute_result"
    }
   ],
   "source": [
    "df_counts = df_reviews_copy.groupby(['year']).size().reset_index(name='Cantidad de reviews')\n",
    "df_counts"
   ]
  },
  {
   "cell_type": "code",
   "execution_count": 25,
   "metadata": {},
   "outputs": [
    {
     "name": "stdout",
     "output_type": "stream",
     "text": [
      "Cantidad de reseñas en 2013: 6707\n",
      "Usuarios únicos en 2013: 4921\n",
      "Top 10 de item_id con más reseñas en diciembre de 2013:\n",
      "item_id\n",
      "440       801\n",
      "4000      342\n",
      "570       259\n",
      "550       237\n",
      "730       182\n",
      "105600    149\n",
      "72850     134\n",
      "211820    102\n",
      "230410    100\n",
      "218620     96\n",
      "Name: count, dtype: int64\n"
     ]
    }
   ],
   "source": [
    "# Filtrar las reseñas publicadas en diciembre de 2015\n",
    "df_2013 = df_reviews_copy[(df_reviews_copy['year'] == 2013)]\n",
    "\n",
    "# Contar los usuarios únicos y la cantidad de reseñas\n",
    "usuarios_unicos = df_2013['user_id'].nunique()\n",
    "cantidad_reviews = df_2013.shape[0]\n",
    "\n",
    "print(f\"Cantidad de reseñas en 2013: {cantidad_reviews}\")\n",
    "print(f\"Usuarios únicos en 2013: {usuarios_unicos}\")\n",
    "\n",
    "print(f'Top 10 de item_id con más reseñas en diciembre de 2013:')\n",
    "top_10_items = df_2013['item_id'].value_counts().head(10)\n",
    "print(top_10_items)"
   ]
  },
  {
   "cell_type": "code",
   "execution_count": 26,
   "metadata": {},
   "outputs": [
    {
     "name": "stdout",
     "output_type": "stream",
     "text": [
      "<class 'pandas.core.frame.DataFrame'>\n",
      "Index: 48471 entries, 0 to 58372\n",
      "Data columns (total 7 columns):\n",
      " #   Column              Non-Null Count  Dtype         \n",
      "---  ------              --------------  -----         \n",
      " 0   user_id             48471 non-null  object        \n",
      " 1   posted              48471 non-null  datetime64[ns]\n",
      " 2   item_id             48471 non-null  int64         \n",
      " 3   recommend           48471 non-null  bool          \n",
      " 4   sentiment_analysis  48471 non-null  int64         \n",
      " 5   year                48471 non-null  int32         \n",
      " 6   month               48471 non-null  int32         \n",
      "dtypes: bool(1), datetime64[ns](1), int32(2), int64(2), object(1)\n",
      "memory usage: 2.3+ MB\n"
     ]
    }
   ],
   "source": [
    "df_reviews_copy.info()"
   ]
  },
  {
   "cell_type": "markdown",
   "metadata": {},
   "source": [
    "*Guardamos una copia de este dataset limpio*"
   ]
  },
  {
   "cell_type": "code",
   "execution_count": 27,
   "metadata": {},
   "outputs": [],
   "source": [
    "df_reviews_copy.to_parquet(r\"reviews_final.parquet\", index=False)"
   ]
  },
  {
   "cell_type": "markdown",
   "metadata": {},
   "source": [
    "## 1. EDA Dataset Items ##"
   ]
  },
  {
   "cell_type": "code",
   "execution_count": 41,
   "metadata": {},
   "outputs": [],
   "source": [
    "# Carga de base de datos de items\n",
    "df_items= pd.read_parquet(r'C:\\Users\\Lenovo\\Desktop\\Proyecto Individual\\Datasets\\0. Data\\Items.parquet')"
   ]
  },
  {
   "cell_type": "markdown",
   "metadata": {},
   "source": [
    "*Se realiza copia antes de iniciar para no afectar el dataframe original*"
   ]
  },
  {
   "cell_type": "code",
   "execution_count": 42,
   "metadata": {},
   "outputs": [],
   "source": [
    "df_items_copy= df_items.copy()"
   ]
  },
  {
   "cell_type": "markdown",
   "metadata": {},
   "source": [
    "*Se identifica si hay filas duplicadas*"
   ]
  },
  {
   "cell_type": "code",
   "execution_count": 43,
   "metadata": {},
   "outputs": [
    {
     "name": "stdout",
     "output_type": "stream",
     "text": [
      "Cantidad de filas duplicadas en df_items_copy:  13\n"
     ]
    }
   ],
   "source": [
    "# Contar el número de filas duplicadas\n",
    "conteo_duplicados = df_items_copy.duplicated().sum()\n",
    "\n",
    "# Mostrar el resultado\n",
    "print(f\"Cantidad de filas duplicadas en df_items_copy:  {conteo_duplicados}\")"
   ]
  },
  {
   "cell_type": "code",
   "execution_count": 44,
   "metadata": {},
   "outputs": [],
   "source": [
    "# Se eliminan los duplicados\n",
    "df_items_copy.drop_duplicates(inplace=True)"
   ]
  },
  {
   "cell_type": "markdown",
   "metadata": {},
   "source": [
    "**Revisión general df_items_copy**"
   ]
  },
  {
   "cell_type": "code",
   "execution_count": 45,
   "metadata": {},
   "outputs": [
    {
     "data": {
      "text/html": [
       "<div>\n",
       "<style scoped>\n",
       "    .dataframe tbody tr th:only-of-type {\n",
       "        vertical-align: middle;\n",
       "    }\n",
       "\n",
       "    .dataframe tbody tr th {\n",
       "        vertical-align: top;\n",
       "    }\n",
       "\n",
       "    .dataframe thead th {\n",
       "        text-align: right;\n",
       "    }\n",
       "</style>\n",
       "<table border=\"1\" class=\"dataframe\">\n",
       "  <thead>\n",
       "    <tr style=\"text-align: right;\">\n",
       "      <th></th>\n",
       "      <th>user_id</th>\n",
       "      <th>items_count</th>\n",
       "      <th>item_id</th>\n",
       "      <th>item_name</th>\n",
       "      <th>playtime_forever</th>\n",
       "    </tr>\n",
       "  </thead>\n",
       "  <tbody>\n",
       "    <tr>\n",
       "      <th>1109537</th>\n",
       "      <td>nealsavage</td>\n",
       "      <td>615</td>\n",
       "      <td>1930</td>\n",
       "      <td>Two Worlds Epic Edition</td>\n",
       "      <td>0.0</td>\n",
       "    </tr>\n",
       "    <tr>\n",
       "      <th>4066066</th>\n",
       "      <td>Resplendentbadger</td>\n",
       "      <td>704</td>\n",
       "      <td>239070</td>\n",
       "      <td>Hammerwatch</td>\n",
       "      <td>45.0</td>\n",
       "    </tr>\n",
       "    <tr>\n",
       "      <th>4000233</th>\n",
       "      <td>76561198017218804</td>\n",
       "      <td>14</td>\n",
       "      <td>232090</td>\n",
       "      <td>Killing Floor</td>\n",
       "      <td>427.0</td>\n",
       "    </tr>\n",
       "    <tr>\n",
       "      <th>3041668</th>\n",
       "      <td>76561198074506980</td>\n",
       "      <td>92</td>\n",
       "      <td>33220</td>\n",
       "      <td>Tom Clancys Splinter Cell Conviction</td>\n",
       "      <td>137.0</td>\n",
       "    </tr>\n",
       "    <tr>\n",
       "      <th>93212</th>\n",
       "      <td>76561198081438874</td>\n",
       "      <td>81</td>\n",
       "      <td>550</td>\n",
       "      <td>Left  Dead</td>\n",
       "      <td>8087.0</td>\n",
       "    </tr>\n",
       "    <tr>\n",
       "      <th>1105669</th>\n",
       "      <td>Jakobey</td>\n",
       "      <td>64</td>\n",
       "      <td>368730</td>\n",
       "      <td>No Time To Explain Remastered</td>\n",
       "      <td>0.0</td>\n",
       "    </tr>\n",
       "    <tr>\n",
       "      <th>1765763</th>\n",
       "      <td>76561198053471515</td>\n",
       "      <td>155</td>\n",
       "      <td>202170</td>\n",
       "      <td>Sleeping Dogs</td>\n",
       "      <td>561.0</td>\n",
       "    </tr>\n",
       "    <tr>\n",
       "      <th>3738800</th>\n",
       "      <td>76561198058546299</td>\n",
       "      <td>217</td>\n",
       "      <td>305620</td>\n",
       "      <td>The Long Dark</td>\n",
       "      <td>115.0</td>\n",
       "    </tr>\n",
       "    <tr>\n",
       "      <th>4635630</th>\n",
       "      <td>76561198067128005</td>\n",
       "      <td>27</td>\n",
       "      <td>271290</td>\n",
       "      <td>HAWKEN</td>\n",
       "      <td>477.0</td>\n",
       "    </tr>\n",
       "    <tr>\n",
       "      <th>1804326</th>\n",
       "      <td>76561198042867998</td>\n",
       "      <td>111</td>\n",
       "      <td>272860</td>\n",
       "      <td>Next Car Game ThrowASanta  Sneak Peek</td>\n",
       "      <td>4.0</td>\n",
       "    </tr>\n",
       "  </tbody>\n",
       "</table>\n",
       "</div>"
      ],
      "text/plain": [
       "                   user_id  items_count  item_id  \\\n",
       "1109537         nealsavage          615     1930   \n",
       "4066066  Resplendentbadger          704   239070   \n",
       "4000233  76561198017218804           14   232090   \n",
       "3041668  76561198074506980           92    33220   \n",
       "93212    76561198081438874           81      550   \n",
       "1105669            Jakobey           64   368730   \n",
       "1765763  76561198053471515          155   202170   \n",
       "3738800  76561198058546299          217   305620   \n",
       "4635630  76561198067128005           27   271290   \n",
       "1804326  76561198042867998          111   272860   \n",
       "\n",
       "                                      item_name  playtime_forever  \n",
       "1109537                 Two Worlds Epic Edition               0.0  \n",
       "4066066                             Hammerwatch              45.0  \n",
       "4000233                          Killing Floor              427.0  \n",
       "3041668    Tom Clancys Splinter Cell Conviction             137.0  \n",
       "93212                               Left  Dead             8087.0  \n",
       "1105669           No Time To Explain Remastered               0.0  \n",
       "1765763                           Sleeping Dogs             561.0  \n",
       "3738800                           The Long Dark             115.0  \n",
       "4635630                                  HAWKEN             477.0  \n",
       "1804326  Next Car Game ThrowASanta  Sneak Peek                4.0  "
      ]
     },
     "execution_count": 45,
     "metadata": {},
     "output_type": "execute_result"
    }
   ],
   "source": [
    "df_items_copy.sample(10)"
   ]
  },
  {
   "cell_type": "code",
   "execution_count": 46,
   "metadata": {},
   "outputs": [
    {
     "name": "stdout",
     "output_type": "stream",
     "text": [
      "<class 'pandas.core.frame.DataFrame'>\n",
      "Index: 5094092 entries, 0 to 5094104\n",
      "Data columns (total 5 columns):\n",
      " #   Column            Dtype  \n",
      "---  ------            -----  \n",
      " 0   user_id           object \n",
      " 1   items_count       int64  \n",
      " 2   item_id           int64  \n",
      " 3   item_name         object \n",
      " 4   playtime_forever  float64\n",
      "dtypes: float64(1), int64(2), object(2)\n",
      "memory usage: 233.2+ MB\n"
     ]
    }
   ],
   "source": [
    "df_items_copy.info()"
   ]
  },
  {
   "cell_type": "code",
   "execution_count": 47,
   "metadata": {},
   "outputs": [
    {
     "data": {
      "text/html": [
       "<div>\n",
       "<style scoped>\n",
       "    .dataframe tbody tr th:only-of-type {\n",
       "        vertical-align: middle;\n",
       "    }\n",
       "\n",
       "    .dataframe tbody tr th {\n",
       "        vertical-align: top;\n",
       "    }\n",
       "\n",
       "    .dataframe thead th {\n",
       "        text-align: right;\n",
       "    }\n",
       "</style>\n",
       "<table border=\"1\" class=\"dataframe\">\n",
       "  <thead>\n",
       "    <tr style=\"text-align: right;\">\n",
       "      <th></th>\n",
       "      <th>user_id</th>\n",
       "      <th>items_count</th>\n",
       "      <th>item_id</th>\n",
       "      <th>item_name</th>\n",
       "      <th>playtime_forever</th>\n",
       "    </tr>\n",
       "  </thead>\n",
       "  <tbody>\n",
       "    <tr>\n",
       "      <th>Total</th>\n",
       "      <td>5094092</td>\n",
       "      <td>5094092</td>\n",
       "      <td>5094092</td>\n",
       "      <td>5094092</td>\n",
       "      <td>5094092</td>\n",
       "    </tr>\n",
       "    <tr>\n",
       "      <th>Valores únicos</th>\n",
       "      <td>70912</td>\n",
       "      <td>924</td>\n",
       "      <td>10978</td>\n",
       "      <td>10731</td>\n",
       "      <td>48861</td>\n",
       "    </tr>\n",
       "  </tbody>\n",
       "</table>\n",
       "</div>"
      ],
      "text/plain": [
       "                user_id  items_count  item_id  item_name  playtime_forever\n",
       "Total           5094092      5094092  5094092    5094092           5094092\n",
       "Valores únicos    70912          924    10978      10731             48861"
      ]
     },
     "execution_count": 47,
     "metadata": {},
     "output_type": "execute_result"
    }
   ],
   "source": [
    "def valores_unicos(data):\n",
    "  total = data.count()\n",
    "  tt = pd.DataFrame(total)\n",
    "  tt.columns = ['Total']\n",
    "  unicos = []\n",
    "  for col in data.columns:\n",
    "    unicos.append(data[col].nunique())\n",
    "  tt['Valores únicos'] = unicos\n",
    "  return np.transpose(tt)\n",
    "valores_unicos(df_items_copy)"
   ]
  },
  {
   "cell_type": "markdown",
   "metadata": {},
   "source": [
    "* Existen 70.912 user_id únicos en el dataframe. Se listan además 10978 item_id pero sólo tenemos nombres asociados a estos items para 10.731 de ellos."
   ]
  },
  {
   "cell_type": "code",
   "execution_count": 48,
   "metadata": {},
   "outputs": [
    {
     "data": {
      "text/html": [
       "<div>\n",
       "<style scoped>\n",
       "    .dataframe tbody tr th:only-of-type {\n",
       "        vertical-align: middle;\n",
       "    }\n",
       "\n",
       "    .dataframe tbody tr th {\n",
       "        vertical-align: top;\n",
       "    }\n",
       "\n",
       "    .dataframe thead th {\n",
       "        text-align: right;\n",
       "    }\n",
       "</style>\n",
       "<table border=\"1\" class=\"dataframe\">\n",
       "  <thead>\n",
       "    <tr style=\"text-align: right;\">\n",
       "      <th></th>\n",
       "      <th>user_id</th>\n",
       "      <th>items_count</th>\n",
       "      <th>item_id</th>\n",
       "      <th>item_name</th>\n",
       "      <th>playtime_forever</th>\n",
       "    </tr>\n",
       "  </thead>\n",
       "  <tbody>\n",
       "    <tr>\n",
       "      <th>Total</th>\n",
       "      <td>5094092</td>\n",
       "      <td>5094092</td>\n",
       "      <td>5094092</td>\n",
       "      <td>5094092</td>\n",
       "      <td>5094092</td>\n",
       "    </tr>\n",
       "    <tr>\n",
       "      <th>Valores más frecuentes</th>\n",
       "      <td>phrostb</td>\n",
       "      <td>51</td>\n",
       "      <td>205790</td>\n",
       "      <td>Dota  Test</td>\n",
       "      <td>0.0</td>\n",
       "    </tr>\n",
       "    <tr>\n",
       "      <th>Frecuencia</th>\n",
       "      <td>7762</td>\n",
       "      <td>24990</td>\n",
       "      <td>49136</td>\n",
       "      <td>49136</td>\n",
       "      <td>1847730</td>\n",
       "    </tr>\n",
       "    <tr>\n",
       "      <th>Porcentaje</th>\n",
       "      <td>0.152</td>\n",
       "      <td>0.491</td>\n",
       "      <td>0.965</td>\n",
       "      <td>0.965</td>\n",
       "      <td>36.272</td>\n",
       "    </tr>\n",
       "  </tbody>\n",
       "</table>\n",
       "</div>"
      ],
      "text/plain": [
       "                        user_id items_count  item_id   item_name  \\\n",
       "Total                   5094092     5094092  5094092     5094092   \n",
       "Valores más frecuentes  phrostb          51   205790  Dota  Test   \n",
       "Frecuencia                 7762       24990    49136       49136   \n",
       "Porcentaje                0.152       0.491    0.965       0.965   \n",
       "\n",
       "                       playtime_forever  \n",
       "Total                           5094092  \n",
       "Valores más frecuentes              0.0  \n",
       "Frecuencia                      1847730  \n",
       "Porcentaje                       36.272  "
      ]
     },
     "execution_count": 48,
     "metadata": {},
     "output_type": "execute_result"
    }
   ],
   "source": [
    "def valores_frecuentes(data):\n",
    "  total = data.count()\n",
    "  tt = pd.DataFrame(total)\n",
    "  tt.columns = ['Total']\n",
    "  items = []\n",
    "  vals = []\n",
    "  for col in data.columns:\n",
    "    item = data[col].value_counts().index[0]\n",
    "    val = data[col].value_counts().values[0]\n",
    "    items.append(item)\n",
    "    vals.append(val)\n",
    "  tt['Valores más frecuentes'] = items\n",
    "  tt['Frecuencia'] = vals\n",
    "  tt['Porcentaje'] = np.round(vals/total*100, 3)\n",
    "  return np.transpose(tt)\n",
    "valores_frecuentes(df_items_copy)"
   ]
  },
  {
   "cell_type": "markdown",
   "metadata": {},
   "source": [
    "*Dota Test es el item más listado, que corresponde al item_id 205790. 'phrostb' es el usuario que posee más ítems asociados, con un total de 7762.*   \n",
    "*Existen 1847730 registros de items en donde los usuarios a los que están asociados no registran horas de juego, que en porcentaje corresponde al 36,3% de los registros respecto del total de registros.*"
   ]
  },
  {
   "cell_type": "code",
   "execution_count": 49,
   "metadata": {},
   "outputs": [
    {
     "data": {
      "text/html": [
       "<div>\n",
       "<style scoped>\n",
       "    .dataframe tbody tr th:only-of-type {\n",
       "        vertical-align: middle;\n",
       "    }\n",
       "\n",
       "    .dataframe tbody tr th {\n",
       "        vertical-align: top;\n",
       "    }\n",
       "\n",
       "    .dataframe thead th {\n",
       "        text-align: right;\n",
       "    }\n",
       "</style>\n",
       "<table border=\"1\" class=\"dataframe\">\n",
       "  <thead>\n",
       "    <tr style=\"text-align: right;\">\n",
       "      <th></th>\n",
       "      <th>user_id</th>\n",
       "      <th>items_count</th>\n",
       "      <th>item_id</th>\n",
       "      <th>item_name</th>\n",
       "      <th>playtime_forever</th>\n",
       "    </tr>\n",
       "  </thead>\n",
       "  <tbody>\n",
       "    <tr>\n",
       "      <th>Total Nulos</th>\n",
       "      <td>0</td>\n",
       "      <td>0</td>\n",
       "      <td>0</td>\n",
       "      <td>0</td>\n",
       "      <td>0</td>\n",
       "    </tr>\n",
       "    <tr>\n",
       "      <th>Porcentaje Nulos</th>\n",
       "      <td>0.0</td>\n",
       "      <td>0.0</td>\n",
       "      <td>0.0</td>\n",
       "      <td>0.0</td>\n",
       "      <td>0.0</td>\n",
       "    </tr>\n",
       "    <tr>\n",
       "      <th>Total Vacios</th>\n",
       "      <td>0</td>\n",
       "      <td>0</td>\n",
       "      <td>0</td>\n",
       "      <td>1090</td>\n",
       "      <td>0</td>\n",
       "    </tr>\n",
       "    <tr>\n",
       "      <th>Porcentaje Vacios</th>\n",
       "      <td>0.0</td>\n",
       "      <td>0.0</td>\n",
       "      <td>0.0</td>\n",
       "      <td>0.021397</td>\n",
       "      <td>0.0</td>\n",
       "    </tr>\n",
       "    <tr>\n",
       "      <th>Tipos</th>\n",
       "      <td>object</td>\n",
       "      <td>int64</td>\n",
       "      <td>int64</td>\n",
       "      <td>object</td>\n",
       "      <td>float64</td>\n",
       "    </tr>\n",
       "  </tbody>\n",
       "</table>\n",
       "</div>"
      ],
      "text/plain": [
       "                  user_id items_count item_id item_name playtime_forever\n",
       "Total Nulos             0           0       0         0                0\n",
       "Porcentaje Nulos      0.0         0.0     0.0       0.0              0.0\n",
       "Total Vacios            0           0       0      1090                0\n",
       "Porcentaje Vacios     0.0         0.0     0.0  0.021397              0.0\n",
       "Tipos              object       int64   int64    object          float64"
      ]
     },
     "execution_count": 49,
     "metadata": {},
     "output_type": "execute_result"
    }
   ],
   "source": [
    "def valores_faltantes(data):\n",
    "    # Contar valores nulos y vacíos\n",
    "    total_nulos = data.isnull().sum()\n",
    "    total_vacios = (data == '').sum()\n",
    "\n",
    "    # Sumar ambos tipos de valores faltantes\n",
    "    total = total_nulos + total_vacios\n",
    "\n",
    "    # Calcular el porcentaje de valores faltantes\n",
    "    porcentaje_nulos = (total_nulos / len(data)) * 100\n",
    "    porcentaje_vacios = (total_vacios / len(data)) * 100\n",
    "\n",
    "    # Crear DataFrame con el resumen de valores faltantes\n",
    "    tt = pd.concat([total_nulos, porcentaje_nulos, total_vacios, porcentaje_vacios], axis=1, keys=['Total Nulos', 'Porcentaje Nulos', 'Total Vacios', 'Porcentaje Vacios'])\n",
    "\n",
    "    # Identificar los tipos de datos de las columnas\n",
    "    tt['Tipos'] = [str(data[col].dtype) for col in data.columns]\n",
    "\n",
    "    return np.transpose(tt)\n",
    "\n",
    "valores_faltantes(df_items_copy)"
   ]
  },
  {
   "cell_type": "markdown",
   "metadata": {},
   "source": [
    "* Se identifican 1090 valores vacíos en la columna item_name. Los eliminamos."
   ]
  },
  {
   "cell_type": "code",
   "execution_count": 50,
   "metadata": {},
   "outputs": [],
   "source": [
    "df_items_copy.replace({'item_name': ''}, np.nan, inplace=True)\n",
    "df_items_copy.dropna(inplace=True)"
   ]
  },
  {
   "cell_type": "code",
   "execution_count": 51,
   "metadata": {},
   "outputs": [
    {
     "data": {
      "text/html": [
       "<div>\n",
       "<style scoped>\n",
       "    .dataframe tbody tr th:only-of-type {\n",
       "        vertical-align: middle;\n",
       "    }\n",
       "\n",
       "    .dataframe tbody tr th {\n",
       "        vertical-align: top;\n",
       "    }\n",
       "\n",
       "    .dataframe thead th {\n",
       "        text-align: right;\n",
       "    }\n",
       "</style>\n",
       "<table border=\"1\" class=\"dataframe\">\n",
       "  <thead>\n",
       "    <tr style=\"text-align: right;\">\n",
       "      <th></th>\n",
       "      <th>user_id</th>\n",
       "      <th>items_count</th>\n",
       "      <th>item_id</th>\n",
       "      <th>item_name</th>\n",
       "      <th>playtime_forever</th>\n",
       "    </tr>\n",
       "  </thead>\n",
       "  <tbody>\n",
       "    <tr>\n",
       "      <th>Total Nulos</th>\n",
       "      <td>0</td>\n",
       "      <td>0</td>\n",
       "      <td>0</td>\n",
       "      <td>0</td>\n",
       "      <td>0</td>\n",
       "    </tr>\n",
       "    <tr>\n",
       "      <th>Porcentaje Nulos</th>\n",
       "      <td>0.0</td>\n",
       "      <td>0.0</td>\n",
       "      <td>0.0</td>\n",
       "      <td>0.0</td>\n",
       "      <td>0.0</td>\n",
       "    </tr>\n",
       "    <tr>\n",
       "      <th>Total Vacios</th>\n",
       "      <td>0</td>\n",
       "      <td>0</td>\n",
       "      <td>0</td>\n",
       "      <td>0</td>\n",
       "      <td>0</td>\n",
       "    </tr>\n",
       "    <tr>\n",
       "      <th>Porcentaje Vacios</th>\n",
       "      <td>0.0</td>\n",
       "      <td>0.0</td>\n",
       "      <td>0.0</td>\n",
       "      <td>0.0</td>\n",
       "      <td>0.0</td>\n",
       "    </tr>\n",
       "    <tr>\n",
       "      <th>Tipos</th>\n",
       "      <td>object</td>\n",
       "      <td>int64</td>\n",
       "      <td>int64</td>\n",
       "      <td>object</td>\n",
       "      <td>float64</td>\n",
       "    </tr>\n",
       "  </tbody>\n",
       "</table>\n",
       "</div>"
      ],
      "text/plain": [
       "                  user_id items_count item_id item_name playtime_forever\n",
       "Total Nulos             0           0       0         0                0\n",
       "Porcentaje Nulos      0.0         0.0     0.0       0.0              0.0\n",
       "Total Vacios            0           0       0         0                0\n",
       "Porcentaje Vacios     0.0         0.0     0.0       0.0              0.0\n",
       "Tipos              object       int64   int64    object          float64"
      ]
     },
     "execution_count": 51,
     "metadata": {},
     "output_type": "execute_result"
    }
   ],
   "source": [
    "# Verificamos los cambios\n",
    "valores_faltantes(df_items_copy)"
   ]
  },
  {
   "cell_type": "markdown",
   "metadata": {},
   "source": [
    "*Obtenemos algunos fltros de información para revisar y graficar*"
   ]
  },
  {
   "cell_type": "code",
   "execution_count": 52,
   "metadata": {},
   "outputs": [
    {
     "data": {
      "text/html": [
       "<div>\n",
       "<style scoped>\n",
       "    .dataframe tbody tr th:only-of-type {\n",
       "        vertical-align: middle;\n",
       "    }\n",
       "\n",
       "    .dataframe tbody tr th {\n",
       "        vertical-align: top;\n",
       "    }\n",
       "\n",
       "    .dataframe thead th {\n",
       "        text-align: right;\n",
       "    }\n",
       "</style>\n",
       "<table border=\"1\" class=\"dataframe\">\n",
       "  <thead>\n",
       "    <tr style=\"text-align: right;\">\n",
       "      <th></th>\n",
       "      <th>user_id</th>\n",
       "      <th>items_count</th>\n",
       "    </tr>\n",
       "  </thead>\n",
       "  <tbody>\n",
       "    <tr>\n",
       "      <th>0</th>\n",
       "      <td>76561197970982479</td>\n",
       "      <td>277</td>\n",
       "    </tr>\n",
       "    <tr>\n",
       "      <th>277</th>\n",
       "      <td>js41637</td>\n",
       "      <td>888</td>\n",
       "    </tr>\n",
       "    <tr>\n",
       "      <th>1165</th>\n",
       "      <td>evcentric</td>\n",
       "      <td>137</td>\n",
       "    </tr>\n",
       "    <tr>\n",
       "      <th>1302</th>\n",
       "      <td>Riot-Punch</td>\n",
       "      <td>328</td>\n",
       "    </tr>\n",
       "    <tr>\n",
       "      <th>1630</th>\n",
       "      <td>doctr</td>\n",
       "      <td>541</td>\n",
       "    </tr>\n",
       "    <tr>\n",
       "      <th>...</th>\n",
       "      <td>...</td>\n",
       "      <td>...</td>\n",
       "    </tr>\n",
       "    <tr>\n",
       "      <th>5093574</th>\n",
       "      <td>76561198320136420</td>\n",
       "      <td>321</td>\n",
       "    </tr>\n",
       "    <tr>\n",
       "      <th>5093895</th>\n",
       "      <td>ArkPlays7</td>\n",
       "      <td>4</td>\n",
       "    </tr>\n",
       "    <tr>\n",
       "      <th>5093899</th>\n",
       "      <td>76561198323066619</td>\n",
       "      <td>22</td>\n",
       "    </tr>\n",
       "    <tr>\n",
       "      <th>5093921</th>\n",
       "      <td>76561198326700687</td>\n",
       "      <td>177</td>\n",
       "    </tr>\n",
       "    <tr>\n",
       "      <th>5094098</th>\n",
       "      <td>76561198329548331</td>\n",
       "      <td>7</td>\n",
       "    </tr>\n",
       "  </tbody>\n",
       "</table>\n",
       "<p>70912 rows × 2 columns</p>\n",
       "</div>"
      ],
      "text/plain": [
       "                   user_id  items_count\n",
       "0        76561197970982479          277\n",
       "277                js41637          888\n",
       "1165             evcentric          137\n",
       "1302            Riot-Punch          328\n",
       "1630                 doctr          541\n",
       "...                    ...          ...\n",
       "5093574  76561198320136420          321\n",
       "5093895          ArkPlays7            4\n",
       "5093899  76561198323066619           22\n",
       "5093921  76561198326700687          177\n",
       "5094098  76561198329548331            7\n",
       "\n",
       "[70912 rows x 2 columns]"
      ]
     },
     "execution_count": 52,
     "metadata": {},
     "output_type": "execute_result"
    }
   ],
   "source": [
    "# Este filtro solo toma las dos primeras columnas user_id e items_count para poder revisar la cantidad de items asociadas por usuario. Graficamos:\n",
    "total_items_user = df_items_copy[['user_id','items_count']].drop_duplicates()\n",
    "total_items_user"
   ]
  },
  {
   "cell_type": "markdown",
   "metadata": {},
   "source": [
    "*Revisamos las estadísticas asociadas a total_items_user*"
   ]
  },
  {
   "cell_type": "code",
   "execution_count": 53,
   "metadata": {},
   "outputs": [
    {
     "data": {
      "text/html": [
       "<div>\n",
       "<style scoped>\n",
       "    .dataframe tbody tr th:only-of-type {\n",
       "        vertical-align: middle;\n",
       "    }\n",
       "\n",
       "    .dataframe tbody tr th {\n",
       "        vertical-align: top;\n",
       "    }\n",
       "\n",
       "    .dataframe thead th {\n",
       "        text-align: right;\n",
       "    }\n",
       "</style>\n",
       "<table border=\"1\" class=\"dataframe\">\n",
       "  <thead>\n",
       "    <tr style=\"text-align: right;\">\n",
       "      <th></th>\n",
       "      <th>items_count</th>\n",
       "    </tr>\n",
       "  </thead>\n",
       "  <tbody>\n",
       "    <tr>\n",
       "      <th>count</th>\n",
       "      <td>70912.000000</td>\n",
       "    </tr>\n",
       "    <tr>\n",
       "      <th>mean</th>\n",
       "      <td>71.836671</td>\n",
       "    </tr>\n",
       "    <tr>\n",
       "      <th>std</th>\n",
       "      <td>132.366763</td>\n",
       "    </tr>\n",
       "    <tr>\n",
       "      <th>min</th>\n",
       "      <td>1.000000</td>\n",
       "    </tr>\n",
       "    <tr>\n",
       "      <th>25%</th>\n",
       "      <td>14.000000</td>\n",
       "    </tr>\n",
       "    <tr>\n",
       "      <th>50%</th>\n",
       "      <td>40.000000</td>\n",
       "    </tr>\n",
       "    <tr>\n",
       "      <th>75%</th>\n",
       "      <td>87.000000</td>\n",
       "    </tr>\n",
       "    <tr>\n",
       "      <th>max</th>\n",
       "      <td>7762.000000</td>\n",
       "    </tr>\n",
       "  </tbody>\n",
       "</table>\n",
       "</div>"
      ],
      "text/plain": [
       "        items_count\n",
       "count  70912.000000\n",
       "mean      71.836671\n",
       "std      132.366763\n",
       "min        1.000000\n",
       "25%       14.000000\n",
       "50%       40.000000\n",
       "75%       87.000000\n",
       "max     7762.000000"
      ]
     },
     "execution_count": 53,
     "metadata": {},
     "output_type": "execute_result"
    }
   ],
   "source": [
    "total_items_user.describe()"
   ]
  },
  {
   "cell_type": "markdown",
   "metadata": {},
   "source": [
    "*De un total de 70.912 usuarios (user_id), existe uno con 7762 ítems asociados (antes ya habíamos descubiero que era el usuario 'phrostb').*  \n",
    "*Por otro lado, la media de items por usuario es 71,8, con una desviación estándar de 132 items por usuario, afectada por los outliers.*"
   ]
  },
  {
   "cell_type": "markdown",
   "metadata": {},
   "source": [
    "*Graficamos los items*"
   ]
  },
  {
   "cell_type": "code",
   "execution_count": 54,
   "metadata": {},
   "outputs": [
    {
     "data": {
      "image/png": "[encoded data removed]",
      "text/plain": [
       "<Figure size 640x480 with 1 Axes>"
      ]
     },
     "metadata": {},
     "output_type": "display_data"
    }
   ],
   "source": [
    "# Plot histogram of release date feat\n",
    "total_items_user['items_count'].hist(bins=50)\n",
    "plt.title('Items asociados')\n",
    "plt.ylabel('Number of Usuarios')\n",
    "plt.xlabel('Items')\n",
    "plt.show()"
   ]
  },
  {
   "cell_type": "markdown",
   "metadata": {},
   "source": [
    "*Observamos la frecuencia de usuarios con hasta 1000 items asociados*"
   ]
  },
  {
   "cell_type": "code",
   "execution_count": 55,
   "metadata": {},
   "outputs": [
    {
     "data": {
      "image/png": "[encoded data removed]",
      "text/plain": [
       "<Figure size 640x480 with 1 Axes>"
      ]
     },
     "metadata": {},
     "output_type": "display_data"
    }
   ],
   "source": [
    "# Plot histogram of release date feat\n",
    "total_items_user['items_count'].hist(bins=60)\n",
    "plt.title('Items asociados')\n",
    "plt.ylabel('Number of Usuarios')\n",
    "plt.xlabel('Items')\n",
    "plt.xlim(0,1000)\n",
    "plt.show()"
   ]
  },
  {
   "cell_type": "code",
   "execution_count": 56,
   "metadata": {},
   "outputs": [
    {
     "data": {
      "image/png": "[encoded data removed]",
      "text/plain": [
       "<Figure size 1200x300 with 1 Axes>"
      ]
     },
     "metadata": {},
     "output_type": "display_data"
    }
   ],
   "source": [
    "import matplotlib.pyplot as plt\n",
    "\n",
    "plt.figure(figsize=(12, 3))  # Aumenta el ancho\n",
    "plt.boxplot(total_items_user['items_count'], vert=False, )\n",
    "plt.xlim(0, total_items_user['items_count'].max() + 10)\n",
    "plt.xlabel('Items_Count')\n",
    "plt.title('Distribuición Items por usuario')\n",
    "\n",
    "plt.show()"
   ]
  },
  {
   "cell_type": "markdown",
   "metadata": {},
   "source": [
    "*Calculamos los valores extremos en la columna items_count, aplicando el rango intercuantílico (IQR)*"
   ]
  },
  {
   "cell_type": "code",
   "execution_count": 57,
   "metadata": {},
   "outputs": [
    {
     "data": {
      "text/plain": [
       "0          277\n",
       "277        888\n",
       "1302       328\n",
       "1630       541\n",
       "2171       371\n",
       "          ... \n",
       "5078920    202\n",
       "5080276    347\n",
       "5088974    310\n",
       "5090547    291\n",
       "5093574    321\n",
       "Name: items_count, Length: 4957, dtype: int64"
      ]
     },
     "execution_count": 57,
     "metadata": {},
     "output_type": "execute_result"
    }
   ],
   "source": [
    "def calcula_outliers_IQR(data, carac, distancia):\n",
    "  IQR = data[carac].quantile(0.75) - data[carac].quantile(0.25)\n",
    "  limite_inf = data[carac].quantile(0.25) - (IQR*distancia)\n",
    "  limite_sup = data[carac].quantile(0.75) + (IQR*distancia)\n",
    "  outliers = (data[carac] > limite_sup) | (data[carac] < limite_inf)\n",
    "  return outliers\n",
    "outliers = calcula_outliers_IQR(total_items_user, 'items_count', 1.5)\n",
    "# Listamos los valores de total_items_user\n",
    "total_items_user.loc[outliers,'items_count']"
   ]
  },
  {
   "cell_type": "markdown",
   "metadata": {},
   "source": [
    "*Graficamos los items por usuario nuevamente excluyendo los valores extremos y visualizamos la distribución de datos nuevamente*"
   ]
  },
  {
   "cell_type": "code",
   "execution_count": 58,
   "metadata": {},
   "outputs": [
    {
     "data": {
      "text/plain": [
       "<Axes: xlabel='items_count'>"
      ]
     },
     "execution_count": 58,
     "metadata": {},
     "output_type": "execute_result"
    },
    {
     "data": {
      "image/png": "[encoded data removed]",
      "text/plain": [
       "<Figure size 640x480 with 1 Axes>"
      ]
     },
     "metadata": {},
     "output_type": "display_data"
    }
   ],
   "source": [
    "outliers = calcula_outliers_IQR(total_items_user, 'items_count', 1.5)\n",
    "data_trimmed_std = total_items_user.loc[~outliers]\n",
    "sns.boxplot(data_trimmed_std['items_count'], orient='h', color='#CC6CE7')"
   ]
  },
  {
   "cell_type": "markdown",
   "metadata": {},
   "source": [
    "*Como vemos, ya nuestro conjunto de datos es más representativo de la cantidad de datos que poseemos en nuestro dataset. La media al estar afectada antes por los valores extremos, se situa ahora por debajo de 50 items por usuario.*"
   ]
  },
  {
   "cell_type": "markdown",
   "metadata": {},
   "source": [
    "*Obstenemos los 10 juegos más reseñados.*"
   ]
  },
  {
   "cell_type": "code",
   "execution_count": 59,
   "metadata": {},
   "outputs": [
    {
     "data": {
      "image/png": "[encoded data removed]",
      "text/plain": [
       "<Figure size 600x400 with 1 Axes>"
      ]
     },
     "metadata": {},
     "output_type": "display_data"
    }
   ],
   "source": [
    "top_games = df_items_copy['item_name'].value_counts().head(10)\n",
    "\n",
    "# Crear el gráfico de barras\n",
    "plt.figure(figsize=(6, 4))\n",
    "top_games.plot(kind='bar')\n",
    "plt.title('Top 10 juegos más requeridos por usuarios')\n",
    "plt.xlabel('Nombre del juego', fontsize=5)\n",
    "plt.ylabel('Número de adquisiciones')\n",
    "plt.xticks(rotation=70, fontsize=6)\n",
    "plt.yticks(fontsize=8)\n",
    "\n",
    "plt.show()"
   ]
  },
  {
   "cell_type": "markdown",
   "metadata": {},
   "source": [
    "*Graficamos ahora la cantidad de horas jugadas por usuario. La columna 'playtime_forever' está en minutos, por tanto la pasamos a horas.*"
   ]
  },
  {
   "cell_type": "code",
   "execution_count": 60,
   "metadata": {},
   "outputs": [],
   "source": [
    "df_items_copy['playtime_hours'] = df_items_copy['playtime_forever'] / 60\n",
    "\n",
    "playtime_user= df_items_copy[['user_id', 'playtime_hours']].groupby('user_id').sum()\n"
   ]
  },
  {
   "cell_type": "markdown",
   "metadata": {},
   "source": [
    "*Revisamos algunas estadísticas, el usuario con más horas jugadas posee 77.673 horas jugadas! :o*"
   ]
  },
  {
   "cell_type": "code",
   "execution_count": 41,
   "metadata": {},
   "outputs": [
    {
     "data": {
      "text/html": [
       "<div>\n",
       "<style scoped>\n",
       "    .dataframe tbody tr th:only-of-type {\n",
       "        vertical-align: middle;\n",
       "    }\n",
       "\n",
       "    .dataframe tbody tr th {\n",
       "        vertical-align: top;\n",
       "    }\n",
       "\n",
       "    .dataframe thead th {\n",
       "        text-align: right;\n",
       "    }\n",
       "</style>\n",
       "<table border=\"1\" class=\"dataframe\">\n",
       "  <thead>\n",
       "    <tr style=\"text-align: right;\">\n",
       "      <th></th>\n",
       "      <th>playtime_hours</th>\n",
       "    </tr>\n",
       "  </thead>\n",
       "  <tbody>\n",
       "    <tr>\n",
       "      <th>count</th>\n",
       "      <td>70912.000000</td>\n",
       "    </tr>\n",
       "    <tr>\n",
       "      <th>mean</th>\n",
       "      <td>1185.923266</td>\n",
       "    </tr>\n",
       "    <tr>\n",
       "      <th>std</th>\n",
       "      <td>1474.586024</td>\n",
       "    </tr>\n",
       "    <tr>\n",
       "      <th>min</th>\n",
       "      <td>0.000000</td>\n",
       "    </tr>\n",
       "    <tr>\n",
       "      <th>25%</th>\n",
       "      <td>191.550000</td>\n",
       "    </tr>\n",
       "    <tr>\n",
       "      <th>50%</th>\n",
       "      <td>736.166667</td>\n",
       "    </tr>\n",
       "    <tr>\n",
       "      <th>75%</th>\n",
       "      <td>1684.604167</td>\n",
       "    </tr>\n",
       "    <tr>\n",
       "      <th>max</th>\n",
       "      <td>77673.216667</td>\n",
       "    </tr>\n",
       "  </tbody>\n",
       "</table>\n",
       "</div>"
      ],
      "text/plain": [
       "       playtime_hours\n",
       "count    70912.000000\n",
       "mean      1185.923266\n",
       "std       1474.586024\n",
       "min          0.000000\n",
       "25%        191.550000\n",
       "50%        736.166667\n",
       "75%       1684.604167\n",
       "max      77673.216667"
      ]
     },
     "execution_count": 41,
     "metadata": {},
     "output_type": "execute_result"
    }
   ],
   "source": [
    "playtime_user.describe()"
   ]
  },
  {
   "cell_type": "code",
   "execution_count": 61,
   "metadata": {},
   "outputs": [
    {
     "data": {
      "text/html": [
       "<div>\n",
       "<style scoped>\n",
       "    .dataframe tbody tr th:only-of-type {\n",
       "        vertical-align: middle;\n",
       "    }\n",
       "\n",
       "    .dataframe tbody tr th {\n",
       "        vertical-align: top;\n",
       "    }\n",
       "\n",
       "    .dataframe thead th {\n",
       "        text-align: right;\n",
       "    }\n",
       "</style>\n",
       "<table border=\"1\" class=\"dataframe\">\n",
       "  <thead>\n",
       "    <tr style=\"text-align: right;\">\n",
       "      <th></th>\n",
       "      <th>playtime_hours</th>\n",
       "    </tr>\n",
       "    <tr>\n",
       "      <th>user_id</th>\n",
       "      <th></th>\n",
       "    </tr>\n",
       "  </thead>\n",
       "  <tbody>\n",
       "    <tr>\n",
       "      <th>REBAS_AS_F-T</th>\n",
       "      <td>77618.850000</td>\n",
       "    </tr>\n",
       "    <tr>\n",
       "      <th>shinomegami</th>\n",
       "      <td>53986.850000</td>\n",
       "    </tr>\n",
       "    <tr>\n",
       "      <th>Sp3ctre</th>\n",
       "      <td>47047.666667</td>\n",
       "    </tr>\n",
       "    <tr>\n",
       "      <th>DownSyndromeKid</th>\n",
       "      <td>46506.983333</td>\n",
       "    </tr>\n",
       "    <tr>\n",
       "      <th>Terminally-Chill</th>\n",
       "      <td>28844.600000</td>\n",
       "    </tr>\n",
       "    <tr>\n",
       "      <th>stopgovtcorruption</th>\n",
       "      <td>28626.816667</td>\n",
       "    </tr>\n",
       "    <tr>\n",
       "      <th>Steamified</th>\n",
       "      <td>28214.750000</td>\n",
       "    </tr>\n",
       "    <tr>\n",
       "      <th>Cow666</th>\n",
       "      <td>27913.416667</td>\n",
       "    </tr>\n",
       "    <tr>\n",
       "      <th>PiozZ</th>\n",
       "      <td>26172.750000</td>\n",
       "    </tr>\n",
       "    <tr>\n",
       "      <th>tobscene</th>\n",
       "      <td>22710.033333</td>\n",
       "    </tr>\n",
       "  </tbody>\n",
       "</table>\n",
       "</div>"
      ],
      "text/plain": [
       "                    playtime_hours\n",
       "user_id                           \n",
       "REBAS_AS_F-T          77618.850000\n",
       "shinomegami           53986.850000\n",
       "Sp3ctre               47047.666667\n",
       "DownSyndromeKid       46506.983333\n",
       "Terminally-Chill      28844.600000\n",
       "stopgovtcorruption    28626.816667\n",
       "Steamified            28214.750000\n",
       "Cow666                27913.416667\n",
       "PiozZ                 26172.750000\n",
       "tobscene              22710.033333"
      ]
     },
     "execution_count": 61,
     "metadata": {},
     "output_type": "execute_result"
    }
   ],
   "source": [
    "\n",
    "df_ordenado = playtime_user.sort_values(by='playtime_hours', ascending=False)\n",
    "df_ordenado.head(10)"
   ]
  },
  {
   "cell_type": "markdown",
   "metadata": {},
   "source": [
    "*Graficamos las horas jugadas por usuario*"
   ]
  },
  {
   "cell_type": "code",
   "execution_count": 62,
   "metadata": {},
   "outputs": [
    {
     "data": {
      "text/plain": [
       "<Figure size 600x400 with 0 Axes>"
      ]
     },
     "metadata": {},
     "output_type": "display_data"
    },
    {
     "data": {
      "image/png": "[encoded data removed]",
      "text/plain": [
       "<Figure size 640x480 with 1 Axes>"
      ]
     },
     "metadata": {},
     "output_type": "display_data"
    }
   ],
   "source": [
    "top_players = df_ordenado.head(10)\n",
    "\n",
    "# Crear el gráfico de barras\n",
    "plt.figure(figsize=(6, 4))\n",
    "top_players.plot(kind='bar')\n",
    "plt.title('Top 10 usuarios que más horas juegan')\n",
    "plt.xlabel('Nombre de usuario', fontsize=5)\n",
    "plt.ylabel('Horas jugadas')\n",
    "plt.xticks(rotation=70, fontsize=6)\n",
    "plt.yticks(fontsize=8)\n",
    "\n",
    "plt.show()"
   ]
  },
  {
   "cell_type": "code",
   "execution_count": 63,
   "metadata": {},
   "outputs": [
    {
     "data": {
      "image/png": "[encoded data removed]",
      "text/plain": [
       "<Figure size 1000x600 with 1 Axes>"
      ]
     },
     "metadata": {},
     "output_type": "display_data"
    }
   ],
   "source": [
    "plt.figure(figsize=(10, 6))\n",
    "sns.boxplot(x='playtime_hours', data=playtime_user)\n",
    "plt.title('Distribución del tiempo de juego')\n",
    "plt.xlabel('Tiempo de juego (horas)')\n",
    "plt.show()"
   ]
  },
  {
   "cell_type": "markdown",
   "metadata": {},
   "source": [
    "*Calculamos los valores extremos de horas de juego con método IQR*"
   ]
  },
  {
   "cell_type": "code",
   "execution_count": 64,
   "metadata": {},
   "outputs": [
    {
     "data": {
      "text/plain": [
       "3367"
      ]
     },
     "execution_count": 64,
     "metadata": {},
     "output_type": "execute_result"
    }
   ],
   "source": [
    "def calcula_outliers_IQR(data, carac, distancia):\n",
    "  IQR = data[carac].quantile(0.75) - data[carac].quantile(0.25)\n",
    "  limite_inf = data[carac].quantile(0.25) - (IQR*distancia)\n",
    "  limite_sup = data[carac].quantile(0.75) + (IQR*distancia)\n",
    "  outliers = (data[carac] > limite_sup) | (data[carac] < limite_inf)\n",
    "  return outliers\n",
    "outliers = calcula_outliers_IQR(playtime_user, 'playtime_hours', 1.5)\n",
    "# Listamos los valores de total_items_user\n",
    "playtime_user.loc[outliers,'playtime_hours'].count()"
   ]
  },
  {
   "cell_type": "code",
   "execution_count": 46,
   "metadata": {},
   "outputs": [
    {
     "data": {
      "text/plain": [
       "4.746728339350181"
      ]
     },
     "execution_count": 46,
     "metadata": {},
     "output_type": "execute_result"
    }
   ],
   "source": [
    "Porcentaje_outliers=(playtime_user.loc[outliers,'playtime_hours'].count()/playtime_user.value_counts().sum())*100\n",
    "Porcentaje_outliers"
   ]
  },
  {
   "cell_type": "markdown",
   "metadata": {},
   "source": [
    "*Existen 3366 valores extremos, que representan un 4.74% del total de user_id: Graficamos un boxplot nuevamente, sin valores extremos*"
   ]
  },
  {
   "cell_type": "code",
   "execution_count": 65,
   "metadata": {},
   "outputs": [
    {
     "data": {
      "text/plain": [
       "<Axes: xlabel='playtime_hours'>"
      ]
     },
     "execution_count": 65,
     "metadata": {},
     "output_type": "execute_result"
    },
    {
     "data": {
      "image/png": "[encoded data removed]",
      "text/plain": [
       "<Figure size 640x480 with 1 Axes>"
      ]
     },
     "metadata": {},
     "output_type": "display_data"
    }
   ],
   "source": [
    "outliers = calcula_outliers_IQR(playtime_user, 'playtime_hours', 1.5)\n",
    "data_trimmed_std = playtime_user.loc[~outliers]\n",
    "sns.boxplot(data_trimmed_std['playtime_hours'], orient='h', color='#CC6CE7')"
   ]
  },
  {
   "cell_type": "markdown",
   "metadata": {},
   "source": [
    "*Como se aprecia, ajustamos datos para que sean más representativos del conjunto de datos, y que la media no se vea tan afectada. Esto será importante tenerlo en cuenta al momento de entrenar nuestro modelo de Machine Learning, posteriormente.*"
   ]
  },
  {
   "cell_type": "code",
   "execution_count": 66,
   "metadata": {},
   "outputs": [
    {
     "data": {
      "text/plain": [
       "0           277\n",
       "277         888\n",
       "1165        137\n",
       "1302        328\n",
       "1630        541\n",
       "           ... \n",
       "4883869     693\n",
       "4982010    1081\n",
       "5055944     787\n",
       "5056789    3603\n",
       "5068555    1173\n",
       "Name: items_count, Length: 924, dtype: int64"
      ]
     },
     "execution_count": 66,
     "metadata": {},
     "output_type": "execute_result"
    }
   ],
   "source": [
    "filtro_items_count= df_items_copy['items_count'].drop_duplicates()\n",
    "filtro_items_count"
   ]
  },
  {
   "cell_type": "code",
   "execution_count": null,
   "metadata": {},
   "outputs": [],
   "source": []
  },
  {
   "cell_type": "markdown",
   "metadata": {},
   "source": [
    "## 1. EDA Dataset Games ##"
   ]
  },
  {
   "cell_type": "markdown",
   "metadata": {},
   "source": [
    "# Carga de datos"
   ]
  },
  {
   "cell_type": "code",
   "execution_count": 69,
   "metadata": {},
   "outputs": [],
   "source": [
    "df_games= pd.read_parquet(r'C:\\Users\\Lenovo\\Desktop\\Proyecto Individual\\Datasets\\0. Data\\Steam_games.parquet')"
   ]
  },
  {
   "cell_type": "markdown",
   "metadata": {},
   "source": [
    "*Hacemos una copia para resguardar el dataframe original*"
   ]
  },
  {
   "cell_type": "code",
   "execution_count": 70,
   "metadata": {},
   "outputs": [],
   "source": [
    "df_games_copy = df_games.copy()"
   ]
  },
  {
   "cell_type": "markdown",
   "metadata": {},
   "source": [
    "# Análisis general del dataset"
   ]
  },
  {
   "cell_type": "code",
   "execution_count": 71,
   "metadata": {},
   "outputs": [
    {
     "data": {
      "text/html": [
       "<div>\n",
       "<style scoped>\n",
       "    .dataframe tbody tr th:only-of-type {\n",
       "        vertical-align: middle;\n",
       "    }\n",
       "\n",
       "    .dataframe tbody tr th {\n",
       "        vertical-align: top;\n",
       "    }\n",
       "\n",
       "    .dataframe thead th {\n",
       "        text-align: right;\n",
       "    }\n",
       "</style>\n",
       "<table border=\"1\" class=\"dataframe\">\n",
       "  <thead>\n",
       "    <tr style=\"text-align: right;\">\n",
       "      <th></th>\n",
       "      <th>publisher</th>\n",
       "      <th>genres</th>\n",
       "      <th>app_name</th>\n",
       "      <th>release_date</th>\n",
       "      <th>tags</th>\n",
       "      <th>price</th>\n",
       "      <th>id</th>\n",
       "      <th>developer</th>\n",
       "    </tr>\n",
       "  </thead>\n",
       "  <tbody>\n",
       "    <tr>\n",
       "      <th>1544</th>\n",
       "      <td>K Games</td>\n",
       "      <td>Casual Strategy</td>\n",
       "      <td>Sid Meiers Ace Patrol</td>\n",
       "      <td>2013</td>\n",
       "      <td>Strategy Casual TurnBased TurnBased Strategy W...</td>\n",
       "      <td>4.99</td>\n",
       "      <td>244070.0</td>\n",
       "      <td>Firaxis Games</td>\n",
       "    </tr>\n",
       "    <tr>\n",
       "      <th>23777</th>\n",
       "      <td>Vostok Games</td>\n",
       "      <td>Action  Massively  RPG</td>\n",
       "      <td>Survarium  Steam Starter Pack</td>\n",
       "      <td>2016</td>\n",
       "      <td>Action RPG Massively Multiplayer Free to Play</td>\n",
       "      <td>0.00</td>\n",
       "      <td>456800.0</td>\n",
       "      <td>Vostok Games</td>\n",
       "    </tr>\n",
       "    <tr>\n",
       "      <th>14210</th>\n",
       "      <td>SCS Software</td>\n",
       "      <td>Indie Simulation</td>\n",
       "      <td>American Truck Simulator  New Mexico</td>\n",
       "      <td>2017</td>\n",
       "      <td>Simulation Indie Open World America Driving</td>\n",
       "      <td>11.99</td>\n",
       "      <td>684630.0</td>\n",
       "      <td>SCS Software</td>\n",
       "    </tr>\n",
       "    <tr>\n",
       "      <th>7988</th>\n",
       "      <td>Tripwire Interactive</td>\n",
       "      <td>Action</td>\n",
       "      <td>Killing Floor</td>\n",
       "      <td>2016</td>\n",
       "      <td>Zombies Coop Gore FPS Survival Action Horror M...</td>\n",
       "      <td>29.99</td>\n",
       "      <td>232090.0</td>\n",
       "      <td>Tripwire Interactive</td>\n",
       "    </tr>\n",
       "    <tr>\n",
       "      <th>27251</th>\n",
       "      <td>None</td>\n",
       "      <td>Action</td>\n",
       "      <td>DWE DW Original Costume Pack</td>\n",
       "      <td>2015</td>\n",
       "      <td>Action</td>\n",
       "      <td>17.99</td>\n",
       "      <td>349937.0</td>\n",
       "      <td>KOEI TECMO GAMES CO LTD</td>\n",
       "    </tr>\n",
       "    <tr>\n",
       "      <th>30264</th>\n",
       "      <td>Binary Fortress Software</td>\n",
       "      <td>Utilities</td>\n",
       "      <td>DisplayFusion</td>\n",
       "      <td>2013</td>\n",
       "      <td>Utilities</td>\n",
       "      <td>29.99</td>\n",
       "      <td>227260.0</td>\n",
       "      <td>Binary Fortress Software</td>\n",
       "    </tr>\n",
       "    <tr>\n",
       "      <th>5146</th>\n",
       "      <td>Dovetail Games</td>\n",
       "      <td>Simulation</td>\n",
       "      <td>TS Marketplace Renewable Energy Pack</td>\n",
       "      <td>2016</td>\n",
       "      <td>Simulation</td>\n",
       "      <td>4.99</td>\n",
       "      <td>326025.0</td>\n",
       "      <td>Skyhook Games</td>\n",
       "    </tr>\n",
       "    <tr>\n",
       "      <th>28389</th>\n",
       "      <td>Warner Bros Interactive Entertainment Feral In...</td>\n",
       "      <td>Action Adventure</td>\n",
       "      <td>LEGO The Hobbit  The Battle Pack</td>\n",
       "      <td>2014</td>\n",
       "      <td>Action Adventure LEGO</td>\n",
       "      <td>1.99</td>\n",
       "      <td>292712.0</td>\n",
       "      <td>Travellers TalesFeral Interactive Mac</td>\n",
       "    </tr>\n",
       "    <tr>\n",
       "      <th>6671</th>\n",
       "      <td>PlayWay SA</td>\n",
       "      <td>Indie Racing Simulation</td>\n",
       "      <td>Car Mechanic Simulator   Maserati</td>\n",
       "      <td>2016</td>\n",
       "      <td>Indie Simulation Racing</td>\n",
       "      <td>5.99</td>\n",
       "      <td>434901.0</td>\n",
       "      <td>Red Dot Games</td>\n",
       "    </tr>\n",
       "    <tr>\n",
       "      <th>1467</th>\n",
       "      <td>Two Tribes</td>\n",
       "      <td>Adventure Casual Indie</td>\n",
       "      <td>Toki Tori</td>\n",
       "      <td>2013</td>\n",
       "      <td>Puzzle Indie Casual Adventure Platformer Metro...</td>\n",
       "      <td>14.99</td>\n",
       "      <td>201420.0</td>\n",
       "      <td>Two Tribes</td>\n",
       "    </tr>\n",
       "  </tbody>\n",
       "</table>\n",
       "</div>"
      ],
      "text/plain": [
       "                                               publisher  \\\n",
       "1544                                             K Games   \n",
       "23777                                       Vostok Games   \n",
       "14210                                       SCS Software   \n",
       "7988                                Tripwire Interactive   \n",
       "27251                                               None   \n",
       "30264                           Binary Fortress Software   \n",
       "5146                                      Dovetail Games   \n",
       "28389  Warner Bros Interactive Entertainment Feral In...   \n",
       "6671                                          PlayWay SA   \n",
       "1467                                          Two Tribes   \n",
       "\n",
       "                        genres                              app_name  \\\n",
       "1544           Casual Strategy                 Sid Meiers Ace Patrol   \n",
       "23777   Action  Massively  RPG         Survarium  Steam Starter Pack   \n",
       "14210         Indie Simulation  American Truck Simulator  New Mexico   \n",
       "7988                    Action                        Killing Floor    \n",
       "27251                   Action         DWE DW Original Costume Pack    \n",
       "30264                Utilities                         DisplayFusion   \n",
       "5146                Simulation  TS Marketplace Renewable Energy Pack   \n",
       "28389         Action Adventure      LEGO The Hobbit  The Battle Pack   \n",
       "6671   Indie Racing Simulation     Car Mechanic Simulator   Maserati   \n",
       "1467    Adventure Casual Indie                            Toki Tori    \n",
       "\n",
       "      release_date                                               tags  price  \\\n",
       "1544          2013  Strategy Casual TurnBased TurnBased Strategy W...   4.99   \n",
       "23777         2016      Action RPG Massively Multiplayer Free to Play   0.00   \n",
       "14210         2017        Simulation Indie Open World America Driving  11.99   \n",
       "7988          2016  Zombies Coop Gore FPS Survival Action Horror M...  29.99   \n",
       "27251         2015                                             Action  17.99   \n",
       "30264         2013                                          Utilities  29.99   \n",
       "5146          2016                                         Simulation   4.99   \n",
       "28389         2014                              Action Adventure LEGO   1.99   \n",
       "6671          2016                            Indie Simulation Racing   5.99   \n",
       "1467          2013  Puzzle Indie Casual Adventure Platformer Metro...  14.99   \n",
       "\n",
       "             id                              developer  \n",
       "1544   244070.0                          Firaxis Games  \n",
       "23777  456800.0                           Vostok Games  \n",
       "14210  684630.0                           SCS Software  \n",
       "7988   232090.0                   Tripwire Interactive  \n",
       "27251  349937.0                KOEI TECMO GAMES CO LTD  \n",
       "30264  227260.0               Binary Fortress Software  \n",
       "5146   326025.0                          Skyhook Games  \n",
       "28389  292712.0  Travellers TalesFeral Interactive Mac  \n",
       "6671   434901.0                          Red Dot Games  \n",
       "1467   201420.0                             Two Tribes  "
      ]
     },
     "execution_count": 71,
     "metadata": {},
     "output_type": "execute_result"
    }
   ],
   "source": [
    "df_games_copy.sample(10)"
   ]
  },
  {
   "cell_type": "code",
   "execution_count": 72,
   "metadata": {},
   "outputs": [
    {
     "name": "stdout",
     "output_type": "stream",
     "text": [
      "<class 'pandas.core.frame.DataFrame'>\n",
      "RangeIndex: 32135 entries, 0 to 32134\n",
      "Data columns (total 8 columns):\n",
      " #   Column        Non-Null Count  Dtype  \n",
      "---  ------        --------------  -----  \n",
      " 0   publisher     24035 non-null  object \n",
      " 1   genres        31968 non-null  object \n",
      " 2   app_name      32109 non-null  object \n",
      " 3   release_date  29967 non-null  object \n",
      " 4   tags          31972 non-null  object \n",
      " 5   price         30962 non-null  float64\n",
      " 6   id            32133 non-null  float64\n",
      " 7   developer     28784 non-null  object \n",
      "dtypes: float64(2), object(6)\n",
      "memory usage: 2.0+ MB\n"
     ]
    }
   ],
   "source": [
    "df_games_copy.info()"
   ]
  },
  {
   "cell_type": "code",
   "execution_count": 73,
   "metadata": {},
   "outputs": [
    {
     "data": {
      "text/html": [
       "<div>\n",
       "<style scoped>\n",
       "    .dataframe tbody tr th:only-of-type {\n",
       "        vertical-align: middle;\n",
       "    }\n",
       "\n",
       "    .dataframe tbody tr th {\n",
       "        vertical-align: top;\n",
       "    }\n",
       "\n",
       "    .dataframe thead th {\n",
       "        text-align: right;\n",
       "    }\n",
       "</style>\n",
       "<table border=\"1\" class=\"dataframe\">\n",
       "  <thead>\n",
       "    <tr style=\"text-align: right;\">\n",
       "      <th></th>\n",
       "      <th>price</th>\n",
       "      <th>id</th>\n",
       "    </tr>\n",
       "  </thead>\n",
       "  <tbody>\n",
       "    <tr>\n",
       "      <th>count</th>\n",
       "      <td>30962.000000</td>\n",
       "      <td>3.213300e+04</td>\n",
       "    </tr>\n",
       "    <tr>\n",
       "      <th>mean</th>\n",
       "      <td>8.037472</td>\n",
       "      <td>4.517574e+05</td>\n",
       "    </tr>\n",
       "    <tr>\n",
       "      <th>std</th>\n",
       "      <td>13.760780</td>\n",
       "      <td>1.827140e+05</td>\n",
       "    </tr>\n",
       "    <tr>\n",
       "      <th>min</th>\n",
       "      <td>0.000000</td>\n",
       "      <td>1.000000e+01</td>\n",
       "    </tr>\n",
       "    <tr>\n",
       "      <th>25%</th>\n",
       "      <td>1.990000</td>\n",
       "      <td>3.292800e+05</td>\n",
       "    </tr>\n",
       "    <tr>\n",
       "      <th>50%</th>\n",
       "      <td>4.990000</td>\n",
       "      <td>4.520600e+05</td>\n",
       "    </tr>\n",
       "    <tr>\n",
       "      <th>75%</th>\n",
       "      <td>9.990000</td>\n",
       "      <td>5.934000e+05</td>\n",
       "    </tr>\n",
       "    <tr>\n",
       "      <th>max</th>\n",
       "      <td>995.000000</td>\n",
       "      <td>2.028850e+06</td>\n",
       "    </tr>\n",
       "  </tbody>\n",
       "</table>\n",
       "</div>"
      ],
      "text/plain": [
       "              price            id\n",
       "count  30962.000000  3.213300e+04\n",
       "mean       8.037472  4.517574e+05\n",
       "std       13.760780  1.827140e+05\n",
       "min        0.000000  1.000000e+01\n",
       "25%        1.990000  3.292800e+05\n",
       "50%        4.990000  4.520600e+05\n",
       "75%        9.990000  5.934000e+05\n",
       "max      995.000000  2.028850e+06"
      ]
     },
     "execution_count": 73,
     "metadata": {},
     "output_type": "execute_result"
    }
   ],
   "source": [
    "df_games_copy.describe()"
   ]
  },
  {
   "cell_type": "code",
   "execution_count": 74,
   "metadata": {},
   "outputs": [
    {
     "data": {
      "text/html": [
       "<div>\n",
       "<style scoped>\n",
       "    .dataframe tbody tr th:only-of-type {\n",
       "        vertical-align: middle;\n",
       "    }\n",
       "\n",
       "    .dataframe tbody tr th {\n",
       "        vertical-align: top;\n",
       "    }\n",
       "\n",
       "    .dataframe thead th {\n",
       "        text-align: right;\n",
       "    }\n",
       "</style>\n",
       "<table border=\"1\" class=\"dataframe\">\n",
       "  <thead>\n",
       "    <tr style=\"text-align: right;\">\n",
       "      <th></th>\n",
       "      <th>publisher</th>\n",
       "      <th>genres</th>\n",
       "      <th>app_name</th>\n",
       "      <th>release_date</th>\n",
       "      <th>tags</th>\n",
       "      <th>price</th>\n",
       "      <th>id</th>\n",
       "      <th>developer</th>\n",
       "    </tr>\n",
       "  </thead>\n",
       "  <tbody>\n",
       "    <tr>\n",
       "      <th>Total</th>\n",
       "      <td>24035</td>\n",
       "      <td>31968</td>\n",
       "      <td>32109</td>\n",
       "      <td>29967</td>\n",
       "      <td>31972</td>\n",
       "      <td>30962</td>\n",
       "      <td>32133</td>\n",
       "      <td>28784</td>\n",
       "    </tr>\n",
       "    <tr>\n",
       "      <th>Valores únicos</th>\n",
       "      <td>8159</td>\n",
       "      <td>2640</td>\n",
       "      <td>31246</td>\n",
       "      <td>44</td>\n",
       "      <td>15395</td>\n",
       "      <td>130</td>\n",
       "      <td>32132</td>\n",
       "      <td>10899</td>\n",
       "    </tr>\n",
       "  </tbody>\n",
       "</table>\n",
       "</div>"
      ],
      "text/plain": [
       "                publisher  genres  app_name  release_date   tags  price  \\\n",
       "Total               24035   31968     32109         29967  31972  30962   \n",
       "Valores únicos       8159    2640     31246            44  15395    130   \n",
       "\n",
       "                   id  developer  \n",
       "Total           32133      28784  \n",
       "Valores únicos  32132      10899  "
      ]
     },
     "execution_count": 74,
     "metadata": {},
     "output_type": "execute_result"
    }
   ],
   "source": [
    "valores_unicos(df_games_copy)"
   ]
  },
  {
   "cell_type": "code",
   "execution_count": 75,
   "metadata": {},
   "outputs": [
    {
     "data": {
      "text/html": [
       "<div>\n",
       "<style scoped>\n",
       "    .dataframe tbody tr th:only-of-type {\n",
       "        vertical-align: middle;\n",
       "    }\n",
       "\n",
       "    .dataframe tbody tr th {\n",
       "        vertical-align: top;\n",
       "    }\n",
       "\n",
       "    .dataframe thead th {\n",
       "        text-align: right;\n",
       "    }\n",
       "</style>\n",
       "<table border=\"1\" class=\"dataframe\">\n",
       "  <thead>\n",
       "    <tr style=\"text-align: right;\">\n",
       "      <th></th>\n",
       "      <th>publisher</th>\n",
       "      <th>genres</th>\n",
       "      <th>app_name</th>\n",
       "      <th>release_date</th>\n",
       "      <th>tags</th>\n",
       "      <th>price</th>\n",
       "      <th>id</th>\n",
       "      <th>developer</th>\n",
       "    </tr>\n",
       "  </thead>\n",
       "  <tbody>\n",
       "    <tr>\n",
       "      <th>Total</th>\n",
       "      <td>24035</td>\n",
       "      <td>31968</td>\n",
       "      <td>32109</td>\n",
       "      <td>29967</td>\n",
       "      <td>31972</td>\n",
       "      <td>30962</td>\n",
       "      <td>32133</td>\n",
       "      <td>28784</td>\n",
       "    </tr>\n",
       "    <tr>\n",
       "      <th>Valores más frecuentes</th>\n",
       "      <td>Ubisoft</td>\n",
       "      <td>Action</td>\n",
       "      <td>Fantasy Grounds  Darkwoulfes Token Pack Volume</td>\n",
       "      <td>2017</td>\n",
       "      <td>Casual Simulation</td>\n",
       "      <td>4.99</td>\n",
       "      <td>612880.0</td>\n",
       "      <td>Ubisoft  San Francisco</td>\n",
       "    </tr>\n",
       "    <tr>\n",
       "      <th>Frecuencia</th>\n",
       "      <td>385</td>\n",
       "      <td>1883</td>\n",
       "      <td>13</td>\n",
       "      <td>9595</td>\n",
       "      <td>1292</td>\n",
       "      <td>4191</td>\n",
       "      <td>2</td>\n",
       "      <td>1260</td>\n",
       "    </tr>\n",
       "    <tr>\n",
       "      <th>Porcentaje</th>\n",
       "      <td>1.602</td>\n",
       "      <td>5.89</td>\n",
       "      <td>0.04</td>\n",
       "      <td>32.019</td>\n",
       "      <td>4.041</td>\n",
       "      <td>13.536</td>\n",
       "      <td>0.006</td>\n",
       "      <td>4.377</td>\n",
       "    </tr>\n",
       "  </tbody>\n",
       "</table>\n",
       "</div>"
      ],
      "text/plain": [
       "                       publisher  genres  \\\n",
       "Total                      24035   31968   \n",
       "Valores más frecuentes   Ubisoft  Action   \n",
       "Frecuencia                   385    1883   \n",
       "Porcentaje                 1.602    5.89   \n",
       "\n",
       "                                                               app_name  \\\n",
       "Total                                                             32109   \n",
       "Valores más frecuentes  Fantasy Grounds  Darkwoulfes Token Pack Volume    \n",
       "Frecuencia                                                           13   \n",
       "Porcentaje                                                         0.04   \n",
       "\n",
       "                       release_date               tags   price        id  \\\n",
       "Total                         29967              31972   30962     32133   \n",
       "Valores más frecuentes         2017  Casual Simulation    4.99  612880.0   \n",
       "Frecuencia                     9595               1292    4191         2   \n",
       "Porcentaje                   32.019              4.041  13.536     0.006   \n",
       "\n",
       "                                     developer  \n",
       "Total                                    28784  \n",
       "Valores más frecuentes  Ubisoft  San Francisco  \n",
       "Frecuencia                                1260  \n",
       "Porcentaje                               4.377  "
      ]
     },
     "execution_count": 75,
     "metadata": {},
     "output_type": "execute_result"
    }
   ],
   "source": [
    "valores_frecuentes(df_games_copy)"
   ]
  },
  {
   "cell_type": "code",
   "execution_count": 76,
   "metadata": {},
   "outputs": [
    {
     "data": {
      "text/html": [
       "<div>\n",
       "<style scoped>\n",
       "    .dataframe tbody tr th:only-of-type {\n",
       "        vertical-align: middle;\n",
       "    }\n",
       "\n",
       "    .dataframe tbody tr th {\n",
       "        vertical-align: top;\n",
       "    }\n",
       "\n",
       "    .dataframe thead th {\n",
       "        text-align: right;\n",
       "    }\n",
       "</style>\n",
       "<table border=\"1\" class=\"dataframe\">\n",
       "  <thead>\n",
       "    <tr style=\"text-align: right;\">\n",
       "      <th></th>\n",
       "      <th>publisher</th>\n",
       "      <th>genres</th>\n",
       "      <th>app_name</th>\n",
       "      <th>release_date</th>\n",
       "      <th>tags</th>\n",
       "      <th>price</th>\n",
       "      <th>id</th>\n",
       "      <th>developer</th>\n",
       "    </tr>\n",
       "  </thead>\n",
       "  <tbody>\n",
       "    <tr>\n",
       "      <th>Total Nulos</th>\n",
       "      <td>8100</td>\n",
       "      <td>167</td>\n",
       "      <td>26</td>\n",
       "      <td>2168</td>\n",
       "      <td>163</td>\n",
       "      <td>1173</td>\n",
       "      <td>2</td>\n",
       "      <td>3351</td>\n",
       "    </tr>\n",
       "    <tr>\n",
       "      <th>Porcentaje Nulos</th>\n",
       "      <td>25.206162</td>\n",
       "      <td>0.519683</td>\n",
       "      <td>0.080909</td>\n",
       "      <td>6.746538</td>\n",
       "      <td>0.507235</td>\n",
       "      <td>3.650226</td>\n",
       "      <td>0.006224</td>\n",
       "      <td>10.427882</td>\n",
       "    </tr>\n",
       "    <tr>\n",
       "      <th>Total Vacios</th>\n",
       "      <td>0</td>\n",
       "      <td>0</td>\n",
       "      <td>0</td>\n",
       "      <td>0</td>\n",
       "      <td>0</td>\n",
       "      <td>0</td>\n",
       "      <td>0</td>\n",
       "      <td>0</td>\n",
       "    </tr>\n",
       "    <tr>\n",
       "      <th>Porcentaje Vacios</th>\n",
       "      <td>0.0</td>\n",
       "      <td>0.0</td>\n",
       "      <td>0.0</td>\n",
       "      <td>0.0</td>\n",
       "      <td>0.0</td>\n",
       "      <td>0.0</td>\n",
       "      <td>0.0</td>\n",
       "      <td>0.0</td>\n",
       "    </tr>\n",
       "    <tr>\n",
       "      <th>Tipos</th>\n",
       "      <td>object</td>\n",
       "      <td>object</td>\n",
       "      <td>object</td>\n",
       "      <td>object</td>\n",
       "      <td>object</td>\n",
       "      <td>float64</td>\n",
       "      <td>float64</td>\n",
       "      <td>object</td>\n",
       "    </tr>\n",
       "  </tbody>\n",
       "</table>\n",
       "</div>"
      ],
      "text/plain": [
       "                   publisher    genres  app_name release_date      tags  \\\n",
       "Total Nulos             8100       167        26         2168       163   \n",
       "Porcentaje Nulos   25.206162  0.519683  0.080909     6.746538  0.507235   \n",
       "Total Vacios               0         0         0            0         0   \n",
       "Porcentaje Vacios        0.0       0.0       0.0          0.0       0.0   \n",
       "Tipos                 object    object    object       object    object   \n",
       "\n",
       "                      price        id  developer  \n",
       "Total Nulos            1173         2       3351  \n",
       "Porcentaje Nulos   3.650226  0.006224  10.427882  \n",
       "Total Vacios              0         0          0  \n",
       "Porcentaje Vacios       0.0       0.0        0.0  \n",
       "Tipos               float64   float64     object  "
      ]
     },
     "execution_count": 76,
     "metadata": {},
     "output_type": "execute_result"
    }
   ],
   "source": [
    "valores_faltantes(df_games_copy)"
   ]
  },
  {
   "cell_type": "markdown",
   "metadata": {},
   "source": [
    "*Existen 32.135 filas en nuestro dataframe y 8 columnas. Esta base de datos lista el nombre del juego (app_name), indicando su género(genre), publisher, price, tags asociados al juego  y su desarrollador(developer).*  \n",
    "\n",
    "*Ubisoft es el publisher más frecuente de la base de datos, hay 385 juegos asociados a Ubisoft. Ubisoft San Francisco es el desarrollador con más juegos en la base de datos, con un total de 1260 juegos desarrollados.*  \n",
    "\n",
    "*un 32% de los juegos fueron lanzados en el año 2017. Existe un app_name que se repite 13 veces, por tanto necesitamos eliminar duplicados que al parecer la base de datos tiene.*  \n",
    "\n",
    "*El promedio de precios de un juego ronda los 8 dólares, y el juego más caro cuesta 995 dólares. El 75% de los juegos no supera los 10 dólares, por tanto ya podemos advertir que tenemos valores extremos que desvirtuan la media.*  \n",
    "\n",
    "*Tenemos bastantes valores nulos en nuestro dataframe. En el caso de publisher, esta columna posee un 25% de valores nulos, y developer, posee un 10%.*\n",
    "\n",
    "Se necesita realizar ajuste de datos luego de todas las modificaciones, además, la columna genre debe contener un sólo género representativo del juego."
   ]
  },
  {
   "cell_type": "code",
   "execution_count": 77,
   "metadata": {},
   "outputs": [],
   "source": [
    "# Se eliminan los duplicados\n",
    "df_games_copy.drop_duplicates(inplace=True)"
   ]
  },
  {
   "cell_type": "markdown",
   "metadata": {},
   "source": [
    "**Tratamiento nulos**\n",
    "\n",
    "*Dado que los nulos son muchos, en el caso de publisher, corresponden al 25% de todos los datos, se busca una base de datos de steam que se descarga de Kaggle para completar los valores faltantes que sean necesarios.*\n",
    "\n"
   ]
  },
  {
   "cell_type": "markdown",
   "metadata": {},
   "source": [
    "**Actualización base de datos**  \n",
    "\n",
    "*Se comienza cargando base de datos externa de Steam, ya filtrada con las columnas que necesitamos, encontrada en https://www.kaggle.com/datasets/fronkongames/steam-games-dataset.*"
   ]
  },
  {
   "cell_type": "code",
   "execution_count": 78,
   "metadata": {},
   "outputs": [],
   "source": [
    "ext_bd= pd.read_parquet(r'C:\\Users\\Lenovo\\Desktop\\Proyecto Individual\\Datasets\\0. Data\\ext_bdgames.parquet')"
   ]
  },
  {
   "cell_type": "markdown",
   "metadata": {},
   "source": [
    "*Se realiza copia para no afectar el DF original*"
   ]
  },
  {
   "cell_type": "code",
   "execution_count": 79,
   "metadata": {},
   "outputs": [],
   "source": [
    "ext_bd_copy=ext_bd.copy()"
   ]
  },
  {
   "cell_type": "code",
   "execution_count": 80,
   "metadata": {},
   "outputs": [
    {
     "data": {
      "text/html": [
       "<div>\n",
       "<style scoped>\n",
       "    .dataframe tbody tr th:only-of-type {\n",
       "        vertical-align: middle;\n",
       "    }\n",
       "\n",
       "    .dataframe tbody tr th {\n",
       "        vertical-align: top;\n",
       "    }\n",
       "\n",
       "    .dataframe thead th {\n",
       "        text-align: right;\n",
       "    }\n",
       "</style>\n",
       "<table border=\"1\" class=\"dataframe\">\n",
       "  <thead>\n",
       "    <tr style=\"text-align: right;\">\n",
       "      <th></th>\n",
       "      <th>name</th>\n",
       "      <th>release_date</th>\n",
       "      <th>developer</th>\n",
       "      <th>publisher</th>\n",
       "      <th>genre</th>\n",
       "      <th>original_price</th>\n",
       "    </tr>\n",
       "  </thead>\n",
       "  <tbody>\n",
       "    <tr>\n",
       "      <th>0</th>\n",
       "      <td>DOOM</td>\n",
       "      <td>May 12, 2016</td>\n",
       "      <td>id Software</td>\n",
       "      <td>Bethesda Softworks,Bethesda Softworks</td>\n",
       "      <td>Action</td>\n",
       "      <td>$19.99</td>\n",
       "    </tr>\n",
       "    <tr>\n",
       "      <th>1</th>\n",
       "      <td>PLAYERUNKNOWN'S BATTLEGROUNDS</td>\n",
       "      <td>Dec 21, 2017</td>\n",
       "      <td>PUBG Corporation</td>\n",
       "      <td>PUBG Corporation,PUBG Corporation</td>\n",
       "      <td>Action,Adventure,Massively Multiplayer</td>\n",
       "      <td>$29.99</td>\n",
       "    </tr>\n",
       "    <tr>\n",
       "      <th>2</th>\n",
       "      <td>BATTLETECH</td>\n",
       "      <td>Apr 24, 2018</td>\n",
       "      <td>Harebrained Schemes</td>\n",
       "      <td>Paradox Interactive,Paradox Interactive</td>\n",
       "      <td>Action,Adventure,Strategy</td>\n",
       "      <td>$39.99</td>\n",
       "    </tr>\n",
       "    <tr>\n",
       "      <th>3</th>\n",
       "      <td>DayZ</td>\n",
       "      <td>Dec 13, 2018</td>\n",
       "      <td>Bohemia Interactive</td>\n",
       "      <td>Bohemia Interactive,Bohemia Interactive</td>\n",
       "      <td>Action,Adventure,Massively Multiplayer</td>\n",
       "      <td>$44.99</td>\n",
       "    </tr>\n",
       "    <tr>\n",
       "      <th>4</th>\n",
       "      <td>EVE Online</td>\n",
       "      <td>May 6, 2003</td>\n",
       "      <td>CCP</td>\n",
       "      <td>CCP,CCP</td>\n",
       "      <td>Action,Free to Play,Massively Multiplayer,RPG,...</td>\n",
       "      <td>Free</td>\n",
       "    </tr>\n",
       "  </tbody>\n",
       "</table>\n",
       "</div>"
      ],
      "text/plain": [
       "                            name  release_date            developer  \\\n",
       "0                           DOOM  May 12, 2016          id Software   \n",
       "1  PLAYERUNKNOWN'S BATTLEGROUNDS  Dec 21, 2017     PUBG Corporation   \n",
       "2                     BATTLETECH  Apr 24, 2018  Harebrained Schemes   \n",
       "3                           DayZ  Dec 13, 2018  Bohemia Interactive   \n",
       "4                     EVE Online   May 6, 2003                  CCP   \n",
       "\n",
       "                                 publisher  \\\n",
       "0    Bethesda Softworks,Bethesda Softworks   \n",
       "1        PUBG Corporation,PUBG Corporation   \n",
       "2  Paradox Interactive,Paradox Interactive   \n",
       "3  Bohemia Interactive,Bohemia Interactive   \n",
       "4                                  CCP,CCP   \n",
       "\n",
       "                                               genre original_price  \n",
       "0                                             Action         $19.99  \n",
       "1             Action,Adventure,Massively Multiplayer         $29.99  \n",
       "2                          Action,Adventure,Strategy         $39.99  \n",
       "3             Action,Adventure,Massively Multiplayer         $44.99  \n",
       "4  Action,Free to Play,Massively Multiplayer,RPG,...           Free  "
      ]
     },
     "execution_count": 80,
     "metadata": {},
     "output_type": "execute_result"
    }
   ],
   "source": [
    "ext_bd_copy.head()"
   ]
  },
  {
   "cell_type": "markdown",
   "metadata": {},
   "source": [
    "*Sólo se deja año en la columna release_date de la nueva base de datos*"
   ]
  },
  {
   "cell_type": "code",
   "execution_count": 81,
   "metadata": {},
   "outputs": [],
   "source": [
    "ext_bd_copy['release_date'] = ext_bd_copy['release_date'].str.extract(r'(\\d{4})')"
   ]
  },
  {
   "cell_type": "code",
   "execution_count": 82,
   "metadata": {},
   "outputs": [],
   "source": [
    "\n",
    "ext_bd_copy['publisher'] = ext_bd_copy['publisher'].apply(lambda x: x.split(',')[0] if isinstance(x, str) else pd.NA)"
   ]
  },
  {
   "cell_type": "code",
   "execution_count": 83,
   "metadata": {},
   "outputs": [],
   "source": [
    "# Se elimina $ del original_precio\n",
    "ext_bd_copy['original_price'] = ext_bd_copy['original_price'].apply(lambda x: x.replace('$', '') if isinstance(x, str) else x)"
   ]
  },
  {
   "cell_type": "code",
   "execution_count": 84,
   "metadata": {},
   "outputs": [],
   "source": [
    "# Convertimos los datos de la columna 'tags' a cadenas para luego usar la función clean_text\n",
    "ext_bd_copy[['publisher', 'name', 'developer']] = ext_bd_copy[['publisher', 'name', 'developer']].astype(str)"
   ]
  },
  {
   "cell_type": "code",
   "execution_count": 85,
   "metadata": {},
   "outputs": [],
   "source": [
    "# Limpiamos los textos de ext_bd_copy. Creamos función para convertir listas a cadenas y limpiar el texto\n",
    "def clean_text(text):\n",
    "    '''Elimina caracteres especiales de un texto'''\n",
    "    cleaned_text = re.sub(r'[^a-zA-Z\\s]', '', text)\n",
    "    return cleaned_text\n",
    "# Aplicar la función a las columnas especificadas\n",
    "#['genres', 'tags', 'specs', 'publisher', 'app_name', 'developer']\n",
    "columns_to_clean = ['publisher', 'name', 'developer']\n",
    "for column in columns_to_clean:\n",
    "    ext_bd_copy[column] = ext_bd_copy[column].apply(clean_text)"
   ]
  },
  {
   "cell_type": "code",
   "execution_count": 86,
   "metadata": {},
   "outputs": [
    {
     "data": {
      "text/html": [
       "<div>\n",
       "<style scoped>\n",
       "    .dataframe tbody tr th:only-of-type {\n",
       "        vertical-align: middle;\n",
       "    }\n",
       "\n",
       "    .dataframe tbody tr th {\n",
       "        vertical-align: top;\n",
       "    }\n",
       "\n",
       "    .dataframe thead th {\n",
       "        text-align: right;\n",
       "    }\n",
       "</style>\n",
       "<table border=\"1\" class=\"dataframe\">\n",
       "  <thead>\n",
       "    <tr style=\"text-align: right;\">\n",
       "      <th></th>\n",
       "      <th>name</th>\n",
       "      <th>release_date</th>\n",
       "      <th>developer</th>\n",
       "      <th>publisher</th>\n",
       "      <th>genre</th>\n",
       "      <th>original_price</th>\n",
       "    </tr>\n",
       "  </thead>\n",
       "  <tbody>\n",
       "    <tr>\n",
       "      <th>0</th>\n",
       "      <td>DOOM</td>\n",
       "      <td>2016</td>\n",
       "      <td>id Software</td>\n",
       "      <td>Bethesda Softworks</td>\n",
       "      <td>Action</td>\n",
       "      <td>19.99</td>\n",
       "    </tr>\n",
       "    <tr>\n",
       "      <th>1</th>\n",
       "      <td>PLAYERUNKNOWNS BATTLEGROUNDS</td>\n",
       "      <td>2017</td>\n",
       "      <td>PUBG Corporation</td>\n",
       "      <td>PUBG Corporation</td>\n",
       "      <td>Action,Adventure,Massively Multiplayer</td>\n",
       "      <td>29.99</td>\n",
       "    </tr>\n",
       "    <tr>\n",
       "      <th>2</th>\n",
       "      <td>BATTLETECH</td>\n",
       "      <td>2018</td>\n",
       "      <td>Harebrained Schemes</td>\n",
       "      <td>Paradox Interactive</td>\n",
       "      <td>Action,Adventure,Strategy</td>\n",
       "      <td>39.99</td>\n",
       "    </tr>\n",
       "    <tr>\n",
       "      <th>3</th>\n",
       "      <td>DayZ</td>\n",
       "      <td>2018</td>\n",
       "      <td>Bohemia Interactive</td>\n",
       "      <td>Bohemia Interactive</td>\n",
       "      <td>Action,Adventure,Massively Multiplayer</td>\n",
       "      <td>44.99</td>\n",
       "    </tr>\n",
       "    <tr>\n",
       "      <th>4</th>\n",
       "      <td>EVE Online</td>\n",
       "      <td>2003</td>\n",
       "      <td>CCP</td>\n",
       "      <td>CCP</td>\n",
       "      <td>Action,Free to Play,Massively Multiplayer,RPG,...</td>\n",
       "      <td>Free</td>\n",
       "    </tr>\n",
       "  </tbody>\n",
       "</table>\n",
       "</div>"
      ],
      "text/plain": [
       "                           name release_date            developer  \\\n",
       "0                          DOOM         2016          id Software   \n",
       "1  PLAYERUNKNOWNS BATTLEGROUNDS         2017     PUBG Corporation   \n",
       "2                    BATTLETECH         2018  Harebrained Schemes   \n",
       "3                          DayZ         2018  Bohemia Interactive   \n",
       "4                    EVE Online         2003                  CCP   \n",
       "\n",
       "             publisher                                              genre  \\\n",
       "0   Bethesda Softworks                                             Action   \n",
       "1     PUBG Corporation             Action,Adventure,Massively Multiplayer   \n",
       "2  Paradox Interactive                          Action,Adventure,Strategy   \n",
       "3  Bohemia Interactive             Action,Adventure,Massively Multiplayer   \n",
       "4                  CCP  Action,Free to Play,Massively Multiplayer,RPG,...   \n",
       "\n",
       "  original_price  \n",
       "0          19.99  \n",
       "1          29.99  \n",
       "2          39.99  \n",
       "3          44.99  \n",
       "4           Free  "
      ]
     },
     "execution_count": 86,
     "metadata": {},
     "output_type": "execute_result"
    }
   ],
   "source": [
    "ext_bd_copy.head()"
   ]
  },
  {
   "cell_type": "markdown",
   "metadata": {},
   "source": [
    "*Finalmente se copian los datos de ext_bd_copy al dataframe df_games_copy*"
   ]
  },
  {
   "cell_type": "code",
   "execution_count": 87,
   "metadata": {},
   "outputs": [],
   "source": [
    "# Se hace un merge temporal  para las columnas  'name', 'developer', 'publisher', 'genre','release_date', 'original_price'\n",
    "merge_temp = df_games_copy.merge(\n",
    "    ext_bd_copy[['name', 'developer', 'publisher', 'genre','release_date', 'original_price']],\n",
    "    left_on='app_name',\n",
    "    right_on='name',\n",
    "    how='left',\n",
    "    suffixes=('', '_right')  \n",
    ")\n",
    "\n",
    "# Se rellenan los valores faltantes (left join)\n",
    "df_games_copy['publisher'] = df_games_copy['publisher'].combine_first(merge_temp['publisher_right'])\n",
    "df_games_copy['developer'] = df_games_copy['developer'].combine_first(merge_temp['developer_right'])\n",
    "df_games_copy['genres'] = df_games_copy['genres'].combine_first(merge_temp['genre'])\n",
    "df_games_copy['release_date'] = df_games_copy['release_date'].combine_first(merge_temp['release_date_right'])\n",
    "df_games_copy['price'] = df_games_copy['price'].combine_first(merge_temp['original_price'])\n"
   ]
  },
  {
   "cell_type": "markdown",
   "metadata": {},
   "source": [
    "*Revisamos los nulos nuevamente después de la actualización del dataframe df_games_copy*"
   ]
  },
  {
   "cell_type": "code",
   "execution_count": 88,
   "metadata": {},
   "outputs": [
    {
     "name": "stdout",
     "output_type": "stream",
     "text": [
      "publisher_right    22539\n",
      "developer_right    22539\n",
      "dtype: int64\n"
     ]
    }
   ],
   "source": [
    "print(merge_temp[['publisher_right', 'developer_right']].notna().sum())"
   ]
  },
  {
   "cell_type": "code",
   "execution_count": 89,
   "metadata": {},
   "outputs": [
    {
     "data": {
      "text/html": [
       "<div>\n",
       "<style scoped>\n",
       "    .dataframe tbody tr th:only-of-type {\n",
       "        vertical-align: middle;\n",
       "    }\n",
       "\n",
       "    .dataframe tbody tr th {\n",
       "        vertical-align: top;\n",
       "    }\n",
       "\n",
       "    .dataframe thead th {\n",
       "        text-align: right;\n",
       "    }\n",
       "</style>\n",
       "<table border=\"1\" class=\"dataframe\">\n",
       "  <thead>\n",
       "    <tr style=\"text-align: right;\">\n",
       "      <th></th>\n",
       "      <th>publisher</th>\n",
       "      <th>genres</th>\n",
       "      <th>app_name</th>\n",
       "      <th>release_date</th>\n",
       "      <th>tags</th>\n",
       "      <th>price</th>\n",
       "      <th>id</th>\n",
       "      <th>developer</th>\n",
       "    </tr>\n",
       "  </thead>\n",
       "  <tbody>\n",
       "    <tr>\n",
       "      <th>Total Nulos</th>\n",
       "      <td>2823</td>\n",
       "      <td>76</td>\n",
       "      <td>26</td>\n",
       "      <td>788</td>\n",
       "      <td>163</td>\n",
       "      <td>429</td>\n",
       "      <td>2</td>\n",
       "      <td>1179</td>\n",
       "    </tr>\n",
       "    <tr>\n",
       "      <th>Porcentaje Nulos</th>\n",
       "      <td>8.785087</td>\n",
       "      <td>0.23651</td>\n",
       "      <td>0.080911</td>\n",
       "      <td>2.452231</td>\n",
       "      <td>0.507251</td>\n",
       "      <td>1.335035</td>\n",
       "      <td>0.006224</td>\n",
       "      <td>3.669011</td>\n",
       "    </tr>\n",
       "    <tr>\n",
       "      <th>Total Vacios</th>\n",
       "      <td>27</td>\n",
       "      <td>0</td>\n",
       "      <td>0</td>\n",
       "      <td>0</td>\n",
       "      <td>0</td>\n",
       "      <td>0</td>\n",
       "      <td>0</td>\n",
       "      <td>13</td>\n",
       "    </tr>\n",
       "    <tr>\n",
       "      <th>Porcentaje Vacios</th>\n",
       "      <td>0.084023</td>\n",
       "      <td>0.0</td>\n",
       "      <td>0.0</td>\n",
       "      <td>0.0</td>\n",
       "      <td>0.0</td>\n",
       "      <td>0.0</td>\n",
       "      <td>0.0</td>\n",
       "      <td>0.040456</td>\n",
       "    </tr>\n",
       "    <tr>\n",
       "      <th>Tipos</th>\n",
       "      <td>object</td>\n",
       "      <td>object</td>\n",
       "      <td>object</td>\n",
       "      <td>object</td>\n",
       "      <td>object</td>\n",
       "      <td>object</td>\n",
       "      <td>float64</td>\n",
       "      <td>object</td>\n",
       "    </tr>\n",
       "  </tbody>\n",
       "</table>\n",
       "</div>"
      ],
      "text/plain": [
       "                  publisher   genres  app_name release_date      tags  \\\n",
       "Total Nulos            2823       76        26          788       163   \n",
       "Porcentaje Nulos   8.785087  0.23651  0.080911     2.452231  0.507251   \n",
       "Total Vacios             27        0         0            0         0   \n",
       "Porcentaje Vacios  0.084023      0.0       0.0          0.0       0.0   \n",
       "Tipos                object   object    object       object    object   \n",
       "\n",
       "                      price        id developer  \n",
       "Total Nulos             429         2      1179  \n",
       "Porcentaje Nulos   1.335035  0.006224  3.669011  \n",
       "Total Vacios              0         0        13  \n",
       "Porcentaje Vacios       0.0       0.0  0.040456  \n",
       "Tipos                object   float64    object  "
      ]
     },
     "execution_count": 89,
     "metadata": {},
     "output_type": "execute_result"
    }
   ],
   "source": [
    "valores_faltantes(df_games_copy)"
   ]
  },
  {
   "cell_type": "markdown",
   "metadata": {},
   "source": [
    "*Con la estrategia anterior, rebajamos 5277 nulos en columna publihser, 2133 en columna developer, 748 en columna price, 99 en columna genre y 1401 nulos en columna release_data.*  \n"
   ]
  },
  {
   "cell_type": "markdown",
   "metadata": {},
   "source": [
    "**Ajuste tipos de datos**"
   ]
  },
  {
   "cell_type": "code",
   "execution_count": 90,
   "metadata": {},
   "outputs": [
    {
     "name": "stdout",
     "output_type": "stream",
     "text": [
      "<class 'pandas.core.frame.DataFrame'>\n",
      "Index: 32134 entries, 0 to 32134\n",
      "Data columns (total 8 columns):\n",
      " #   Column        Non-Null Count  Dtype  \n",
      "---  ------        --------------  -----  \n",
      " 0   publisher     29311 non-null  object \n",
      " 1   genres        32058 non-null  object \n",
      " 2   app_name      32108 non-null  object \n",
      " 3   release_date  31346 non-null  object \n",
      " 4   tags          31971 non-null  object \n",
      " 5   price         31705 non-null  object \n",
      " 6   id            32132 non-null  float64\n",
      " 7   developer     30955 non-null  object \n",
      "dtypes: float64(1), object(7)\n",
      "memory usage: 3.2+ MB\n"
     ]
    }
   ],
   "source": [
    "df_games_copy.info()"
   ]
  },
  {
   "cell_type": "code",
   "execution_count": 91,
   "metadata": {},
   "outputs": [
    {
     "data": {
      "text/html": [
       "<div>\n",
       "<style scoped>\n",
       "    .dataframe tbody tr th:only-of-type {\n",
       "        vertical-align: middle;\n",
       "    }\n",
       "\n",
       "    .dataframe tbody tr th {\n",
       "        vertical-align: top;\n",
       "    }\n",
       "\n",
       "    .dataframe thead th {\n",
       "        text-align: right;\n",
       "    }\n",
       "</style>\n",
       "<table border=\"1\" class=\"dataframe\">\n",
       "  <thead>\n",
       "    <tr style=\"text-align: right;\">\n",
       "      <th></th>\n",
       "      <th>publisher</th>\n",
       "      <th>genres</th>\n",
       "      <th>app_name</th>\n",
       "      <th>release_date</th>\n",
       "      <th>tags</th>\n",
       "      <th>price</th>\n",
       "      <th>id</th>\n",
       "      <th>developer</th>\n",
       "    </tr>\n",
       "  </thead>\n",
       "  <tbody>\n",
       "    <tr>\n",
       "      <th>Total Nulos</th>\n",
       "      <td>2823</td>\n",
       "      <td>76</td>\n",
       "      <td>26</td>\n",
       "      <td>788</td>\n",
       "      <td>163</td>\n",
       "      <td>429</td>\n",
       "      <td>2</td>\n",
       "      <td>1179</td>\n",
       "    </tr>\n",
       "    <tr>\n",
       "      <th>Porcentaje Nulos</th>\n",
       "      <td>8.785087</td>\n",
       "      <td>0.23651</td>\n",
       "      <td>0.080911</td>\n",
       "      <td>2.452231</td>\n",
       "      <td>0.507251</td>\n",
       "      <td>1.335035</td>\n",
       "      <td>0.006224</td>\n",
       "      <td>3.669011</td>\n",
       "    </tr>\n",
       "    <tr>\n",
       "      <th>Total Vacios</th>\n",
       "      <td>27</td>\n",
       "      <td>0</td>\n",
       "      <td>0</td>\n",
       "      <td>0</td>\n",
       "      <td>0</td>\n",
       "      <td>0</td>\n",
       "      <td>0</td>\n",
       "      <td>13</td>\n",
       "    </tr>\n",
       "    <tr>\n",
       "      <th>Porcentaje Vacios</th>\n",
       "      <td>0.084023</td>\n",
       "      <td>0.0</td>\n",
       "      <td>0.0</td>\n",
       "      <td>0.0</td>\n",
       "      <td>0.0</td>\n",
       "      <td>0.0</td>\n",
       "      <td>0.0</td>\n",
       "      <td>0.040456</td>\n",
       "    </tr>\n",
       "    <tr>\n",
       "      <th>Tipos</th>\n",
       "      <td>object</td>\n",
       "      <td>object</td>\n",
       "      <td>object</td>\n",
       "      <td>object</td>\n",
       "      <td>object</td>\n",
       "      <td>object</td>\n",
       "      <td>float64</td>\n",
       "      <td>object</td>\n",
       "    </tr>\n",
       "  </tbody>\n",
       "</table>\n",
       "</div>"
      ],
      "text/plain": [
       "                  publisher   genres  app_name release_date      tags  \\\n",
       "Total Nulos            2823       76        26          788       163   \n",
       "Porcentaje Nulos   8.785087  0.23651  0.080911     2.452231  0.507251   \n",
       "Total Vacios             27        0         0            0         0   \n",
       "Porcentaje Vacios  0.084023      0.0       0.0          0.0       0.0   \n",
       "Tipos                object   object    object       object    object   \n",
       "\n",
       "                      price        id developer  \n",
       "Total Nulos             429         2      1179  \n",
       "Porcentaje Nulos   1.335035  0.006224  3.669011  \n",
       "Total Vacios              0         0        13  \n",
       "Porcentaje Vacios       0.0       0.0  0.040456  \n",
       "Tipos                object   float64    object  "
      ]
     },
     "execution_count": 91,
     "metadata": {},
     "output_type": "execute_result"
    }
   ],
   "source": [
    "valores_faltantes(df_games_copy)"
   ]
  },
  {
   "cell_type": "code",
   "execution_count": 92,
   "metadata": {},
   "outputs": [],
   "source": [
    "df_games_copy.replace('', np.nan, inplace=True)\n",
    "df_games_copy.replace('None', np.nan, inplace=True)"
   ]
  },
  {
   "cell_type": "code",
   "execution_count": 93,
   "metadata": {},
   "outputs": [],
   "source": [
    "# Función para eliminar el símbolo $ si está presente\n",
    "def eliminar_dolar(valor):\n",
    "    if isinstance(valor, str) and '$' in valor:\n",
    "        return valor.replace('$', '')\n",
    "    return valor  # Devuelve el valor original si no es string o no tiene $\n",
    "df_games_copy['price'] = df_games_copy['price'].apply(eliminar_dolar)"
   ]
  },
  {
   "cell_type": "code",
   "execution_count": 94,
   "metadata": {},
   "outputs": [],
   "source": [
    "df_games_copy['price'] = df_games_copy['price'].astype(str)"
   ]
  },
  {
   "cell_type": "code",
   "execution_count": 96,
   "metadata": {},
   "outputs": [],
   "source": [
    "def limpiar_precio(valor):\n",
    "    try:\n",
    "        # Intentamos convertir a float\n",
    "        return float(valor)\n",
    "    except ValueError:\n",
    "        # Si no se puede convertir, devolvemos NaN\n",
    "        return np.nan\n",
    "    \n",
    "df_games_copy['price']  = df_games_copy['price'] .apply(limpiar_precio)  "
   ]
  },
  {
   "cell_type": "code",
   "execution_count": 97,
   "metadata": {},
   "outputs": [],
   "source": [
    "# Finalmente ajustamos la columna 'price' al tipo de dato float\n",
    "df_games_copy['price'] = df_games_copy['price'].astype(float, errors='raise')"
   ]
  },
  {
   "cell_type": "code",
   "execution_count": 98,
   "metadata": {},
   "outputs": [
    {
     "data": {
      "text/plain": [
       "price\n",
       "4.99      4285\n",
       "9.99      3843\n",
       "2.99      3438\n",
       "0.00      3215\n",
       "0.99      2604\n",
       "          ... \n",
       "6.66         1\n",
       "189.00       1\n",
       "1.50         1\n",
       "1.95         1\n",
       "124.99       1\n",
       "Name: count, Length: 144, dtype: int64"
      ]
     },
     "execution_count": 98,
     "metadata": {},
     "output_type": "execute_result"
    }
   ],
   "source": [
    "df_games_copy['price'].value_counts()"
   ]
  },
  {
   "cell_type": "markdown",
   "metadata": {},
   "source": [
    "**Ajuste columna genre**"
   ]
  },
  {
   "cell_type": "markdown",
   "metadata": {},
   "source": [
    "*Dejamos sólo el primer género en columna 'genres'*"
   ]
  },
  {
   "cell_type": "code",
   "execution_count": 99,
   "metadata": {},
   "outputs": [
    {
     "name": "stdout",
     "output_type": "stream",
     "text": [
      "16299                    Action\n",
      "810                    Strategy\n",
      "18587                Simulation\n",
      "11283             Casual  Indie\n",
      "23249    Action Adventure Indie\n",
      "5016           Casual Indie RPG\n",
      "18332       Indie Simulation VR\n",
      "1715     Action Adventure Indie\n",
      "4037               Casual Indie\n",
      "8369          Action Simulation\n",
      "Name: genres, dtype: object\n"
     ]
    }
   ],
   "source": [
    "print(df_games_copy['genres'].sample(10))"
   ]
  },
  {
   "cell_type": "code",
   "execution_count": 100,
   "metadata": {},
   "outputs": [],
   "source": [
    "# Extrae el primer género (primer valor antes del espacio)\n",
    "\n",
    "df_games_copy['genres'] = df_games_copy['genres'].apply(\n",
    "    lambda x: x.split()[0] if isinstance(x, str) and x.strip() else pd.NA\n",
    ")\n"
   ]
  },
  {
   "cell_type": "code",
   "execution_count": 101,
   "metadata": {},
   "outputs": [],
   "source": [
    "# Convertir la columna 'year' en un formato de fecha (suponiendo 1 de enero como fecha)\n",
    "df_games_copy['release_date'] = pd.to_datetime(df_games_copy['release_date'].astype('Int64').astype(str) + '-01-01', errors='coerce')"
   ]
  },
  {
   "cell_type": "code",
   "execution_count": 102,
   "metadata": {},
   "outputs": [
    {
     "data": {
      "text/html": [
       "<div>\n",
       "<style scoped>\n",
       "    .dataframe tbody tr th:only-of-type {\n",
       "        vertical-align: middle;\n",
       "    }\n",
       "\n",
       "    .dataframe tbody tr th {\n",
       "        vertical-align: top;\n",
       "    }\n",
       "\n",
       "    .dataframe thead th {\n",
       "        text-align: right;\n",
       "    }\n",
       "</style>\n",
       "<table border=\"1\" class=\"dataframe\">\n",
       "  <thead>\n",
       "    <tr style=\"text-align: right;\">\n",
       "      <th></th>\n",
       "      <th>publisher</th>\n",
       "      <th>genres</th>\n",
       "      <th>app_name</th>\n",
       "      <th>release_date</th>\n",
       "      <th>tags</th>\n",
       "      <th>price</th>\n",
       "      <th>id</th>\n",
       "      <th>developer</th>\n",
       "    </tr>\n",
       "  </thead>\n",
       "  <tbody>\n",
       "    <tr>\n",
       "      <th>0</th>\n",
       "      <td>Kotoshiro</td>\n",
       "      <td>Action</td>\n",
       "      <td>Lost Summoner Kitty</td>\n",
       "      <td>2018-01-01</td>\n",
       "      <td>Strategy Action Indie Casual Simulation</td>\n",
       "      <td>4.99</td>\n",
       "      <td>761140.0</td>\n",
       "      <td>Kotoshiro</td>\n",
       "    </tr>\n",
       "    <tr>\n",
       "      <th>1</th>\n",
       "      <td>Making Fun Inc</td>\n",
       "      <td>Indie</td>\n",
       "      <td>Ironbound</td>\n",
       "      <td>2018-01-01</td>\n",
       "      <td>Free to Play Strategy Indie RPG Card Game Trad...</td>\n",
       "      <td>0.00</td>\n",
       "      <td>643980.0</td>\n",
       "      <td>Secret Level SRL</td>\n",
       "    </tr>\n",
       "    <tr>\n",
       "      <th>2</th>\n",
       "      <td>Poolianscom</td>\n",
       "      <td>Casual</td>\n",
       "      <td>Real Pool D  Poolians</td>\n",
       "      <td>2017-01-01</td>\n",
       "      <td>Free to Play Simulation Sports Casual Indie Mu...</td>\n",
       "      <td>0.00</td>\n",
       "      <td>670290.0</td>\n",
       "      <td>Poolianscom</td>\n",
       "    </tr>\n",
       "    <tr>\n",
       "      <th>3</th>\n",
       "      <td>NaN</td>\n",
       "      <td>Action</td>\n",
       "      <td>None</td>\n",
       "      <td>2017-01-01</td>\n",
       "      <td>Action Adventure Casual</td>\n",
       "      <td>0.99</td>\n",
       "      <td>767400.0</td>\n",
       "      <td>NaN</td>\n",
       "    </tr>\n",
       "    <tr>\n",
       "      <th>4</th>\n",
       "      <td>CGPills</td>\n",
       "      <td>Action</td>\n",
       "      <td>Log Challenge</td>\n",
       "      <td>2018-01-01</td>\n",
       "      <td>Action Indie Casual Sports</td>\n",
       "      <td>2.99</td>\n",
       "      <td>773570.0</td>\n",
       "      <td>CGPills</td>\n",
       "    </tr>\n",
       "  </tbody>\n",
       "</table>\n",
       "</div>"
      ],
      "text/plain": [
       "        publisher  genres               app_name release_date  \\\n",
       "0       Kotoshiro  Action    Lost Summoner Kitty   2018-01-01   \n",
       "1  Making Fun Inc   Indie              Ironbound   2018-01-01   \n",
       "2     Poolianscom  Casual  Real Pool D  Poolians   2017-01-01   \n",
       "3             NaN  Action                   None   2017-01-01   \n",
       "4         CGPills  Action          Log Challenge   2018-01-01   \n",
       "\n",
       "                                                tags  price        id  \\\n",
       "0            Strategy Action Indie Casual Simulation   4.99  761140.0   \n",
       "1  Free to Play Strategy Indie RPG Card Game Trad...   0.00  643980.0   \n",
       "2  Free to Play Simulation Sports Casual Indie Mu...   0.00  670290.0   \n",
       "3                            Action Adventure Casual   0.99  767400.0   \n",
       "4                         Action Indie Casual Sports   2.99  773570.0   \n",
       "\n",
       "          developer  \n",
       "0         Kotoshiro  \n",
       "1  Secret Level SRL  \n",
       "2       Poolianscom  \n",
       "3               NaN  \n",
       "4           CGPills  "
      ]
     },
     "execution_count": 102,
     "metadata": {},
     "output_type": "execute_result"
    }
   ],
   "source": [
    "df_games_copy.head()"
   ]
  },
  {
   "cell_type": "markdown",
   "metadata": {},
   "source": [
    "# Análisis de variables"
   ]
  },
  {
   "cell_type": "markdown",
   "metadata": {},
   "source": [
    "En este apartado, nos centramos en obtener las principales conclusiones de nuestro dataset a partir de análisis estadístico y revisión de gráficas, para así tomar las mejores decisiones que permitan levantar un modelo de machine learning ajustado a la realidad de nuestros datos."
   ]
  },
  {
   "cell_type": "markdown",
   "metadata": {},
   "source": [
    "**Análisi columna 'release_date'**"
   ]
  },
  {
   "cell_type": "code",
   "execution_count": 103,
   "metadata": {},
   "outputs": [
    {
     "data": {
      "text/plain": [
       "count                            31345\n",
       "mean     2014-11-04 14:35:40.130802432\n",
       "min                1970-01-01 00:00:00\n",
       "25%                2014-01-01 00:00:00\n",
       "50%                2016-01-01 00:00:00\n",
       "75%                2017-01-01 00:00:00\n",
       "max                2021-01-01 00:00:00\n",
       "Name: release_date, dtype: object"
      ]
     },
     "execution_count": 103,
     "metadata": {},
     "output_type": "execute_result"
    }
   ],
   "source": [
    "df_games_copy['release_date'].describe()"
   ]
  },
  {
   "cell_type": "markdown",
   "metadata": {},
   "source": [
    "*El año de lanzamiento más antiguo que tenemos en nuestra base de datos es 1970, siendo el 2021 el año más reciente de lanzamiento.*  \n",
    "*Entre 1970 y 2014 se lanzaron el 25% de los juegos, y un 50% de los juegos se lanzó sólo en tres años, entre 2014 y 2017. El 25% restante se lanzó entre 2017 y 2021.*"
   ]
  },
  {
   "cell_type": "code",
   "execution_count": 111,
   "metadata": {},
   "outputs": [
    {
     "data": {
      "image/png": "[encoded data removed]",
      "text/plain": [
       "<Figure size 1000x500 with 1 Axes>"
      ]
     },
     "metadata": {},
     "output_type": "display_data"
    }
   ],
   "source": [
    "\n",
    "\n",
    "df_games_copy['release_date'] = pd.to_datetime(df_games_copy['release_date'], errors='coerce')\n",
    "\n",
    "# 1. Contamos la frecuencia de cada año sin considerar N/A\n",
    "count_year = df_games_copy['release_date'].dt.year.value_counts().sort_index()\n",
    "\n",
    "# 3. Ordenar: Primero los años, luego 'Dato no disponible' al final\n",
    "count_year = count_year.sort_index(key=lambda x: pd.to_numeric(x, errors='coerce').fillna(float('inf')))\n",
    "\n",
    "# 4. Crear la gráfica de barras\n",
    "plt.figure(figsize=(10, 5))\n",
    "sns.barplot(x=count_year.index, y=count_year.values, hue=count_year.index, legend=False, palette='muted')\n",
    "\n",
    "plt.xlabel('Año de Lanzamiento')\n",
    "plt.ylabel('Cantidad de Juegos')\n",
    "plt.title('Número de Juegos por año de lanzamiento')\n",
    "plt.xticks(rotation=45, ha='right')\n",
    "plt.tight_layout()\n",
    "plt.show()"
   ]
  },
  {
   "cell_type": "markdown",
   "metadata": {},
   "source": [
    "*Para el posterior entrenamiento de nuestro modelo de machine learning, necesitamos utilizar un periodo más representativo de mayor cantidad de datos por año, ya que como apreciamos en las estadísticas y en la gráfica, un porcentaje mayoritario de lanzamientos de juegos fueron realizados en décadas reciente. En la siguiente gráfica nos centraremos en el periodo que parte en el año 2010.*"
   ]
  },
  {
   "cell_type": "code",
   "execution_count": 113,
   "metadata": {},
   "outputs": [
    {
     "data": {
      "image/png": "[encoded data removed]",
      "text/plain": [
       "<Figure size 800x400 with 1 Axes>"
      ]
     },
     "metadata": {},
     "output_type": "display_data"
    }
   ],
   "source": [
    "\n",
    "df_games_copy['release_date'] = pd.to_datetime(df_games_copy['release_date'], errors='coerce')\n",
    "\n",
    "# Se cuenta la frecuencia de cada año mayor a 2010, excluyendo NaT\n",
    "count_year = df_games_copy[df_games_copy['release_date'].notna() & (df_games_copy['release_date'].dt.year > 2010)]['release_date'].dt.year.value_counts().sort_index()\n",
    "\n",
    "# Crea el gráfico de barras\n",
    "plt.figure(figsize=(8, 4))\n",
    "sns.barplot(x=count_year.index, y=count_year.values, hue=count_year.index, legend=False, palette='muted')\n",
    "plt.xlabel('Año de Lanzamiento')\n",
    "plt.ylabel('Cantidad de Juegos')\n",
    "plt.title('Número de Juegos por Año de Lanzamiento, desde 2010')\n",
    "plt.xticks(rotation=45, ha='right')  # Rotar las etiquetas para mayor claridad\n",
    "plt.tight_layout()  # Ajustar distribución\n",
    "\n",
    "# Mostrar la gráfica\n",
    "plt.show()"
   ]
  },
  {
   "cell_type": "markdown",
   "metadata": {},
   "source": [
    "**Análisis columna Publisher**"
   ]
  },
  {
   "cell_type": "code",
   "execution_count": 114,
   "metadata": {},
   "outputs": [
    {
     "data": {
      "text/plain": [
       "publisher\n",
       "NA                        988\n",
       "Dovetail Games  Trains    418\n",
       "Ubisoft                   402\n",
       "Degica                    340\n",
       "Paradox Interactive       302\n",
       "SEGA                      287\n",
       "Dovetail Games  Flight    257\n",
       "Big Fish Games            232\n",
       "Activision                230\n",
       "Dovetail Games            217\n",
       "Name: count, dtype: int64"
      ]
     },
     "execution_count": 114,
     "metadata": {},
     "output_type": "execute_result"
    }
   ],
   "source": [
    "# Principales editores de juegos (publisher).\n",
    "df_games_copy['publisher'].value_counts().head(10)"
   ]
  },
  {
   "cell_type": "code",
   "execution_count": 115,
   "metadata": {},
   "outputs": [
    {
     "name": "stderr",
     "output_type": "stream",
     "text": [
      "C:\\Users\\Lenovo\\AppData\\Local\\Temp\\ipykernel_12940\\3742567259.py:6: FutureWarning: \n",
      "\n",
      "Passing `palette` without assigning `hue` is deprecated and will be removed in v0.14.0. Assign the `y` variable to `hue` and set `legend=False` for the same effect.\n",
      "\n",
      "  sns.barplot(x=genres_counts[:10], y=genres_counts.index[:10], palette= 'muted')\n"
     ]
    },
    {
     "data": {
      "image/png": "[encoded data removed]",
      "text/plain": [
       "<Figure size 800x400 with 1 Axes>"
      ]
     },
     "metadata": {},
     "output_type": "display_data"
    }
   ],
   "source": [
    "# Grafica los 10 editores de juego (publisher) más comunes, sin contar los que no están etiquetados\n",
    "publisher_counts = genres_counts = df_games_copy[~df_games_copy['publisher'].isin(['NA', 'N/A', ''])]['publisher'].value_counts()\n",
    "\n",
    "# Voy a crear un gráfico de barras para 'df_games' \n",
    "plt.figure(figsize=(8, 4))  # Establece el tamaño del gráfico\n",
    "sns.barplot(x=genres_counts[:10], y=genres_counts.index[:10], palette= 'muted')\n",
    "\n",
    "# etiquetamos\n",
    "plt.xlabel(\"Número de Juegos\")\n",
    "plt.ylabel(\"Publisher\")\n",
    "plt.title(\"Los 10 editores de juego (publisher) más comunes\")\n",
    "plt.xticks(rotation=45, ha='right')\n",
    "plt.show()"
   ]
  },
  {
   "cell_type": "markdown",
   "metadata": {},
   "source": [
    "**Análisis Columna género de juego**"
   ]
  },
  {
   "cell_type": "code",
   "execution_count": 117,
   "metadata": {},
   "outputs": [
    {
     "data": {
      "image/png": "[encoded data removed]",
      "text/plain": [
       "<Figure size 700x400 with 1 Axes>"
      ]
     },
     "metadata": {},
     "output_type": "display_data"
    }
   ],
   "source": [
    "# Graficamos los géneros de juegos más repetidos sin contar los que no están etiquetados\n",
    "genres_counts = df_games_copy[~df_games_copy['genres'].isin(['NA', 'N/A', ''])]['genres'].value_counts()\n",
    "\n",
    "# Graficamos\n",
    "plt.figure(figsize=(7, 4)) \n",
    "sns.barplot(x=genres_counts[:10], y=genres_counts.index[:10],hue=genres_counts[:10], legend=False, palette= 'muted')\n",
    "plt.xlabel(\"Número de Juegos\")\n",
    "plt.ylabel(\"Género\")\n",
    "plt.title(\"Los 10 géneros más comunes\")\n",
    "plt.xticks(rotation=45, ha='right')\n",
    "plt.show()"
   ]
  },
  {
   "cell_type": "markdown",
   "metadata": {},
   "source": [
    "*Como podmeos ver en la gráfica, el géreo de acción se repite 12.000 veces en la plataforma, que quiere decir que 12000 juegos pertenecen a esta categoría.*"
   ]
  },
  {
   "cell_type": "markdown",
   "metadata": {},
   "source": [
    "**Análisis columna 'developer'**"
   ]
  },
  {
   "cell_type": "code",
   "execution_count": 118,
   "metadata": {},
   "outputs": [
    {
     "data": {
      "text/plain": [
       "developer\n",
       "Ubisoft  San Francisco        1330\n",
       "SmiteWorks USA LLC             894\n",
       "Dovetail Games                 265\n",
       "KOEI TECMO GAMES CO LTD        254\n",
       "Paradox Development Studio     164\n",
       "Capcom                         139\n",
       "Ronimo Games                   136\n",
       "NV Games                       107\n",
       "Musopia                        105\n",
       "Choice of Games                105\n",
       "Name: count, dtype: int64"
      ]
     },
     "execution_count": 118,
     "metadata": {},
     "output_type": "execute_result"
    }
   ],
   "source": [
    "df_games_copy['developer'].value_counts().head(10)"
   ]
  },
  {
   "cell_type": "markdown",
   "metadata": {},
   "source": [
    "*Ubisoft San Francisco es por lejos el desarrollador más prolífico de nuestra base de datos, desarrollando más de 1330 juegos. El segundo y tercer lugar lo componen SmiteWorks USA LLC y  Dovetail Games, con 894 y 265 juegos desarrollados para STEAM, según nuestra base de datos.*"
   ]
  },
  {
   "cell_type": "code",
   "execution_count": 127,
   "metadata": {},
   "outputs": [
    {
     "data": {
      "image/png": "[encoded data removed]",
      "text/plain": [
       "<Figure size 1000x500 with 1 Axes>"
      ]
     },
     "metadata": {},
     "output_type": "display_data"
    }
   ],
   "source": [
    "# Contar la cantidad de juegos por developer\n",
    "conteo_developer = df_games_copy['developer'].value_counts()\n",
    "\n",
    "# Crear una figura con dos subplots uno al lado del otro\n",
    "plt.figure(figsize=(10, 5))\n",
    "\n",
    "# Segundo subplot para los developers\n",
    "plt.subplot(1, 2, 2)\n",
    "conteo_developer[:10].plot(kind='bar', color='#92d1cb')\n",
    "plt.ylabel('Cantidad de Juegos') ; plt.title('Top 10 Empresas Desarrolladoras de juego')\n",
    "plt.xticks(rotation=45, ha='right')\n",
    "plt.tight_layout()\n",
    "plt.show()"
   ]
  },
  {
   "cell_type": "markdown",
   "metadata": {},
   "source": [
    "**Análisis Columna 'Price'**"
   ]
  },
  {
   "cell_type": "markdown",
   "metadata": {},
   "source": [
    "*Calculamos los outliers para la columna 'price':*"
   ]
  },
  {
   "cell_type": "code",
   "execution_count": 122,
   "metadata": {},
   "outputs": [
    {
     "data": {
      "text/plain": [
       "count    31660.000000\n",
       "mean         8.135227\n",
       "std         14.835255\n",
       "min          0.000000\n",
       "25%          1.990000\n",
       "50%          4.990000\n",
       "75%          9.990000\n",
       "max        995.000000\n",
       "Name: price, dtype: float64"
      ]
     },
     "execution_count": 122,
     "metadata": {},
     "output_type": "execute_result"
    }
   ],
   "source": [
    "df_games_copy['price'].describe()"
   ]
  },
  {
   "cell_type": "code",
   "execution_count": 123,
   "metadata": {},
   "outputs": [
    {
     "data": {
      "text/plain": [
       "price\n",
       "4.99      4285\n",
       "9.99      3843\n",
       "2.99      3438\n",
       "0.00      3215\n",
       "0.99      2604\n",
       "          ... \n",
       "6.66         1\n",
       "189.00       1\n",
       "1.50         1\n",
       "1.95         1\n",
       "124.99       1\n",
       "Name: count, Length: 144, dtype: int64"
      ]
     },
     "execution_count": 123,
     "metadata": {},
     "output_type": "execute_result"
    }
   ],
   "source": [
    "df_games_copy['price'].value_counts()"
   ]
  },
  {
   "cell_type": "markdown",
   "metadata": {},
   "source": [
    "*El precio más común de nuestro conjunto de datos es el 4.99 dólares, que está asociado a 4285 juegos. El precio máximo es de 995 dólares y el mínimo corresponde a 0, que son los juegos gratuitos existentes en la plataforma.*\n",
    "\n",
    "*En la siguiente gráfica, se muestra el top 10 de juegos más caros que encontramos en la base de datos.*"
   ]
  },
  {
   "cell_type": "code",
   "execution_count": 128,
   "metadata": {},
   "outputs": [
    {
     "data": {
      "image/png": "[encoded data removed]",
      "text/plain": [
       "<Figure size 800x500 with 1 Axes>"
      ]
     },
     "metadata": {},
     "output_type": "display_data"
    }
   ],
   "source": [
    "# Obtener los Top 10 juegos con los precios más altos o más frecuentes\n",
    "Top_10 = df_games_copy[['app_name', 'price']].drop_duplicates().sort_values(by='price', ascending=False).head(10)\n",
    "\n",
    "# Crear la figura de la gráfica\n",
    "plt.figure(figsize=(8, 5))\n",
    "\n",
    "# Usar barplot para mostrar los precios de los Top 10 juegos\n",
    "sns.barplot(data=Top_10, x='app_name', y='price', hue='app_name', legend=False, palette='muted')\n",
    "\n",
    "# Ajustar etiquetas y título\n",
    "plt.xlabel('Juego')\n",
    "plt.ylabel('Precio ($)')\n",
    "plt.title('Distribución de precios de los Top 10 juegos')\n",
    "\n",
    "# Se rotan etiquetas del eje X para mayor claridad\n",
    "plt.xticks(rotation=45, ha='right')\n",
    "\n",
    "# Ajustar distribución del layout y mostrar la gráfica\n",
    "plt.tight_layout()\n",
    "plt.show()"
   ]
  },
  {
   "cell_type": "markdown",
   "metadata": {},
   "source": [
    "Como se aprecia, la mayor parte de los juegos tiene un precio menos a 100 dólares. Calculamos cuántos son los valores extremos de nuestro conjunto de datos."
   ]
  },
  {
   "cell_type": "code",
   "execution_count": 129,
   "metadata": {},
   "outputs": [
    {
     "data": {
      "text/html": [
       "<div>\n",
       "<style scoped>\n",
       "    .dataframe tbody tr th:only-of-type {\n",
       "        vertical-align: middle;\n",
       "    }\n",
       "\n",
       "    .dataframe tbody tr th {\n",
       "        vertical-align: top;\n",
       "    }\n",
       "\n",
       "    .dataframe thead th {\n",
       "        text-align: right;\n",
       "    }\n",
       "</style>\n",
       "<table border=\"1\" class=\"dataframe\">\n",
       "  <thead>\n",
       "    <tr style=\"text-align: right;\">\n",
       "      <th></th>\n",
       "      <th>publisher</th>\n",
       "      <th>genres</th>\n",
       "      <th>app_name</th>\n",
       "      <th>release_date</th>\n",
       "      <th>tags</th>\n",
       "      <th>price</th>\n",
       "      <th>id</th>\n",
       "      <th>developer</th>\n",
       "    </tr>\n",
       "  </thead>\n",
       "  <tbody>\n",
       "    <tr>\n",
       "      <th>12088</th>\n",
       "      <td>Strata Mixed Reality Inc</td>\n",
       "      <td>Animation</td>\n",
       "      <td>Strata Spaces VR  Professional Edition Upgrade</td>\n",
       "      <td>2017-01-01</td>\n",
       "      <td>Design  Illustration Animation  Modeling</td>\n",
       "      <td>995.00</td>\n",
       "      <td>719000.0</td>\n",
       "      <td>Strata Mixed Reality Inc</td>\n",
       "    </tr>\n",
       "    <tr>\n",
       "      <th>19742</th>\n",
       "      <td>Crytivo</td>\n",
       "      <td>Indie</td>\n",
       "      <td>The Universim</td>\n",
       "      <td>2017-01-01</td>\n",
       "      <td>Early Access God Game Simulation Strategy Sand...</td>\n",
       "      <td>624.74</td>\n",
       "      <td>352720.0</td>\n",
       "      <td>Crytivo</td>\n",
       "    </tr>\n",
       "    <tr>\n",
       "      <th>21427</th>\n",
       "      <td>West Forest Games</td>\n",
       "      <td>Action</td>\n",
       "      <td>Strike Force Arctic Storm</td>\n",
       "      <td>2016-01-01</td>\n",
       "      <td>Indie Action</td>\n",
       "      <td>501.87</td>\n",
       "      <td>527520.0</td>\n",
       "      <td>West Forest Games</td>\n",
       "    </tr>\n",
       "    <tr>\n",
       "      <th>12717</th>\n",
       "      <td>CAPCOM Co Ltd</td>\n",
       "      <td>Action</td>\n",
       "      <td>Universal Coin  Madhouse Mode Unlock</td>\n",
       "      <td>2017-01-01</td>\n",
       "      <td>Action Adventure Gore Violent</td>\n",
       "      <td>501.87</td>\n",
       "      <td>530599.0</td>\n",
       "      <td>CAPCOM Co Ltd</td>\n",
       "    </tr>\n",
       "    <tr>\n",
       "      <th>14304</th>\n",
       "      <td>RUHRSOURCE GmbH</td>\n",
       "      <td>Animation</td>\n",
       "      <td>CURD Maker Edition  Permission for commercial use</td>\n",
       "      <td>2017-01-01</td>\n",
       "      <td>Utilities Design  Illustration Animation  Mode...</td>\n",
       "      <td>499.99</td>\n",
       "      <td>691560.0</td>\n",
       "      <td>RUHRSOURCE GmbH</td>\n",
       "    </tr>\n",
       "    <tr>\n",
       "      <th>...</th>\n",
       "      <td>...</td>\n",
       "      <td>...</td>\n",
       "      <td>...</td>\n",
       "      <td>...</td>\n",
       "      <td>...</td>\n",
       "      <td>...</td>\n",
       "      <td>...</td>\n",
       "      <td>...</td>\n",
       "    </tr>\n",
       "    <tr>\n",
       "      <th>21704</th>\n",
       "      <td>New Bridge Games</td>\n",
       "      <td>Racing</td>\n",
       "      <td>Redout Enhanced Edition</td>\n",
       "      <td>2016-01-01</td>\n",
       "      <td>Racing Futuristic FastPaced Indie Great Soundt...</td>\n",
       "      <td>34.99</td>\n",
       "      <td>517710.0</td>\n",
       "      <td>New Bridge Games</td>\n",
       "    </tr>\n",
       "    <tr>\n",
       "      <th>21858</th>\n",
       "      <td>Aerosoft GmbH</td>\n",
       "      <td>Simulation</td>\n",
       "      <td>Fernbus Simulator</td>\n",
       "      <td>2016-01-01</td>\n",
       "      <td>Simulation Driving Realistic Singleplayer Open...</td>\n",
       "      <td>34.99</td>\n",
       "      <td>427100.0</td>\n",
       "      <td>TMLStudios</td>\n",
       "    </tr>\n",
       "    <tr>\n",
       "      <th>28448</th>\n",
       "      <td>Uber Entertainment</td>\n",
       "      <td>Strategy</td>\n",
       "      <td>Planetary Annihilation  Digital Deluxe Addon</td>\n",
       "      <td>2014-01-01</td>\n",
       "      <td>Strategy RTS</td>\n",
       "      <td>34.99</td>\n",
       "      <td>321580.0</td>\n",
       "      <td>Uber Entertainment</td>\n",
       "    </tr>\n",
       "    <tr>\n",
       "      <th>22393</th>\n",
       "      <td>Bohemia Interactive</td>\n",
       "      <td>Action</td>\n",
       "      <td>Arma  Apex</td>\n",
       "      <td>2016-01-01</td>\n",
       "      <td>Simulation Action Multiplayer Military Open Wo...</td>\n",
       "      <td>34.99</td>\n",
       "      <td>395180.0</td>\n",
       "      <td>Bohemia Interactive</td>\n",
       "    </tr>\n",
       "    <tr>\n",
       "      <th>31938</th>\n",
       "      <td>Firedog Creative Company Limited</td>\n",
       "      <td>RPG</td>\n",
       "      <td>None</td>\n",
       "      <td>2017-01-01</td>\n",
       "      <td>RPG Simulation Anime</td>\n",
       "      <td>34.99</td>\n",
       "      <td>769680.0</td>\n",
       "      <td>Firedog Creative Company Limited</td>\n",
       "    </tr>\n",
       "  </tbody>\n",
       "</table>\n",
       "<p>757 rows × 8 columns</p>\n",
       "</div>"
      ],
      "text/plain": [
       "                              publisher      genres  \\\n",
       "12088          Strata Mixed Reality Inc   Animation   \n",
       "19742                           Crytivo       Indie   \n",
       "21427                 West Forest Games      Action   \n",
       "12717                     CAPCOM Co Ltd      Action   \n",
       "14304                   RUHRSOURCE GmbH   Animation   \n",
       "...                                 ...         ...   \n",
       "21704                  New Bridge Games      Racing   \n",
       "21858                     Aerosoft GmbH  Simulation   \n",
       "28448                Uber Entertainment    Strategy   \n",
       "22393               Bohemia Interactive      Action   \n",
       "31938  Firedog Creative Company Limited         RPG   \n",
       "\n",
       "                                                app_name release_date  \\\n",
       "12088     Strata Spaces VR  Professional Edition Upgrade   2017-01-01   \n",
       "19742                                      The Universim   2017-01-01   \n",
       "21427                          Strike Force Arctic Storm   2016-01-01   \n",
       "12717               Universal Coin  Madhouse Mode Unlock   2017-01-01   \n",
       "14304  CURD Maker Edition  Permission for commercial use   2017-01-01   \n",
       "...                                                  ...          ...   \n",
       "21704                            Redout Enhanced Edition   2016-01-01   \n",
       "21858                                  Fernbus Simulator   2016-01-01   \n",
       "28448       Planetary Annihilation  Digital Deluxe Addon   2014-01-01   \n",
       "22393                                         Arma  Apex   2016-01-01   \n",
       "31938                                               None   2017-01-01   \n",
       "\n",
       "                                                    tags   price        id  \\\n",
       "12088           Design  Illustration Animation  Modeling  995.00  719000.0   \n",
       "19742  Early Access God Game Simulation Strategy Sand...  624.74  352720.0   \n",
       "21427                                       Indie Action  501.87  527520.0   \n",
       "12717                      Action Adventure Gore Violent  501.87  530599.0   \n",
       "14304  Utilities Design  Illustration Animation  Mode...  499.99  691560.0   \n",
       "...                                                  ...     ...       ...   \n",
       "21704  Racing Futuristic FastPaced Indie Great Soundt...   34.99  517710.0   \n",
       "21858  Simulation Driving Realistic Singleplayer Open...   34.99  427100.0   \n",
       "28448                                       Strategy RTS   34.99  321580.0   \n",
       "22393  Simulation Action Multiplayer Military Open Wo...   34.99  395180.0   \n",
       "31938                               RPG Simulation Anime   34.99  769680.0   \n",
       "\n",
       "                              developer  \n",
       "12088          Strata Mixed Reality Inc  \n",
       "19742                           Crytivo  \n",
       "21427                 West Forest Games  \n",
       "12717                     CAPCOM Co Ltd  \n",
       "14304                   RUHRSOURCE GmbH  \n",
       "...                                 ...  \n",
       "21704                  New Bridge Games  \n",
       "21858                        TMLStudios  \n",
       "28448                Uber Entertainment  \n",
       "22393               Bohemia Interactive  \n",
       "31938  Firedog Creative Company Limited  \n",
       "\n",
       "[757 rows x 8 columns]"
      ]
     },
     "execution_count": 129,
     "metadata": {},
     "output_type": "execute_result"
    }
   ],
   "source": [
    "df_games_copy['price'] = pd.to_numeric(df_games_copy['price'], errors='coerce')\n",
    "\n",
    "# Definimos la función para calcular outliers usando IQR\n",
    "def calcula_outliers_IQR(data, carac, distancia=3):\n",
    "\n",
    "    ''' Cálculo del outliers usando  método IQR, datos de entrada\n",
    "    Dataframe, columna a evaluar y distancia, valor opcional, que se ajusta por defecto en 3.'''\n",
    "\n",
    "    Q1 = data[carac].quantile(0.25)\n",
    "    Q3 = data[carac].quantile(0.75)\n",
    "    IQR = Q3 - Q1\n",
    "\n",
    "    # Límites inferior y superior\n",
    "    limite_inf = Q1 - (IQR * distancia)\n",
    "    limite_sup = Q3 + (IQR * distancia)\n",
    "\n",
    "    # Detectar outliers\n",
    "    outliers = (data[carac] < limite_inf) | (data[carac] > limite_sup)\n",
    "    return outliers\n",
    "\n",
    "# Calcula los outliers para la columna 'price'\n",
    "outliers = calcula_outliers_IQR(df_games_copy, 'price')\n",
    "\n",
    "# Ordena los resultados\n",
    "outliers_price_sorted = df_games_copy.loc[outliers].sort_values(by='price', ascending=False)\n",
    "\n",
    "# Mostrar los resultados\n",
    "outliers_price_sorted"
   ]
  },
  {
   "cell_type": "markdown",
   "metadata": {},
   "source": [
    "*Graficamos un histograma que nos muestra la frecuencia de precios extremos en el dataframe*"
   ]
  },
  {
   "cell_type": "code",
   "execution_count": 94,
   "metadata": {},
   "outputs": [
    {
     "data": {
      "text/plain": [
       "(25.0, 200.0)"
      ]
     },
     "execution_count": 94,
     "metadata": {},
     "output_type": "execute_result"
    },
    {
     "data": {
      "image/png": "[encoded data removed]",
      "text/plain": [
       "<Figure size 640x480 with 1 Axes>"
      ]
     },
     "metadata": {},
     "output_type": "display_data"
    }
   ],
   "source": [
    "sns.histplot(df_games_copy.loc[outliers, 'price'])\n",
    "plt.xlim(25,200)"
   ]
  },
  {
   "cell_type": "code",
   "execution_count": 95,
   "metadata": {},
   "outputs": [],
   "source": [
    "#Exportamos df_games_copy, ya que sufrió modificaciones importantes.\n",
    "\n",
    "df_games_copy.to_parquet('Games_final.parquet', index= False)"
   ]
  }
 ],
 "metadata": {
  "kernelspec": {
   "display_name": "Python 3",
   "language": "python",
   "name": "python3"
  },
  "language_info": {
   "codemirror_mode": {
    "name": "ipython",
    "version": 3
   },
   "file_extension": ".py",
   "mimetype": "text/x-python",
   "name": "python",
   "nbconvert_exporter": "python",
   "pygments_lexer": "ipython3",
   "version": "3.12.3"
  }
 },
 "nbformat": 4,
 "nbformat_minor": 2
}
