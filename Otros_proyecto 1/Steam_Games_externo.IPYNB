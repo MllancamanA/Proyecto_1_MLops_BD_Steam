{
 "cells": [
  {
   "cell_type": "code",
   "execution_count": null,
   "metadata": {},
   "outputs": [],
   "source": []
  },
  {
   "cell_type": "code",
   "execution_count": 41,
   "metadata": {},
   "outputs": [],
   "source": [
    "import pandas as pd\n",
    "import numpy as np\n"
   ]
  },
  {
   "cell_type": "code",
   "execution_count": 48,
   "metadata": {},
   "outputs": [],
   "source": [
    "games= pd.read_csv(r\"C:\\Users\\Lenovo\\Downloads\\archive\\steam_games.csv\")"
   ]
  },
  {
   "cell_type": "code",
   "execution_count": 49,
   "metadata": {},
   "outputs": [],
   "source": [
    "games_copy= games.copy()"
   ]
  },
  {
   "cell_type": "code",
   "execution_count": 50,
   "metadata": {},
   "outputs": [],
   "source": [
    "games_copy.drop(columns=['url', 'types','desc_snippet', 'recent_reviews', 'all_reviews', 'popular_tags','game_details', 'languages', 'achievements', 'game_description', 'mature_content', 'minimum_requirements','recommended_requirements', 'discount_price'], inplace=True)"
   ]
  },
  {
   "cell_type": "code",
   "execution_count": 51,
   "metadata": {},
   "outputs": [
    {
     "data": {
      "text/html": [
       "<div>\n",
       "<style scoped>\n",
       "    .dataframe tbody tr th:only-of-type {\n",
       "        vertical-align: middle;\n",
       "    }\n",
       "\n",
       "    .dataframe tbody tr th {\n",
       "        vertical-align: top;\n",
       "    }\n",
       "\n",
       "    .dataframe thead th {\n",
       "        text-align: right;\n",
       "    }\n",
       "</style>\n",
       "<table border=\"1\" class=\"dataframe\">\n",
       "  <thead>\n",
       "    <tr style=\"text-align: right;\">\n",
       "      <th></th>\n",
       "      <th>name</th>\n",
       "      <th>release_date</th>\n",
       "      <th>developer</th>\n",
       "      <th>publisher</th>\n",
       "      <th>genre</th>\n",
       "      <th>original_price</th>\n",
       "    </tr>\n",
       "  </thead>\n",
       "  <tbody>\n",
       "    <tr>\n",
       "      <th>Total Nulos</th>\n",
       "      <td>16</td>\n",
       "      <td>3179</td>\n",
       "      <td>343</td>\n",
       "      <td>5100</td>\n",
       "      <td>438</td>\n",
       "      <td>5311</td>\n",
       "    </tr>\n",
       "    <tr>\n",
       "      <th>Porcentaje Nulos</th>\n",
       "      <td>0.039184</td>\n",
       "      <td>7.78537</td>\n",
       "      <td>0.840007</td>\n",
       "      <td>12.489898</td>\n",
       "      <td>1.072662</td>\n",
       "      <td>13.006637</td>\n",
       "    </tr>\n",
       "    <tr>\n",
       "      <th>Total Vacios</th>\n",
       "      <td>0</td>\n",
       "      <td>0</td>\n",
       "      <td>0</td>\n",
       "      <td>0</td>\n",
       "      <td>0</td>\n",
       "      <td>0</td>\n",
       "    </tr>\n",
       "    <tr>\n",
       "      <th>Porcentaje Vacios</th>\n",
       "      <td>0.0</td>\n",
       "      <td>0.0</td>\n",
       "      <td>0.0</td>\n",
       "      <td>0.0</td>\n",
       "      <td>0.0</td>\n",
       "      <td>0.0</td>\n",
       "    </tr>\n",
       "    <tr>\n",
       "      <th>Tipos</th>\n",
       "      <td>object</td>\n",
       "      <td>object</td>\n",
       "      <td>object</td>\n",
       "      <td>object</td>\n",
       "      <td>object</td>\n",
       "      <td>object</td>\n",
       "    </tr>\n",
       "  </tbody>\n",
       "</table>\n",
       "</div>"
      ],
      "text/plain": [
       "                       name release_date developer  publisher     genre  \\\n",
       "Total Nulos              16         3179       343       5100       438   \n",
       "Porcentaje Nulos   0.039184      7.78537  0.840007  12.489898  1.072662   \n",
       "Total Vacios              0            0         0          0         0   \n",
       "Porcentaje Vacios       0.0          0.0       0.0        0.0       0.0   \n",
       "Tipos                object       object    object     object    object   \n",
       "\n",
       "                  original_price  \n",
       "Total Nulos                 5311  \n",
       "Porcentaje Nulos       13.006637  \n",
       "Total Vacios                   0  \n",
       "Porcentaje Vacios            0.0  \n",
       "Tipos                     object  "
      ]
     },
     "execution_count": 51,
     "metadata": {},
     "output_type": "execute_result"
    }
   ],
   "source": [
    "def valores_faltantes(data):\n",
    "    # Contar valores nulos y vacíos\n",
    "    total_nulos = data.isnull().sum()\n",
    "    total_vacios = (data == '').sum()\n",
    "\n",
    "    # Sumar ambos tipos de valores faltantes\n",
    "    total = total_nulos + total_vacios\n",
    "\n",
    "    # Calcular el porcentaje de valores faltantes\n",
    "    porcentaje_nulos = (total_nulos / len(data)) * 100\n",
    "    porcentaje_vacios = (total_vacios / len(data)) * 100\n",
    "\n",
    "    # Crear DataFrame con el resumen de valores faltantes\n",
    "    tt = pd.concat([total_nulos, porcentaje_nulos, total_vacios, porcentaje_vacios], axis=1, keys=['Total Nulos', 'Porcentaje Nulos', 'Total Vacios', 'Porcentaje Vacios'])\n",
    "\n",
    "    # Identificar los tipos de datos de las columnas\n",
    "    tt['Tipos'] = [str(data[col].dtype) for col in data.columns]\n",
    "\n",
    "    return np.transpose(tt)\n",
    "\n",
    "valores_faltantes(games_copy)"
   ]
  },
  {
   "cell_type": "code",
   "execution_count": 52,
   "metadata": {},
   "outputs": [],
   "source": [
    "games_copy.to_parquet('ext_bdgames.parquet', index=False)"
   ]
  }
 ],
 "metadata": {
  "kernelspec": {
   "display_name": "Python 3",
   "language": "python",
   "name": "python3"
  },
  "language_info": {
   "codemirror_mode": {
    "name": "ipython",
    "version": 3
   },
   "file_extension": ".py",
   "mimetype": "text/x-python",
   "name": "python",
   "nbconvert_exporter": "python",
   "pygments_lexer": "ipython3",
   "version": "3.12.3"
  }
 },
 "nbformat": 4,
 "nbformat_minor": 2
}
